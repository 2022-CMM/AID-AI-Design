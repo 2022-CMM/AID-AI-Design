{
 "cells": [
  {
   "cell_type": "markdown",
   "id": "14adf466",
   "metadata": {},
   "source": [
    "## C_data(clothes dataset, 의류 데이터셋) 전처리"
   ]
  },
  {
   "cell_type": "code",
   "execution_count": 1,
   "id": "3f3e80ea",
   "metadata": {},
   "outputs": [],
   "source": [
    "import os\n",
    "import json\n",
    "import shutil\n",
    "from tqdm import tqdm"
   ]
  },
  {
   "cell_type": "code",
   "execution_count": 2,
   "id": "5aac9449",
   "metadata": {},
   "outputs": [
    {
     "data": {
      "text/plain": [
       "['.idea',\n",
       " '.ipynb_checkpoints',\n",
       " '243657.json',\n",
       " '267.json',\n",
       " '268.json',\n",
       " 'c_data_1024',\n",
       " 'c_data_1024.zip',\n",
       " 'c_data_512',\n",
       " 'c_data_512.zip',\n",
       " 'c_data_720',\n",
       " 'c_data_720.zip',\n",
       " 'c_data_preprocess.ipynb',\n",
       " 'data',\n",
       " 'documents',\n",
       " 'Item-Image',\n",
       " 'Item-Parse_f',\n",
       " 'model',\n",
       " 'stylegan2_ada_pytorch',\n",
       " 'stylegan2_ada_pytorch.zip',\n",
       " 'train.ipynb']"
      ]
     },
     "execution_count": 2,
     "metadata": {},
     "output_type": "execute_result"
    }
   ],
   "source": [
    "# 현재위치\n",
    "os.listdir('./')"
   ]
  },
  {
   "cell_type": "code",
   "execution_count": 3,
   "id": "7cc7c5fd",
   "metadata": {
    "scrolled": true
   },
   "outputs": [],
   "source": [
    "# 데이터 확인 및 선정\n",
    "json_file_path = \"./Item-Parse_f\"\n",
    "\n",
    "# product_filename : product_type dictionary 처리\n",
    "product_category = {}\n",
    "for json_file in os.listdir(json_file_path) :\n",
    "    with open(f\"{json_file_path}/{json_file}\",\"r\") as js_f :\n",
    "        j = json.load(js_f)\n",
    "        category = j[\"category_name\"]\n",
    "        pname = j[\"file_name\"]\n",
    "        product_category[pname] = category\n",
    "        \n",
    "#         # 확인 코드\n",
    "#         if ptype == \"skirt_hidden\": \n",
    "#             print(pname + \" = skirt_hidden\")\n",
    "#             break"
   ]
  },
  {
   "cell_type": "code",
   "execution_count": 3,
   "id": "09aba64f",
   "metadata": {},
   "outputs": [],
   "source": [
    "import PIL.Image as Image"
   ]
  },
  {
   "cell_type": "code",
   "execution_count": 10,
   "id": "89e25155",
   "metadata": {},
   "outputs": [
    {
     "data": {
      "text/plain": [
       "(720, 1280)"
      ]
     },
     "execution_count": 10,
     "metadata": {},
     "output_type": "execute_result"
    }
   ],
   "source": [
    "img = Image.open(r\"C:\\Users\\User\\Desktop\\2022\\KPMG\\1008002_F.jpg\")\n",
    "img.size"
   ]
  },
  {
   "cell_type": "code",
   "execution_count": 4,
   "id": "820bdf5e",
   "metadata": {},
   "outputs": [
    {
     "name": "stdout",
     "output_type": "stream",
     "text": [
      "{'bottoms', 'outerwear', 'shoes', 'tops', 'cap_and_hat'}\n"
     ]
    }
   ],
   "source": [
    "# print Unique value Label\n",
    "s = set()\n",
    "for val in product_category.values():\n",
    "      s.add(val)\n",
    "print(s)"
   ]
  },
  {
   "cell_type": "markdown",
   "id": "ad5afaa9",
   "metadata": {},
   "source": [
    "### 옷(라벨) 선정 기준\n",
    "- rsleeve, lsleeve 차이를 잘 모르겠음.\n",
    "Guideline기준 상의 의류, 하의 의류 모두 포함 하도록 함\n",
    "> bottoms, tops, outerwear\n",
    "\n",
    "- f,b는 forward, back으로 옷의 앞면 뒷면 이미지 사진인데 data augmentation 느낌으로 그냥 제외 안하고 전부 사용하도록 함"
   ]
  },
  {
   "cell_type": "code",
   "execution_count": 5,
   "id": "52ea8a2d",
   "metadata": {},
   "outputs": [
    {
     "name": "stderr",
     "output_type": "stream",
     "text": [
      "100%|██████████| 33170/33170 [00:10<00:00, 3309.50it/s]\n"
     ]
    }
   ],
   "source": [
    "jpg_extract = []\n",
    "category_list = ['bottoms', 'tops', 'outerwear']\n",
    "\n",
    "for json_file in tqdm(os.listdir(json_file_path)) :\n",
    "    with open(f\"{json_file_path}/{json_file}\",\"r\") as js_f :\n",
    "        j = json.load(js_f)\n",
    "        category = j['category_name']\n",
    "        pname = j[\"file_name\"]\n",
    "        if category in category_list : \n",
    "            jpg_extract.append(pname)"
   ]
  },
  {
   "cell_type": "code",
   "execution_count": 6,
   "id": "192b0977",
   "metadata": {},
   "outputs": [
    {
     "data": {
      "text/plain": [
       "['0928015_B.jpg',\n",
       " '0928015_F.jpg',\n",
       " '0929029_B.jpg',\n",
       " '0929029_F.jpg',\n",
       " '1008001_B.jpg']"
      ]
     },
     "execution_count": 6,
     "metadata": {},
     "output_type": "execute_result"
    }
   ],
   "source": [
    "jpg_extract[:5]"
   ]
  },
  {
   "cell_type": "markdown",
   "id": "7f661f54",
   "metadata": {},
   "source": [
    "### 이미지 해상도 -> Resize 처리"
   ]
  },
  {
   "cell_type": "code",
   "execution_count": 7,
   "id": "ae2ddb45",
   "metadata": {},
   "outputs": [],
   "source": [
    "from PIL import Image"
   ]
  },
  {
   "cell_type": "code",
   "execution_count": 8,
   "id": "527ea59c",
   "metadata": {},
   "outputs": [
    {
     "data": {
      "text/plain": [
       "(720, 1280)"
      ]
     },
     "execution_count": 8,
     "metadata": {},
     "output_type": "execute_result"
    }
   ],
   "source": [
    "img = Image.open('./item-Image/0928015_B.jpg')\n",
    "img.size"
   ]
  },
  {
   "cell_type": "code",
   "execution_count": 9,
   "id": "a7f38f3e",
   "metadata": {},
   "outputs": [
    {
     "name": "stderr",
     "output_type": "stream",
     "text": [
      "100%|██████████| 33170/33170 [11:44<00:00, 47.09it/s] \n"
     ]
    }
   ],
   "source": [
    "# 이미지 해상도 처리(crop, resize), 파일 옮기기\n",
    "\n",
    "file_source = './Item-Image'\n",
    "file_destination = './c_data_512'\n",
    "\n",
    "try : \n",
    "    os.makedirs(file_destination)\n",
    "except :\n",
    "    pass\n",
    "\n",
    "get_files = os.listdir(file_source)\n",
    "\n",
    "for img_file in tqdm(get_files):\n",
    "    if img_file in jpg_extract :\n",
    "        filename = file_source +'/'+ img_file\n",
    "        img = Image.open(filename)\n",
    "        # 이미지를 720 x 720 Cropping \n",
    "        area = (0,280,720,1000)\n",
    "        cropped_img = img.crop(area)\n",
    "        \n",
    "#         # 이후 해상도에 맞게 Resize(1024,1024)\n",
    "        cropped_img = cropped_img.resize((512,512))\n",
    "        \n",
    "        move_filename = file_destination + '/' + img_file        \n",
    "        cropped_img.save(move_filename,\"jpeg\", quality = 95)"
   ]
  },
  {
   "cell_type": "code",
   "execution_count": 39,
   "id": "9203fe20",
   "metadata": {},
   "outputs": [
    {
     "name": "stderr",
     "output_type": "stream",
     "text": [
      "100%|██████████| 33170/33170 [22:51<00:00, 24.18it/s] \n"
     ]
    }
   ],
   "source": [
    "# 이미지 해상도 처리(crop, resize), 파일 옮기기\n",
    "\n",
    "file_source = './Item-Image'\n",
    "file_destination = './c_data_1024'\n",
    "\n",
    "try : \n",
    "    os.makedirs(file_destination)\n",
    "except :\n",
    "    pass\n",
    "\n",
    "get_files = os.listdir(file_source)\n",
    "\n",
    "for img_file in tqdm(get_files):\n",
    "    if img_file in jpg_extract :\n",
    "        filename = file_source +'/'+ img_file\n",
    "        img = Image.open(filename)\n",
    "        # 이미지를 720 x 720 Cropping \n",
    "        area = (0,280,720,1000)\n",
    "        cropped_img = img.crop(area)\n",
    "        \n",
    "        # 이후 해상도에 맞게 Resize(1024,1024)\n",
    "        cropped_img = cropped_img.resize((1024,1024))\n",
    "        \n",
    "        move_filename = file_destination + '/' + img_file        \n",
    "        cropped_img.save(move_filename,\"jpeg\", quality = 95)"
   ]
  },
  {
   "cell_type": "markdown",
   "id": "8991c722",
   "metadata": {},
   "source": [
    "### f_data 전처리 살짝 맛보기"
   ]
  },
  {
   "cell_type": "code",
   "execution_count": 64,
   "id": "95bb2ad8",
   "metadata": {
    "scrolled": true
   },
   "outputs": [
    {
     "name": "stdout",
     "output_type": "stream",
     "text": [
      "{'이미지 정보': {'이미지 식별자': 267, '이미지 높이': 800, '이미지 파일명': 'Thenew_015_00_M_지니OPS.jpg', '이미지 너비': 800}, '데이터셋 정보': {'파일 생성일자': '2020-08-03 01:53:41', '데이터셋 상세설명': {'렉트좌표': {'아우터': [{}], '하의': [{}], '원피스': [{'X좌표': 278.5, 'Y좌표': 56.5, '가로': 303, '세로': 714}], '상의': [{}]}, '폴리곤좌표': {'아우터': [{}], '하의': [{}], '원피스': [{'Y좌표9': 751.0, 'X좌표17': 430.0, 'X좌표16': 446.0, 'X좌표15': 529.0, 'X좌표14': 554.0, 'X좌표13': 582.0, 'X좌표12': 562.0, 'X좌표11': 579.0, 'Y좌표4': 180.0, 'X좌표10': 578.0, 'Y좌표3': 114.0, 'Y좌표2': 58.0, 'Y좌표1': 57.0, 'Y좌표8': 704.0, 'Y좌표7': 402.0, 'Y좌표6': 332.0, 'Y좌표5': 222.0, 'Y좌표15': 108.0, 'Y좌표14': 61.0, 'X좌표8': 279.0, 'Y좌표17': 62.0, 'X좌표9': 411.0, 'Y좌표16': 100.0, 'Y좌표11': 384.0, 'Y좌표10': 771.0, 'Y좌표13': 60.0, 'Y좌표12': 160.0, 'X좌표2': 411.0, 'X좌표3': 416.0, 'X좌표1': 429.0, 'X좌표6': 384.0, 'X좌표7': 327.0, 'X좌표4': 414.0, 'X좌표5': 424.0}], '상의': [{}]}, '라벨링': {'스타일': [{'스타일': '레트로', '서브스타일': '리조트'}], '아우터': [{}], '하의': [{}], '원피스': [{'기장': '발목', '색상': '블랙', '서브색상': '화이트', '카테고리': '드레스', '소매기장': '민소매', '소재': ['우븐'], '프린트': ['도트'], '넥라인': '스퀘어넥', '핏': '노멀'}], '상의': [{}]}}, '파일 번호': 267, '파일 이름': 'Thenew_015_00_M_지니OPS.jpg'}}\n"
     ]
    }
   ],
   "source": [
    "# 데이터 확인 및 선정\n",
    "test_path = \"./267.json\"\n",
    "with open(test_path,\"r\", encoding='utf-8') as js_f :\n",
    "    j = json.load(js_f)\n",
    "    print(j)"
   ]
  },
  {
   "cell_type": "code",
   "execution_count": 66,
   "id": "cd69a2ed",
   "metadata": {
    "scrolled": true
   },
   "outputs": [
    {
     "data": {
      "text/plain": [
       "'2020-08-03 01:53:41'"
      ]
     },
     "execution_count": 66,
     "metadata": {},
     "output_type": "execute_result"
    }
   ],
   "source": [
    "split_text = j['데이터셋 정보']['파일 생성일자']\n",
    "split_text"
   ]
  },
  {
   "cell_type": "code",
   "execution_count": 45,
   "id": "6913a2e3",
   "metadata": {
    "scrolled": true
   },
   "outputs": [
    {
     "data": {
      "text/plain": [
       "243657"
      ]
     },
     "execution_count": 45,
     "metadata": {},
     "output_type": "execute_result"
    }
   ],
   "source": [
    "j['이미지 정보']['이미지 식별자']"
   ]
  },
  {
   "cell_type": "code",
   "execution_count": null,
   "id": "309a8339",
   "metadata": {},
   "outputs": [],
   "source": [
    "# 데이터 확인 및 선정\n",
    "high_path = \"JSON_FILE_PATH\" #이거바꾸셈\n",
    "filename = \"\"\n",
    "filename_count = 0\n",
    "\n",
    "\n",
    "# product_filename : product_type dictionary 처리\n",
    "unique_jpg = []\n",
    "for low_path in os.listdir(high_path) :\n",
    "    #모던 뭐시기 한번 들어가서\n",
    "    json_file_path = f\"{high_path}/{low_path}\"\n",
    "    for json_file in os.listdir(json_file_path) :\n",
    "        with open(f\"{json_file_path}/{json_file}\",\"r\", encoding = 'utf-8') as js_f :\n",
    "            j = json.load(js_f)\n",
    "#             split_text = j['데이터셋']['이미지 파일명'].split('_')\n",
    "#             new_fliename = split_text[0] + '_' + split_text[1]\n",
    "            file_time = j['데이터셋 정보']['파일 생성일자']\n",
    "            \n",
    "\n",
    "            # filename과 new_filename이 같나요?\n",
    "            if filename == new_filename :\n",
    "                filename_count += 1\n",
    "            else :\n",
    "                filename = new_filename #달라요! -> 갱신\n",
    "                filename_count == 0\n",
    "\n",
    "\n",
    "            # count가 1이라면, 라벨이 이미지에 안붙어 있는 바로 뒤의 이미지군요!\n",
    "            if filename_count == 1:\n",
    "                unique_jpg.append(json_file.replace('.json','.jpg'))\n",
    "            else :\n",
    "                pass #아니면 저장안함!\n"
   ]
  },
  {
   "cell_type": "code",
   "execution_count": 62,
   "id": "54ed77cf",
   "metadata": {},
   "outputs": [
    {
     "name": "stdout",
     "output_type": "stream",
     "text": [
      "{'이미지 정보': {'이미지 식별자': 268, '이미지 높이': 800, '이미지 파일명': 'Thenew_015_01.jpg', '이미지 너비': 800}, '데이터셋 정보': {'파일 생성일자': '2020-08-03 01:53:41', '데이터셋 상세설명': {'렉트좌표': {'아우터': [{}], '하의': [{}], '원피스': [{'X좌표': 219.5, 'Y좌표': 52.5, '가로': 304, '세로': 722}], '상의': [{}]}, '폴리곤좌표': {'아우터': [{}], '하의': [{}], '원피스': [{'Y좌표9': 555.0, 'Y좌표21': 54.0, 'Y좌표20': 92.0, 'X좌표19': 411.0, 'X좌표18': 474.0, 'X좌표17': 494.0, 'X좌표16': 522.0, 'X좌표15': 519.0, 'X좌표14': 509.0, 'X좌표13': 523.0, 'X좌표12': 524.0, 'X좌표11': 358.0, 'Y좌표4': 172.0, 'X좌표10': 220.0, 'Y좌표3': 110.0, 'Y좌표2': 54.0, 'Y좌표1': 53.0, 'Y좌표8': 386.0, 'Y좌표7': 333.0, 'Y좌표6': 265.0, 'Y좌표5': 210.0, 'Y좌표15': 115.0, 'Y좌표14': 199.0, 'X좌표8': 274.0, 'Y좌표17': 55.0, 'X좌표9': 252.0, 'Y좌표16': 66.0, 'Y좌표11': 754.0, 'Y좌표10': 704.0, 'Y좌표13': 488.0, 'Y좌표12': 775.0, 'X좌표2': 350.0, 'X좌표21': 378.0, 'X좌표3': 356.0, 'X좌표20': 383.0, 'X좌표1': 376.0, 'X좌표6': 351.0, 'Y좌표19': 106.0, 'X좌표7': 321.0, 'Y좌표18': 104.0, 'X좌표4': 352.0, 'X좌표5': 358.0}], '상의': [{}]}, '라벨링': {'스타일': [{'스타일': '레트로', '서브스타일': '리조트'}], '아우터': [{}], '하의': [{}], '원피스': [{'기장': '발목', '색상': '블랙', '서브색상': '화이트', '카테고리': '드레스', '소매기장': '민소매', '소재': ['우븐'], '프린트': ['도트'], '넥라인': '스퀘어넥', '핏': '노멀'}], '상의': [{}]}}, '파일 번호': 268, '파일 이름': 'Thenew_015_01.jpg'}}\n"
     ]
    }
   ],
   "source": [
    "# 데이터 확인 및 선정\n",
    "test_path = \"./268.json\"\n",
    "with open(test_path,\"r\", encoding='utf-8') as js_f :\n",
    "    j = json.load(js_f)\n",
    "    print(j)"
   ]
  },
  {
   "cell_type": "code",
   "execution_count": 63,
   "id": "81e7b631",
   "metadata": {},
   "outputs": [
    {
     "name": "stdout",
     "output_type": "stream",
     "text": [
      "{'이미지 정보': {'이미지 식별자': 267, '이미지 높이': 800, '이미지 파일명': 'Thenew_015_00_M_지니OPS.jpg', '이미지 너비': 800}, '데이터셋 정보': {'파일 생성일자': '2020-08-03 01:53:41', '데이터셋 상세설명': {'렉트좌표': {'아우터': [{}], '하의': [{}], '원피스': [{'X좌표': 278.5, 'Y좌표': 56.5, '가로': 303, '세로': 714}], '상의': [{}]}, '폴리곤좌표': {'아우터': [{}], '하의': [{}], '원피스': [{'Y좌표9': 751.0, 'X좌표17': 430.0, 'X좌표16': 446.0, 'X좌표15': 529.0, 'X좌표14': 554.0, 'X좌표13': 582.0, 'X좌표12': 562.0, 'X좌표11': 579.0, 'Y좌표4': 180.0, 'X좌표10': 578.0, 'Y좌표3': 114.0, 'Y좌표2': 58.0, 'Y좌표1': 57.0, 'Y좌표8': 704.0, 'Y좌표7': 402.0, 'Y좌표6': 332.0, 'Y좌표5': 222.0, 'Y좌표15': 108.0, 'Y좌표14': 61.0, 'X좌표8': 279.0, 'Y좌표17': 62.0, 'X좌표9': 411.0, 'Y좌표16': 100.0, 'Y좌표11': 384.0, 'Y좌표10': 771.0, 'Y좌표13': 60.0, 'Y좌표12': 160.0, 'X좌표2': 411.0, 'X좌표3': 416.0, 'X좌표1': 429.0, 'X좌표6': 384.0, 'X좌표7': 327.0, 'X좌표4': 414.0, 'X좌표5': 424.0}], '상의': [{}]}, '라벨링': {'스타일': [{'스타일': '레트로', '서브스타일': '리조트'}], '아우터': [{}], '하의': [{}], '원피스': [{'기장': '발목', '색상': '블랙', '서브색상': '화이트', '카테고리': '드레스', '소매기장': '민소매', '소재': ['우븐'], '프린트': ['도트'], '넥라인': '스퀘어넥', '핏': '노멀'}], '상의': [{}]}}, '파일 번호': 267, '파일 이름': 'Thenew_015_00_M_지니OPS.jpg'}}\n"
     ]
    }
   ],
   "source": [
    "# 데이터 확인 및 선정\n",
    "test_path = \"./267.json\"\n",
    "with open(test_path,\"r\", encoding='utf-8') as js_f :\n",
    "    j = json.load(js_f)\n",
    "    print(j)"
   ]
  },
  {
   "cell_type": "code",
   "execution_count": null,
   "id": "b703f72d",
   "metadata": {},
   "outputs": [],
   "source": []
  }
 ],
 "metadata": {
  "kernelspec": {
   "display_name": "Python 3 (ipykernel)",
   "language": "python",
   "name": "python3"
  },
  "language_info": {
   "codemirror_mode": {
    "name": "ipython",
    "version": 3
   },
   "file_extension": ".py",
   "mimetype": "text/x-python",
   "name": "python",
   "nbconvert_exporter": "python",
   "pygments_lexer": "ipython3",
   "version": "3.8.12"
  }
 },
 "nbformat": 4,
 "nbformat_minor": 5
}
