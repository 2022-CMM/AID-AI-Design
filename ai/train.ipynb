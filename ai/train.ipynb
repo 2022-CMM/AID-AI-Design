{
  "cells": [
    {
      "cell_type": "markdown",
      "metadata": {
        "id": "_9qbVplkZYjp"
      },
      "source": [
        "![Jeff Heaton](https://raw.githubusercontent.com/jeffheaton/present/master/images/github.jpg)\n",
        "\n",
        "Copyright 2021 by [Jeff Heaton](https://www.youtube.com/channel/UCR1-GEpyOPzT2AO4D_eifdw), [released under Apache 2.0 license](https://github.com/jeffheaton/present/blob/master/LICENSE)\n",
        "# Training StyleGAN2 in Google CoLab\n",
        "\n",
        "GANs can be trained with either Google Colab Free or Pro.  The Pro version is reccomended due to better GPU instances, longer runtimes, and timeouts.  Make sure that you are running this notebook with a GPU runtime.\n",
        "\n",
        "Your training data and trained neural networks will be stored to GDRIVE.  For GANs, I lay out my GDRIVE like this:\n",
        "\n",
        "* ./data/gan/images - RAW images I wish to train on.\n",
        "* ./data/gan/datasets - Actual training datasets that I convert from the raw images.\n",
        "* ./data/gan/experiments - The output from StyleGAN2, my image previews and saved network snapshots.\n",
        "\n",
        "The drive is mounted to the following location.\n",
        "\n",
        "```\n",
        "/content/drive/MyDrive/data\n",
        "```\n",
        "\n",
        "\n",
        "# What Sort of GPU do you Have?\n",
        "\n",
        "The type of GPU assigned to you by Colab will greatly affect your training time. Some sample times that I achieved with Colab are given here.  I've found that Colab Pro generally starts you with a V100, however, if you run scripts non-stop for 24hrs straight for a few days in a row, you will generally be throttled back to a P100.\n",
        "\n",
        "* 1024x1024 - V100 - 566 sec/tick (CoLab Pro)\n",
        "* 1024x1024 - P100 - 1819 sec/tick (CoLab Pro)\n",
        "* 1024x1024 - T4 - 2188 sec/tick (CoLab Free)\n",
        "\n",
        "If you use Google CoLab Pro, generally, it will not disconnect before 24 hours, even if you (but not your script) are inactive.  Free CoLab WILL disconnect a perfectly good running script if you do not interact for a few hours.  The following describes how to circumvent this issue.\n",
        "\n",
        "* [How to prevent Google Colab from disconnecting?](https://stackoverflow.com/questions/57113226/how-to-prevent-google-colab-from-disconnecting)\n"
      ]
    },
    {
      "cell_type": "code",
      "execution_count": 1,
      "metadata": {
        "colab": {
          "base_uri": "https://localhost:8080/"
        },
        "id": "iPrGcTX8c7E-",
        "outputId": "aadadfcc-0033-4d44-bb74-4fbce7668ae0"
      },
      "outputs": [
        {
          "name": "stdout",
          "output_type": "stream",
          "text": [
            "Fri Feb  4 09:59:36 2022       \n",
            "+-----------------------------------------------------------------------------+\n",
            "| NVIDIA-SMI 460.32.03    Driver Version: 460.32.03    CUDA Version: 11.2     |\n",
            "|-------------------------------+----------------------+----------------------+\n",
            "| GPU  Name        Persistence-M| Bus-Id        Disp.A | Volatile Uncorr. ECC |\n",
            "| Fan  Temp  Perf  Pwr:Usage/Cap|         Memory-Usage | GPU-Util  Compute M. |\n",
            "|                               |                      |               MIG M. |\n",
            "|===============================+======================+======================|\n",
            "|   0  Tesla P100-PCIE...  Off  | 00000000:00:04.0 Off |                    0 |\n",
            "| N/A   34C    P0    28W / 250W |      0MiB / 16280MiB |      0%      Default |\n",
            "|                               |                      |                  N/A |\n",
            "+-------------------------------+----------------------+----------------------+\n",
            "                                                                               \n",
            "+-----------------------------------------------------------------------------+\n",
            "| Processes:                                                                  |\n",
            "|  GPU   GI   CI        PID   Type   Process name                  GPU Memory |\n",
            "|        ID   ID                                                   Usage      |\n",
            "|=============================================================================|\n",
            "|  No running processes found                                                 |\n",
            "+-----------------------------------------------------------------------------+\n"
          ]
        }
      ],
      "source": [
        "!nvidia-smi"
      ]
    },
    {
      "cell_type": "markdown",
      "metadata": {
        "id": "wzWrFN_tGV-Y"
      },
      "source": [
        "# Set Up New Environment\n",
        "\n",
        "You will likely need to train for >24 hours.  Colab will disconnect you.  You must be prepared to restart training when this eventually happens.  Training is divided into ticks, every so many ticks (50 by default) your neural network is evaluated and a snapshot is saved.  When CoLab shuts down, all training after the last snapshot is lost. It might seem desirable to snapshot after each tick; however, this snapshotting process itself takes nearly an hour.  It is important to learn an optimal snapshot size for your resolution and training data.\n",
        "\n",
        "We will mount GDRIVE so that your snapshots are saved there.  You must also place your training images in GDRIVE."
      ]
    },
    {
      "cell_type": "code",
      "execution_count": 3,
      "metadata": {
        "colab": {
          "base_uri": "https://localhost:8080/"
        },
        "id": "uxs1j1bk_fwj",
        "outputId": "b94078d6-6c2b-4897-cb11-7d1082cda3d0"
      },
      "outputs": [
        {
          "name": "stdout",
          "output_type": "stream",
          "text": [
            "Mounted at /content/drive\n",
            "Note: using Google CoLab\n"
          ]
        }
      ],
      "source": [
        "try:\n",
        "    from google.colab import drive\n",
        "    drive.mount('/content/drive', force_remount=True)\n",
        "    COLAB = True\n",
        "    print(\"Note: using Google CoLab\")\n",
        "except:\n",
        "    print(\"Note: not using Google CoLab\")\n",
        "    COLAB = False"
      ]
    },
    {
      "cell_type": "markdown",
      "metadata": {
        "id": "X41Ll0WtYqB0"
      },
      "source": [
        "You must also install NVIDIA StyleGAN2 ADA PyTorch.  We also need to downgrade PyTorch to a version that supports StyleGAN."
      ]
    },
    {
      "cell_type": "code",
      "execution_count": 4,
      "metadata": {
        "colab": {
          "base_uri": "https://localhost:8080/"
        },
        "id": "3e1XDAq_9kF8",
        "outputId": "38f4b589-4213-4e51-bf9f-bcf5b7326584"
      },
      "outputs": [
        {
          "name": "stdout",
          "output_type": "stream",
          "text": [
            "/content/drive/MyDrive/kpmg\n"
          ]
        }
      ],
      "source": [
        "cd /content/drive/MyDrive/kpmg/"
      ]
    },
    {
      "cell_type": "code",
      "execution_count": 5,
      "metadata": {
        "colab": {
          "base_uri": "https://localhost:8080/"
        },
        "id": "uNqsi6VWAlWo",
        "outputId": "49ff26a7-16f1-42a4-e871-22c9c381be7b"
      },
      "outputs": [
        {
          "name": "stdout",
          "output_type": "stream",
          "text": [
            "Collecting torch==1.8.1\n",
            "  Downloading torch-1.8.1-cp37-cp37m-manylinux1_x86_64.whl (804.1 MB)\n",
            "\u001b[K     |████████████████████████████████| 804.1 MB 2.6 kB/s \n",
            "\u001b[?25hCollecting torchvision==0.9.1\n",
            "  Downloading torchvision-0.9.1-cp37-cp37m-manylinux1_x86_64.whl (17.4 MB)\n",
            "\u001b[K     |████████████████████████████████| 17.4 MB 388 kB/s \n",
            "\u001b[?25hRequirement already satisfied: typing-extensions in /usr/local/lib/python3.7/dist-packages (from torch==1.8.1) (3.10.0.2)\n",
            "Requirement already satisfied: numpy in /usr/local/lib/python3.7/dist-packages (from torch==1.8.1) (1.19.5)\n",
            "Requirement already satisfied: pillow>=4.1.1 in /usr/local/lib/python3.7/dist-packages (from torchvision==0.9.1) (7.1.2)\n",
            "Installing collected packages: torch, torchvision\n",
            "  Attempting uninstall: torch\n",
            "    Found existing installation: torch 1.10.0+cu111\n",
            "    Uninstalling torch-1.10.0+cu111:\n",
            "      Successfully uninstalled torch-1.10.0+cu111\n",
            "  Attempting uninstall: torchvision\n",
            "    Found existing installation: torchvision 0.11.1+cu111\n",
            "    Uninstalling torchvision-0.11.1+cu111:\n",
            "      Successfully uninstalled torchvision-0.11.1+cu111\n",
            "\u001b[31mERROR: pip's dependency resolver does not currently take into account all the packages that are installed. This behaviour is the source of the following dependency conflicts.\n",
            "torchtext 0.11.0 requires torch==1.10.0, but you have torch 1.8.1 which is incompatible.\n",
            "torchaudio 0.10.0+cu111 requires torch==1.10.0, but you have torch 1.8.1 which is incompatible.\u001b[0m\n",
            "Successfully installed torch-1.8.1 torchvision-0.9.1\n",
            "Collecting ninja\n",
            "  Downloading ninja-1.10.2.3-py2.py3-none-manylinux_2_5_x86_64.manylinux1_x86_64.whl (108 kB)\n",
            "\u001b[K     |████████████████████████████████| 108 kB 13.4 MB/s \n",
            "\u001b[?25hInstalling collected packages: ninja\n",
            "Successfully installed ninja-1.10.2.3\n"
          ]
        }
      ],
      "source": [
        "!pip install torch==1.8.1 torchvision==0.9.1\n",
        "# !git clone https://github.com/NVlabs/stylegan2-ada-pytorch.git\n",
        "!pip install ninja"
      ]
    },
    {
      "cell_type": "markdown",
      "metadata": {
        "id": "_snJl4FEGi4w"
      },
      "source": [
        "# Find Your Files\n",
        "\n",
        "The drive is mounted to the following location.\n",
        "\n",
        "```\n",
        "/content/drive/MyDrive/data\n",
        "```\n",
        "\n",
        "It might be helpful to use an ```ls``` command to establish the exact path for your images."
      ]
    },
    {
      "cell_type": "code",
      "execution_count": 6,
      "metadata": {
        "colab": {
          "base_uri": "https://localhost:8080/"
        },
        "id": "LGdFfTSXBBr5",
        "outputId": "ae895333-64d7-4207-b095-9080bb56ec56"
      },
      "outputs": [
        {
          "name": "stdout",
          "output_type": "stream",
          "text": [
            "dataset  experiments  image\n"
          ]
        }
      ],
      "source": [
        "!ls ./data"
      ]
    },
    {
      "cell_type": "markdown",
      "metadata": {
        "id": "JXAgXh8uGo13"
      },
      "source": [
        "# Convert Your Images"
      ]
    },
    {
      "cell_type": "markdown",
      "metadata": {
        "id": "cU8qmtTXlRvq"
      },
      "source": [
        "이미지 크기가 정사각형이고, 픽셀 크기가 짝수여야 함 ex) 1024*1024"
      ]
    },
    {
      "cell_type": "code",
      "execution_count": null,
      "metadata": {
        "colab": {
          "base_uri": "https://localhost:8080/"
        },
        "id": "lYP2NlwHA6r9",
        "outputId": "23173d83-5f89-4408-a473-86426f9bbf09"
      },
      "outputs": [
        {
          "name": "stdout",
          "output_type": "stream",
          "text": [
            " 80% 4/5 [00:00<00:00, 12.94it/s]Error: Image 00000/img00000004.png attributes must be equal across all images of the dataset.  Got:\n",
            "  dataset width/cur image width: 1024/1023\n",
            "  dataset height/cur image height: 1024/1024\n",
            "  dataset channels/cur image channels: 3/3\n",
            " 80% 4/5 [00:00<00:00, 12.10it/s]\n"
          ]
        }
      ],
      "source": [
        "!python ./stylegan2-ada-pytorch/dataset_tool.py --source ./data --dest ./data/dataset"
      ]
    },
    {
      "cell_type": "markdown",
      "metadata": {
        "id": "otsNELpn8_2D"
      },
      "source": [
        "The following command can be used to clear out the newly created dataset.  If something goes wrong and you need to clean up your images and rerun the above command, you should delete your partially created dataset directory."
      ]
    },
    {
      "cell_type": "code",
      "execution_count": null,
      "metadata": {
        "id": "ctdqmU96BhB3"
      },
      "outputs": [],
      "source": [
        "#!rm -R /content/drive/MyDrive/data/gan/dataset/circuit/*"
      ]
    },
    {
      "cell_type": "markdown",
      "metadata": {
        "id": "xmSOo3HvGwgV"
      },
      "source": [
        "# Clean Up your Images\n",
        "\n",
        "It is important that all images have the same dimensions and color depth.  This code can identify images that have issues."
      ]
    },
    {
      "cell_type": "code",
      "execution_count": null,
      "metadata": {
        "colab": {
          "base_uri": "https://localhost:8080/",
          "height": 68,
          "referenced_widgets": [
            "041b30e269194c69a47cea82c08fe066",
            "fbd7fbc174c14b7883a66ee102125e86",
            "03a0e35b991e4e7da62aedee8a9fd519",
            "e781b9b41b174f40b444ac05c1ffc077",
            "3fd93ee23ad54802ab6288f9115437c0",
            "daf8834707cd47fba1f46528976d2853",
            "daadde549b274b73b83f252dea5d9d12",
            "81cefec65c044c738a2e4578afb4c715",
            "dbfc03d598f04b50b6845ae0153b1e62",
            "09cb4d7533534d99866c36d0f92d9089",
            "ff06a4db4d0849ceaaea97b88252c7ac"
          ]
        },
        "id": "FLKBUUfXHJ0a",
        "outputId": "d3b8f974-fd7f-4160-a009-8c2cbae15b03"
      },
      "outputs": [
        {
          "data": {
            "application/vnd.jupyter.widget-view+json": {
              "model_id": "041b30e269194c69a47cea82c08fe066",
              "version_major": 2,
              "version_minor": 0
            },
            "text/plain": [
              "  0%|          | 0/5 [00:00<?, ?it/s]"
            ]
          },
          "metadata": {},
          "output_type": "display_data"
        },
        {
          "name": "stdout",
          "output_type": "stream",
          "text": [
            "Inconsistant size: ./data/image/10004.jpg\n"
          ]
        }
      ],
      "source": [
        "from os import listdir\n",
        "from os.path import isfile, join\n",
        "import os\n",
        "from PIL import Image\n",
        "from tqdm.notebook import tqdm\n",
        "\n",
        "IMAGE_PATH = './data/image'\n",
        "files = [f for f in listdir(IMAGE_PATH) if isfile(join(IMAGE_PATH, f))]\n",
        "\n",
        "base_size = None\n",
        "for file in tqdm(files):\n",
        "  file2 = os.path.join(IMAGE_PATH,file)\n",
        "  img = Image.open(file2)\n",
        "  sz = img.size\n",
        "  if base_size and sz!=base_size:\n",
        "    print(f\"Inconsistant size: {file2}\")\n",
        "  elif img.mode!='RGB':\n",
        "    print(f\"Inconsistant color format: {file2}\")\n",
        "  else:\n",
        "    base_size = sz\n"
      ]
    },
    {
      "cell_type": "markdown",
      "metadata": {
        "id": "5No-bokaG5Ed"
      },
      "source": [
        "# Perform Initial Training"
      ]
    },
    {
      "cell_type": "code",
      "execution_count": null,
      "metadata": {
        "colab": {
          "base_uri": "https://localhost:8080/"
        },
        "id": "tzAdHMp7KLzz",
        "outputId": "8506dc41-3011-44e6-86c0-3f921cb7c643"
      },
      "outputs": [
        {
          "name": "stdout",
          "output_type": "stream",
          "text": [
            "\n",
            "Training options:\n",
            "{\n",
            "  \"num_gpus\": 1,\n",
            "  \"image_snapshot_ticks\": 10,\n",
            "  \"network_snapshot_ticks\": 10,\n",
            "  \"metrics\": [\n",
            "    \"fid50k_full\"\n",
            "  ],\n",
            "  \"random_seed\": 0,\n",
            "  \"training_set_kwargs\": {\n",
            "    \"class_name\": \"training.dataset.ImageFolderDataset\",\n",
            "    \"path\": \"./data/dataset\",\n",
            "    \"use_labels\": false,\n",
            "    \"max_size\": 4,\n",
            "    \"xflip\": false,\n",
            "    \"resolution\": 1024\n",
            "  },\n",
            "  \"data_loader_kwargs\": {\n",
            "    \"pin_memory\": true,\n",
            "    \"num_workers\": 3,\n",
            "    \"prefetch_factor\": 2\n",
            "  },\n",
            "  \"G_kwargs\": {\n",
            "    \"class_name\": \"training.networks.Generator\",\n",
            "    \"z_dim\": 512,\n",
            "    \"w_dim\": 512,\n",
            "    \"mapping_kwargs\": {\n",
            "      \"num_layers\": 2\n",
            "    },\n",
            "    \"synthesis_kwargs\": {\n",
            "      \"channel_base\": 32768,\n",
            "      \"channel_max\": 512,\n",
            "      \"num_fp16_res\": 4,\n",
            "      \"conv_clamp\": 256\n",
            "    }\n",
            "  },\n",
            "  \"D_kwargs\": {\n",
            "    \"class_name\": \"training.networks.Discriminator\",\n",
            "    \"block_kwargs\": {},\n",
            "    \"mapping_kwargs\": {},\n",
            "    \"epilogue_kwargs\": {\n",
            "      \"mbstd_group_size\": 4\n",
            "    },\n",
            "    \"channel_base\": 32768,\n",
            "    \"channel_max\": 512,\n",
            "    \"num_fp16_res\": 4,\n",
            "    \"conv_clamp\": 256\n",
            "  },\n",
            "  \"G_opt_kwargs\": {\n",
            "    \"class_name\": \"torch.optim.Adam\",\n",
            "    \"lr\": 0.002,\n",
            "    \"betas\": [\n",
            "      0,\n",
            "      0.99\n",
            "    ],\n",
            "    \"eps\": 1e-08\n",
            "  },\n",
            "  \"D_opt_kwargs\": {\n",
            "    \"class_name\": \"torch.optim.Adam\",\n",
            "    \"lr\": 0.002,\n",
            "    \"betas\": [\n",
            "      0,\n",
            "      0.99\n",
            "    ],\n",
            "    \"eps\": 1e-08\n",
            "  },\n",
            "  \"loss_kwargs\": {\n",
            "    \"class_name\": \"training.loss.StyleGAN2Loss\",\n",
            "    \"r1_gamma\": 52.4288\n",
            "  },\n",
            "  \"total_kimg\": 25000,\n",
            "  \"batch_size\": 4,\n",
            "  \"batch_gpu\": 4,\n",
            "  \"ema_kimg\": 1.25,\n",
            "  \"ema_rampup\": 0.05,\n",
            "  \"ada_target\": 0.6,\n",
            "  \"augment_kwargs\": {\n",
            "    \"class_name\": \"training.augment.AugmentPipe\",\n",
            "    \"xflip\": 1,\n",
            "    \"rotate90\": 1,\n",
            "    \"xint\": 1,\n",
            "    \"scale\": 1,\n",
            "    \"rotate\": 1,\n",
            "    \"aniso\": 1,\n",
            "    \"xfrac\": 1,\n",
            "    \"brightness\": 1,\n",
            "    \"contrast\": 1,\n",
            "    \"lumaflip\": 1,\n",
            "    \"hue\": 1,\n",
            "    \"saturation\": 1\n",
            "  },\n",
            "  \"run_dir\": \"./data/experiments/00000-dataset-auto1\"\n",
            "}\n",
            "\n",
            "Output directory:   ./data/experiments/00000-dataset-auto1\n",
            "Training data:      ./data/dataset\n",
            "Training duration:  25000 kimg\n",
            "Number of GPUs:     1\n",
            "Number of images:   4\n",
            "Image resolution:   1024\n",
            "Conditional model:  False\n",
            "Dataset x-flips:    False\n",
            "\n",
            "Creating output directory...\n",
            "Launching processes...\n",
            "Loading training set...\n",
            "/usr/local/lib/python3.7/dist-packages/torch/utils/data/dataloader.py:477: UserWarning: This DataLoader will create 3 worker processes in total. Our suggested max number of worker in current system is 2, which is smaller than what this DataLoader is going to create. Please be aware that excessive worker creation might get DataLoader running slow or even freeze, lower the worker number to avoid potential slowness/freeze if necessary.\n",
            "  cpuset_checked))\n",
            "\n",
            "Num images:  4\n",
            "Image shape: [3, 1024, 1024]\n",
            "Label shape: [0]\n",
            "\n",
            "Constructing networks...\n",
            "Setting up PyTorch plugin \"bias_act_plugin\"... Done.\n",
            "Setting up PyTorch plugin \"upfirdn2d_plugin\"... Done.\n",
            "\n",
            "Generator              Parameters  Buffers  Output shape         Datatype\n",
            "---                    ---         ---      ---                  ---     \n",
            "mapping.fc0            262656      -        [4, 512]             float32 \n",
            "mapping.fc1            262656      -        [4, 512]             float32 \n",
            "mapping                -           512      [4, 18, 512]         float32 \n",
            "synthesis.b4.conv1     2622465     32       [4, 512, 4, 4]       float32 \n",
            "synthesis.b4.torgb     264195      -        [4, 3, 4, 4]         float32 \n",
            "synthesis.b4:0         8192        16       [4, 512, 4, 4]       float32 \n",
            "synthesis.b4:1         -           -        [4, 512, 4, 4]       float32 \n",
            "synthesis.b8.conv0     2622465     80       [4, 512, 8, 8]       float32 \n",
            "synthesis.b8.conv1     2622465     80       [4, 512, 8, 8]       float32 \n",
            "synthesis.b8.torgb     264195      -        [4, 3, 8, 8]         float32 \n",
            "synthesis.b8:0         -           16       [4, 512, 8, 8]       float32 \n",
            "synthesis.b8:1         -           -        [4, 512, 8, 8]       float32 \n",
            "synthesis.b16.conv0    2622465     272      [4, 512, 16, 16]     float32 \n",
            "synthesis.b16.conv1    2622465     272      [4, 512, 16, 16]     float32 \n",
            "synthesis.b16.torgb    264195      -        [4, 3, 16, 16]       float32 \n",
            "synthesis.b16:0        -           16       [4, 512, 16, 16]     float32 \n",
            "synthesis.b16:1        -           -        [4, 512, 16, 16]     float32 \n",
            "synthesis.b32.conv0    2622465     1040     [4, 512, 32, 32]     float32 \n",
            "synthesis.b32.conv1    2622465     1040     [4, 512, 32, 32]     float32 \n",
            "synthesis.b32.torgb    264195      -        [4, 3, 32, 32]       float32 \n",
            "synthesis.b32:0        -           16       [4, 512, 32, 32]     float32 \n",
            "synthesis.b32:1        -           -        [4, 512, 32, 32]     float32 \n",
            "synthesis.b64.conv0    2622465     4112     [4, 512, 64, 64]     float32 \n",
            "synthesis.b64.conv1    2622465     4112     [4, 512, 64, 64]     float32 \n",
            "synthesis.b64.torgb    264195      -        [4, 3, 64, 64]       float32 \n",
            "synthesis.b64:0        -           16       [4, 512, 64, 64]     float32 \n",
            "synthesis.b64:1        -           -        [4, 512, 64, 64]     float32 \n",
            "synthesis.b128.conv0   1442561     16400    [4, 256, 128, 128]   float16 \n",
            "synthesis.b128.conv1   721409      16400    [4, 256, 128, 128]   float16 \n",
            "synthesis.b128.torgb   132099      -        [4, 3, 128, 128]     float16 \n",
            "synthesis.b128:0       -           16       [4, 256, 128, 128]   float16 \n",
            "synthesis.b128:1       -           -        [4, 256, 128, 128]   float32 \n",
            "synthesis.b256.conv0   426369      65552    [4, 128, 256, 256]   float16 \n",
            "synthesis.b256.conv1   213249      65552    [4, 128, 256, 256]   float16 \n",
            "synthesis.b256.torgb   66051       -        [4, 3, 256, 256]     float16 \n",
            "synthesis.b256:0       -           16       [4, 128, 256, 256]   float16 \n",
            "synthesis.b256:1       -           -        [4, 128, 256, 256]   float32 \n",
            "synthesis.b512.conv0   139457      262160   [4, 64, 512, 512]    float16 \n",
            "synthesis.b512.conv1   69761       262160   [4, 64, 512, 512]    float16 \n",
            "synthesis.b512.torgb   33027       -        [4, 3, 512, 512]     float16 \n",
            "synthesis.b512:0       -           16       [4, 64, 512, 512]    float16 \n",
            "synthesis.b512:1       -           -        [4, 64, 512, 512]    float32 \n",
            "synthesis.b1024.conv0  51297       1048592  [4, 32, 1024, 1024]  float16 \n",
            "synthesis.b1024.conv1  25665       1048592  [4, 32, 1024, 1024]  float16 \n",
            "synthesis.b1024.torgb  16515       -        [4, 3, 1024, 1024]   float16 \n",
            "synthesis.b1024:0      -           16       [4, 32, 1024, 1024]  float16 \n",
            "synthesis.b1024:1      -           -        [4, 32, 1024, 1024]  float32 \n",
            "---                    ---         ---      ---                  ---     \n",
            "Total                  28794124    2797104  -                    -       \n",
            "\n",
            "\n",
            "Discriminator  Parameters  Buffers  Output shape         Datatype\n",
            "---            ---         ---      ---                  ---     \n",
            "b1024.fromrgb  128         16       [4, 32, 1024, 1024]  float16 \n",
            "b1024.skip     2048        16       [4, 64, 512, 512]    float16 \n",
            "b1024.conv0    9248        16       [4, 32, 1024, 1024]  float16 \n",
            "b1024.conv1    18496       16       [4, 64, 512, 512]    float16 \n",
            "b1024          -           16       [4, 64, 512, 512]    float16 \n",
            "b512.skip      8192        16       [4, 128, 256, 256]   float16 \n",
            "b512.conv0     36928       16       [4, 64, 512, 512]    float16 \n",
            "b512.conv1     73856       16       [4, 128, 256, 256]   float16 \n",
            "b512           -           16       [4, 128, 256, 256]   float16 \n",
            "b256.skip      32768       16       [4, 256, 128, 128]   float16 \n",
            "b256.conv0     147584      16       [4, 128, 256, 256]   float16 \n",
            "b256.conv1     295168      16       [4, 256, 128, 128]   float16 \n",
            "b256           -           16       [4, 256, 128, 128]   float16 \n",
            "b128.skip      131072      16       [4, 512, 64, 64]     float16 \n",
            "b128.conv0     590080      16       [4, 256, 128, 128]   float16 \n",
            "b128.conv1     1180160     16       [4, 512, 64, 64]     float16 \n",
            "b128           -           16       [4, 512, 64, 64]     float16 \n",
            "b64.skip       262144      16       [4, 512, 32, 32]     float32 \n",
            "b64.conv0      2359808     16       [4, 512, 64, 64]     float32 \n",
            "b64.conv1      2359808     16       [4, 512, 32, 32]     float32 \n",
            "b64            -           16       [4, 512, 32, 32]     float32 \n",
            "b32.skip       262144      16       [4, 512, 16, 16]     float32 \n",
            "b32.conv0      2359808     16       [4, 512, 32, 32]     float32 \n",
            "b32.conv1      2359808     16       [4, 512, 16, 16]     float32 \n",
            "b32            -           16       [4, 512, 16, 16]     float32 \n",
            "b16.skip       262144      16       [4, 512, 8, 8]       float32 \n",
            "b16.conv0      2359808     16       [4, 512, 16, 16]     float32 \n",
            "b16.conv1      2359808     16       [4, 512, 8, 8]       float32 \n",
            "b16            -           16       [4, 512, 8, 8]       float32 \n",
            "b8.skip        262144      16       [4, 512, 4, 4]       float32 \n",
            "b8.conv0       2359808     16       [4, 512, 8, 8]       float32 \n",
            "b8.conv1       2359808     16       [4, 512, 4, 4]       float32 \n",
            "b8             -           16       [4, 512, 4, 4]       float32 \n",
            "b4.mbstd       -           -        [4, 513, 4, 4]       float32 \n",
            "b4.conv        2364416     16       [4, 512, 4, 4]       float32 \n",
            "b4.fc          4194816     -        [4, 512]             float32 \n",
            "b4.out         513         -        [4, 1]               float32 \n",
            "---            ---         ---      ---                  ---     \n",
            "Total          29012513    544      -                    -       \n",
            "\n",
            "Setting up augmentation...\n",
            "Distributing across 1 GPUs...\n",
            "Setting up training phases...\n",
            "Exporting sample images...\n",
            "Initializing logs...\n",
            "Training for 25000 kimg...\n",
            "\n",
            "tick 0     kimg 0.0      time 1m 25s       sec/tick 12.9    sec/kimg 3222.08 maintenance 71.7   cpumem 4.19   gpumem 12.89  augment 0.000\n",
            "Evaluating metrics...\n",
            "/usr/local/lib/python3.7/dist-packages/torch/utils/data/dataloader.py:477: UserWarning: This DataLoader will create 3 worker processes in total. Our suggested max number of worker in current system is 2, which is smaller than what this DataLoader is going to create. Please be aware that excessive worker creation might get DataLoader running slow or even freeze, lower the worker number to avoid potential slowness/freeze if necessary.\n",
            "  cpuset_checked))\n",
            "{\"results\": {\"fid50k_full\": 400.510389665959}, \"metric\": \"fid50k_full\", \"total_time\": 2312.09007191658, \"total_time_str\": \"38m 32s\", \"num_gpus\": 1, \"snapshot_pkl\": \"network-snapshot-000000.pkl\", \"timestamp\": 1643971357.4502985}\n",
            "tick 1     kimg 4.0      time 1h 10m 05s   sec/tick 1796.1  sec/kimg 449.03  maintenance 2324.4 cpumem 4.68   gpumem 7.49   augment 0.007\n",
            "tick 2     kimg 8.0      time 1h 40m 03s   sec/tick 1797.3  sec/kimg 449.33  maintenance 0.3    cpumem 4.68   gpumem 7.50   augment 0.013\n",
            "tick 3     kimg 12.0     time 2h 10m 00s   sec/tick 1797.0  sec/kimg 449.26  maintenance 0.3    cpumem 4.68   gpumem 7.54   augment 0.019\n",
            "tick 4     kimg 16.0     time 2h 39m 59s   sec/tick 1798.3  sec/kimg 449.59  maintenance 0.3    cpumem 4.68   gpumem 7.60   augment 0.025\n",
            "tick 5     kimg 20.0     time 3h 09m 57s   sec/tick 1797.8  sec/kimg 449.45  maintenance 0.3    cpumem 4.68   gpumem 7.61   augment 0.031\n"
          ]
        }
      ],
      "source": [
        "import os\n",
        "\n",
        "# Modify these to suit your needs\n",
        "EXPERIMENTS = \"./data/experiments\"\n",
        "DATA = \"./data/dataset\"\n",
        "SNAP = 10\n",
        "\n",
        "# Build the command and run it\n",
        "cmd = f\"/usr/bin/python3 ./stylegan2-ada-pytorch/train.py --snap {SNAP} --outdir {EXPERIMENTS} --data {DATA}\"\n",
        "!{cmd}"
      ]
    },
    {
      "cell_type": "code",
      "execution_count": null,
      "metadata": {
        "id": "j4g2FUCwG1U_"
      },
      "outputs": [],
      "source": [
        "!/usr/bin/python3 /content/stylegan2-ada-pytorch/train.py --snap 25 --resume /content/drive/MyDrive/data/gan/experiments/00007-circuit-auto1/network-snapshot-000500.pkl --outdir /content/drive/MyDrive/data/gan/experiments --data /content/drive/MyDrive/data/gan/dataset/circuit"
      ]
    },
    {
      "cell_type": "markdown",
      "metadata": {
        "id": "NS-oe6jMG_0A"
      },
      "source": [
        "# Resume Training"
      ]
    },
    {
      "cell_type": "code",
      "execution_count": null,
      "metadata": {
        "id": "pvPZLsCUlzGn"
      },
      "outputs": [],
      "source": [
        "import os\n",
        "\n",
        "# Modify these to suit your needs\n",
        "EXPERIMENTS = \"/content/drive/MyDrive/data/gan/experiments\"\n",
        "NETWORK = \"network-snapshot-000100.pkl\"\n",
        "RESUME = os.path.join(EXPERIMENTS, \"00008-circuit-auto1-resumecustom\", NETWORK)\n",
        "DATA = \"/content/drive/MyDrive/data/gan/dataset/circuit\"\n",
        "SNAP = 10\n",
        "\n",
        "# Build the command and run it\n",
        "cmd = f\"/usr/bin/python3 /content/stylegan2-ada-pytorch/train.py --snap {SNAP} --resume {RESUME} --outdir {EXPERIMENTS} --data {DATA}\"\n",
        "!{cmd}"
      ]
    },
    {
      "cell_type": "markdown",
      "metadata": {
        "id": "xMm34ut0wKCb"
      },
      "source": [
        "# style mixing"
      ]
    },
    {
      "cell_type": "code",
      "execution_count": 23,
      "metadata": {},
      "outputs": [],
      "source": [
        "import os\n",
        "import re\n",
        "from typing import List\n",
        "\n",
        "import click\n",
        "from stylegan2_ada_pytorch import dnnlib\n",
        "import numpy as np\n",
        "import PIL.Image\n",
        "import torch\n",
        "\n",
        "from stylegan2_ada_pytorch import legacy"
      ]
    },
    {
      "cell_type": "code",
      "execution_count": 24,
      "metadata": {},
      "outputs": [],
      "source": [
        "def num_range(s: str) -> List[int]:\n",
        "    '''Accept either a comma separated list of numbers 'a,b,c' or a range 'a-c' and return as a list of ints.'''\n",
        "\n",
        "    range_re = re.compile(r'^(\\d+)-(\\d+)$')\n",
        "    m = range_re.match(s)\n",
        "    if m:\n",
        "        return list(range(int(m.group(1)), int(m.group(2))+1))\n",
        "    vals = s.split(',')\n",
        "    return [int(x) for x in vals]"
      ]
    },
    {
      "cell_type": "code",
      "execution_count": 28,
      "metadata": {},
      "outputs": [],
      "source": [
        "def generate_style_mix( network_pkl, row_seeds, col_seeds, col_styles=[0,1,2,3,4,5,6], truncation_psi = 1, noise_mode='const', outdir='out'):\n",
        "\n",
        "    print(col_styles)\n",
        "    print('Loading networks from \"%s\"...' % network_pkl)\n",
        "    device = torch.device('cuda')\n",
        "    with dnnlib.util.open_url(network_pkl) as f:\n",
        "        G = legacy.load_network_pkl(f)['G_ema'].to(device) # type: ignore\n",
        "\n",
        "    os.makedirs(outdir, exist_ok=True)\n",
        "\n",
        "    print('Generating W vectors...')\n",
        "    all_seeds = list(set(row_seeds + col_seeds))\n",
        "    all_z = np.stack([np.random.RandomState(seed).randn(G.z_dim) for seed in all_seeds])\n",
        "    all_w = G.mapping(torch.from_numpy(all_z).to(device), None)\n",
        "    w_avg = G.mapping.w_avg\n",
        "    all_w = w_avg + (all_w - w_avg) * truncation_psi\n",
        "    w_dict = {seed: w for seed, w in zip(all_seeds, list(all_w))}\n",
        "\n",
        "    print('Generating images...')\n",
        "    all_images = G.synthesis(all_w, noise_mode=noise_mode)\n",
        "    all_images = (all_images.permute(0, 2, 3, 1) * 127.5 + 128).clamp(0, 255).to(torch.uint8).cpu().numpy()\n",
        "    image_dict = {(seed, seed): image for seed, image in zip(all_seeds, list(all_images))}\n",
        "\n",
        "    print('Generating style-mixed images...')\n",
        "    for row_seed in row_seeds:\n",
        "        for col_seed in col_seeds:\n",
        "            w = w_dict[row_seed].clone()\n",
        "            w[col_styles] = w_dict[col_seed][col_styles]\n",
        "            image = G.synthesis(w[np.newaxis], noise_mode=noise_mode)\n",
        "            image = (image.permute(0, 2, 3, 1) * 127.5 + 128).clamp(0, 255).to(torch.uint8)\n",
        "            image_dict[(row_seed, col_seed)] = image[0].cpu().numpy()\n",
        "\n",
        "    print('Saving images...')\n",
        "    os.makedirs(outdir, exist_ok=True)\n",
        "    for (row_seed, col_seed), image in image_dict.items():\n",
        "        PIL.Image.fromarray(image, 'RGB').save(f'{outdir}/{row_seed}-{col_seed}.png')\n",
        "\n",
        "    print('Saving image grid...')\n",
        "    W = G.img_resolution\n",
        "    H = G.img_resolution\n",
        "    canvas = PIL.Image.new('RGB', (W * (len(col_seeds) + 1), H * (len(row_seeds) + 1)), 'black')\n",
        "    for row_idx, row_seed in enumerate([0] + row_seeds):\n",
        "        for col_idx, col_seed in enumerate([0] + col_seeds):\n",
        "            if row_idx == 0 and col_idx == 0:\n",
        "                continue\n",
        "            key = (row_seed, col_seed)\n",
        "            if row_idx == 0:\n",
        "                key = (col_seed, col_seed)\n",
        "            if col_idx == 0:\n",
        "                key = (row_seed, row_seed)\n",
        "            canvas.paste(PIL.Image.fromarray(image_dict[key], 'RGB'), (W * col_idx, H * row_idx))\n",
        "    canvas.save(f'{outdir}/grid.png')"
      ]
    },
    {
      "cell_type": "code",
      "execution_count": 27,
      "metadata": {},
      "outputs": [
        {
          "name": "stdout",
          "output_type": "stream",
          "text": [
            "[0, 1, 2, 3, 4, 5, 6]\n",
            "Loading networks from \"../model/network-snapshot-000040.pkl\"...\n",
            "Generating W vectors...\n",
            "Setting up PyTorch plugin \"bias_act_plugin\"... "
          ]
        },
        {
          "name": "stderr",
          "output_type": "stream",
          "text": [
            "C:\\Users\\jongm\\anaconda3\\envs\\torch_cu110\\lib\\site-packages\\torch\\utils\\cpp_extension.py:287: UserWarning: Error checking compiler version for cl: 'utf-8' codec can't decode byte 0xc3 in position 20: invalid continuation byte\n",
            "  warnings.warn('Error checking compiler version for {}: {}'.format(compiler, error))\n"
          ]
        },
        {
          "name": "stdout",
          "output_type": "stream",
          "text": [
            "Failed!\n",
            "Generating images...\n"
          ]
        },
        {
          "name": "stderr",
          "output_type": "stream",
          "text": [
            "c:\\Users\\jongm\\OneDrive - 광운대학교\\ProjecTS\\AID-AI-Design-1\\ai\\stylegan2_ada_pytorch\\torch_utils\\ops\\bias_act.py:50: UserWarning: Failed to build CUDA kernels for bias_act. Falling back to slow reference implementation. Details:\n",
            "\n",
            "Traceback (most recent call last):\n",
            "  File \"C:\\Users\\jongm\\anaconda3\\envs\\torch_cu110\\lib\\site-packages\\torch\\utils\\cpp_extension.py\", line 1533, in _run_ninja_build\n",
            "    subprocess.run(\n",
            "  File \"C:\\Users\\jongm\\anaconda3\\envs\\torch_cu110\\lib\\subprocess.py\", line 512, in run\n",
            "    raise CalledProcessError(retcode, process.args,\n",
            "subprocess.CalledProcessError: Command '['ninja', '-v']' returned non-zero exit status 1.\n",
            "\n",
            "During handling of the above exception, another exception occurred:\n",
            "\n",
            "Traceback (most recent call last):\n",
            "  File \"c:\\Users\\jongm\\OneDrive - 광운대학교\\ProjecTS\\AID-AI-Design-1\\ai\\stylegan2_ada_pytorch\\torch_utils\\ops\\bias_act.py\", line 48, in _init\n",
            "    _plugin = custom_ops.get_plugin('bias_act_plugin', sources=sources, extra_cuda_cflags=['--use_fast_math'])\n",
            "  File \"c:\\Users\\jongm\\OneDrive - 광운대학교\\ProjecTS\\AID-AI-Design-1\\ai\\stylegan2_ada_pytorch\\torch_utils\\custom_ops.py\", line 110, in get_plugin\n",
            "    torch.utils.cpp_extension.load(name=module_name, verbose=verbose_build, sources=sources, **build_kwargs)\n",
            "  File \"C:\\Users\\jongm\\anaconda3\\envs\\torch_cu110\\lib\\site-packages\\torch\\utils\\cpp_extension.py\", line 986, in load\n",
            "    return _jit_compile(\n",
            "  File \"C:\\Users\\jongm\\anaconda3\\envs\\torch_cu110\\lib\\site-packages\\torch\\utils\\cpp_extension.py\", line 1193, in _jit_compile\n",
            "    _write_ninja_file_and_build_library(\n",
            "  File \"C:\\Users\\jongm\\anaconda3\\envs\\torch_cu110\\lib\\site-packages\\torch\\utils\\cpp_extension.py\", line 1297, in _write_ninja_file_and_build_library\n",
            "    _run_ninja_build(\n",
            "  File \"C:\\Users\\jongm\\anaconda3\\envs\\torch_cu110\\lib\\site-packages\\torch\\utils\\cpp_extension.py\", line 1554, in _run_ninja_build\n",
            "    message += \": {}\".format(error.output.decode())  # type: ignore\n",
            "UnicodeDecodeError: 'utf-8' codec can't decode byte 0xb1 in position 672: invalid start byte\n",
            "\n",
            "  warnings.warn('Failed to build CUDA kernels for bias_act. Falling back to slow reference implementation. Details:\\n\\n' + traceback.format_exc())\n"
          ]
        },
        {
          "name": "stdout",
          "output_type": "stream",
          "text": [
            "Setting up PyTorch plugin \"upfirdn2d_plugin\"... "
          ]
        },
        {
          "name": "stderr",
          "output_type": "stream",
          "text": [
            "C:\\Users\\jongm\\anaconda3\\envs\\torch_cu110\\lib\\site-packages\\torch\\utils\\cpp_extension.py:287: UserWarning: Error checking compiler version for cl: 'utf-8' codec can't decode byte 0xc3 in position 20: invalid continuation byte\n",
            "  warnings.warn('Error checking compiler version for {}: {}'.format(compiler, error))\n"
          ]
        },
        {
          "name": "stdout",
          "output_type": "stream",
          "text": [
            "Failed!\n",
            "Setting up PyTorch plugin \"upfirdn2d_plugin\"... "
          ]
        },
        {
          "name": "stderr",
          "output_type": "stream",
          "text": [
            "c:\\Users\\jongm\\OneDrive - 광운대학교\\ProjecTS\\AID-AI-Design-1\\ai\\stylegan2_ada_pytorch\\torch_utils\\ops\\upfirdn2d.py:34: UserWarning: Failed to build CUDA kernels for upfirdn2d. Falling back to slow reference implementation. Details:\n",
            "\n",
            "Traceback (most recent call last):\n",
            "  File \"C:\\Users\\jongm\\anaconda3\\envs\\torch_cu110\\lib\\site-packages\\torch\\utils\\cpp_extension.py\", line 1533, in _run_ninja_build\n",
            "    subprocess.run(\n",
            "  File \"C:\\Users\\jongm\\anaconda3\\envs\\torch_cu110\\lib\\subprocess.py\", line 512, in run\n",
            "    raise CalledProcessError(retcode, process.args,\n",
            "subprocess.CalledProcessError: Command '['ninja', '-v']' returned non-zero exit status 1.\n",
            "\n",
            "During handling of the above exception, another exception occurred:\n",
            "\n",
            "Traceback (most recent call last):\n",
            "  File \"c:\\Users\\jongm\\OneDrive - 광운대학교\\ProjecTS\\AID-AI-Design-1\\ai\\stylegan2_ada_pytorch\\torch_utils\\ops\\upfirdn2d.py\", line 32, in _init\n",
            "    _plugin = custom_ops.get_plugin('upfirdn2d_plugin', sources=sources, extra_cuda_cflags=['--use_fast_math'])\n",
            "  File \"c:\\Users\\jongm\\OneDrive - 광운대학교\\ProjecTS\\AID-AI-Design-1\\ai\\stylegan2_ada_pytorch\\torch_utils\\custom_ops.py\", line 110, in get_plugin\n",
            "    torch.utils.cpp_extension.load(name=module_name, verbose=verbose_build, sources=sources, **build_kwargs)\n",
            "  File \"C:\\Users\\jongm\\anaconda3\\envs\\torch_cu110\\lib\\site-packages\\torch\\utils\\cpp_extension.py\", line 986, in load\n",
            "    return _jit_compile(\n",
            "  File \"C:\\Users\\jongm\\anaconda3\\envs\\torch_cu110\\lib\\site-packages\\torch\\utils\\cpp_extension.py\", line 1193, in _jit_compile\n",
            "    _write_ninja_file_and_build_library(\n",
            "  File \"C:\\Users\\jongm\\anaconda3\\envs\\torch_cu110\\lib\\site-packages\\torch\\utils\\cpp_extension.py\", line 1297, in _write_ninja_file_and_build_library\n",
            "    _run_ninja_build(\n",
            "  File \"C:\\Users\\jongm\\anaconda3\\envs\\torch_cu110\\lib\\site-packages\\torch\\utils\\cpp_extension.py\", line 1554, in _run_ninja_build\n",
            "    message += \": {}\".format(error.output.decode())  # type: ignore\n",
            "UnicodeDecodeError: 'utf-8' codec can't decode byte 0xb1 in position 673: invalid start byte\n",
            "\n",
            "  warnings.warn('Failed to build CUDA kernels for upfirdn2d. Falling back to slow reference implementation. Details:\\n\\n' + traceback.format_exc())\n"
          ]
        },
        {
          "name": "stdout",
          "output_type": "stream",
          "text": [
            "Failed!\n",
            "Setting up PyTorch plugin \"upfirdn2d_plugin\"... "
          ]
        },
        {
          "name": "stderr",
          "output_type": "stream",
          "text": [
            "c:\\Users\\jongm\\OneDrive - 광운대학교\\ProjecTS\\AID-AI-Design-1\\ai\\stylegan2_ada_pytorch\\torch_utils\\ops\\upfirdn2d.py:34: UserWarning: Failed to build CUDA kernels for upfirdn2d. Falling back to slow reference implementation. Details:\n",
            "\n",
            "Traceback (most recent call last):\n",
            "  File \"c:\\Users\\jongm\\OneDrive - 광운대학교\\ProjecTS\\AID-AI-Design-1\\ai\\stylegan2_ada_pytorch\\torch_utils\\ops\\upfirdn2d.py\", line 32, in _init\n",
            "    _plugin = custom_ops.get_plugin('upfirdn2d_plugin', sources=sources, extra_cuda_cflags=['--use_fast_math'])\n",
            "  File \"c:\\Users\\jongm\\OneDrive - 광운대학교\\ProjecTS\\AID-AI-Design-1\\ai\\stylegan2_ada_pytorch\\torch_utils\\custom_ops.py\", line 110, in get_plugin\n",
            "    torch.utils.cpp_extension.load(name=module_name, verbose=verbose_build, sources=sources, **build_kwargs)\n",
            "  File \"C:\\Users\\jongm\\anaconda3\\envs\\torch_cu110\\lib\\site-packages\\torch\\utils\\cpp_extension.py\", line 986, in load\n",
            "    return _jit_compile(\n",
            "  File \"C:\\Users\\jongm\\anaconda3\\envs\\torch_cu110\\lib\\site-packages\\torch\\utils\\cpp_extension.py\", line 1213, in _jit_compile\n",
            "    return _import_module_from_library(name, build_directory, is_python_module)\n",
            "  File \"C:\\Users\\jongm\\anaconda3\\envs\\torch_cu110\\lib\\site-packages\\torch\\utils\\cpp_extension.py\", line 1560, in _import_module_from_library\n",
            "    file, path, description = imp.find_module(module_name, [path])\n",
            "  File \"C:\\Users\\jongm\\anaconda3\\envs\\torch_cu110\\lib\\imp.py\", line 296, in find_module\n",
            "    raise ImportError(_ERR_MSG.format(name), name=name)\n",
            "ImportError: No module named 'upfirdn2d_plugin'\n",
            "\n",
            "  warnings.warn('Failed to build CUDA kernels for upfirdn2d. Falling back to slow reference implementation. Details:\\n\\n' + traceback.format_exc())\n"
          ]
        },
        {
          "name": "stdout",
          "output_type": "stream",
          "text": [
            "Failed!\n",
            "Setting up PyTorch plugin \"upfirdn2d_plugin\"... "
          ]
        },
        {
          "name": "stderr",
          "output_type": "stream",
          "text": [
            "c:\\Users\\jongm\\OneDrive - 광운대학교\\ProjecTS\\AID-AI-Design-1\\ai\\stylegan2_ada_pytorch\\torch_utils\\ops\\upfirdn2d.py:34: UserWarning: Failed to build CUDA kernels for upfirdn2d. Falling back to slow reference implementation. Details:\n",
            "\n",
            "Traceback (most recent call last):\n",
            "  File \"c:\\Users\\jongm\\OneDrive - 광운대학교\\ProjecTS\\AID-AI-Design-1\\ai\\stylegan2_ada_pytorch\\torch_utils\\ops\\upfirdn2d.py\", line 32, in _init\n",
            "    _plugin = custom_ops.get_plugin('upfirdn2d_plugin', sources=sources, extra_cuda_cflags=['--use_fast_math'])\n",
            "  File \"c:\\Users\\jongm\\OneDrive - 광운대학교\\ProjecTS\\AID-AI-Design-1\\ai\\stylegan2_ada_pytorch\\torch_utils\\custom_ops.py\", line 110, in get_plugin\n",
            "    torch.utils.cpp_extension.load(name=module_name, verbose=verbose_build, sources=sources, **build_kwargs)\n",
            "  File \"C:\\Users\\jongm\\anaconda3\\envs\\torch_cu110\\lib\\site-packages\\torch\\utils\\cpp_extension.py\", line 986, in load\n",
            "    return _jit_compile(\n",
            "  File \"C:\\Users\\jongm\\anaconda3\\envs\\torch_cu110\\lib\\site-packages\\torch\\utils\\cpp_extension.py\", line 1213, in _jit_compile\n",
            "    return _import_module_from_library(name, build_directory, is_python_module)\n",
            "  File \"C:\\Users\\jongm\\anaconda3\\envs\\torch_cu110\\lib\\site-packages\\torch\\utils\\cpp_extension.py\", line 1560, in _import_module_from_library\n",
            "    file, path, description = imp.find_module(module_name, [path])\n",
            "  File \"C:\\Users\\jongm\\anaconda3\\envs\\torch_cu110\\lib\\imp.py\", line 296, in find_module\n",
            "    raise ImportError(_ERR_MSG.format(name), name=name)\n",
            "ImportError: No module named 'upfirdn2d_plugin'\n",
            "\n",
            "  warnings.warn('Failed to build CUDA kernels for upfirdn2d. Falling back to slow reference implementation. Details:\\n\\n' + traceback.format_exc())\n"
          ]
        },
        {
          "name": "stdout",
          "output_type": "stream",
          "text": [
            "Failed!\n",
            "Setting up PyTorch plugin \"upfirdn2d_plugin\"... "
          ]
        },
        {
          "name": "stderr",
          "output_type": "stream",
          "text": [
            "c:\\Users\\jongm\\OneDrive - 광운대학교\\ProjecTS\\AID-AI-Design-1\\ai\\stylegan2_ada_pytorch\\torch_utils\\ops\\upfirdn2d.py:34: UserWarning: Failed to build CUDA kernels for upfirdn2d. Falling back to slow reference implementation. Details:\n",
            "\n",
            "Traceback (most recent call last):\n",
            "  File \"c:\\Users\\jongm\\OneDrive - 광운대학교\\ProjecTS\\AID-AI-Design-1\\ai\\stylegan2_ada_pytorch\\torch_utils\\ops\\upfirdn2d.py\", line 32, in _init\n",
            "    _plugin = custom_ops.get_plugin('upfirdn2d_plugin', sources=sources, extra_cuda_cflags=['--use_fast_math'])\n",
            "  File \"c:\\Users\\jongm\\OneDrive - 광운대학교\\ProjecTS\\AID-AI-Design-1\\ai\\stylegan2_ada_pytorch\\torch_utils\\custom_ops.py\", line 110, in get_plugin\n",
            "    torch.utils.cpp_extension.load(name=module_name, verbose=verbose_build, sources=sources, **build_kwargs)\n",
            "  File \"C:\\Users\\jongm\\anaconda3\\envs\\torch_cu110\\lib\\site-packages\\torch\\utils\\cpp_extension.py\", line 986, in load\n",
            "    return _jit_compile(\n",
            "  File \"C:\\Users\\jongm\\anaconda3\\envs\\torch_cu110\\lib\\site-packages\\torch\\utils\\cpp_extension.py\", line 1213, in _jit_compile\n",
            "    return _import_module_from_library(name, build_directory, is_python_module)\n",
            "  File \"C:\\Users\\jongm\\anaconda3\\envs\\torch_cu110\\lib\\site-packages\\torch\\utils\\cpp_extension.py\", line 1560, in _import_module_from_library\n",
            "    file, path, description = imp.find_module(module_name, [path])\n",
            "  File \"C:\\Users\\jongm\\anaconda3\\envs\\torch_cu110\\lib\\imp.py\", line 296, in find_module\n",
            "    raise ImportError(_ERR_MSG.format(name), name=name)\n",
            "ImportError: No module named 'upfirdn2d_plugin'\n",
            "\n",
            "  warnings.warn('Failed to build CUDA kernels for upfirdn2d. Falling back to slow reference implementation. Details:\\n\\n' + traceback.format_exc())\n"
          ]
        },
        {
          "name": "stdout",
          "output_type": "stream",
          "text": [
            "Failed!\n",
            "Setting up PyTorch plugin \"upfirdn2d_plugin\"... "
          ]
        },
        {
          "name": "stderr",
          "output_type": "stream",
          "text": [
            "c:\\Users\\jongm\\OneDrive - 광운대학교\\ProjecTS\\AID-AI-Design-1\\ai\\stylegan2_ada_pytorch\\torch_utils\\ops\\upfirdn2d.py:34: UserWarning: Failed to build CUDA kernels for upfirdn2d. Falling back to slow reference implementation. Details:\n",
            "\n",
            "Traceback (most recent call last):\n",
            "  File \"c:\\Users\\jongm\\OneDrive - 광운대학교\\ProjecTS\\AID-AI-Design-1\\ai\\stylegan2_ada_pytorch\\torch_utils\\ops\\upfirdn2d.py\", line 32, in _init\n",
            "    _plugin = custom_ops.get_plugin('upfirdn2d_plugin', sources=sources, extra_cuda_cflags=['--use_fast_math'])\n",
            "  File \"c:\\Users\\jongm\\OneDrive - 광운대학교\\ProjecTS\\AID-AI-Design-1\\ai\\stylegan2_ada_pytorch\\torch_utils\\custom_ops.py\", line 110, in get_plugin\n",
            "    torch.utils.cpp_extension.load(name=module_name, verbose=verbose_build, sources=sources, **build_kwargs)\n",
            "  File \"C:\\Users\\jongm\\anaconda3\\envs\\torch_cu110\\lib\\site-packages\\torch\\utils\\cpp_extension.py\", line 986, in load\n",
            "    return _jit_compile(\n",
            "  File \"C:\\Users\\jongm\\anaconda3\\envs\\torch_cu110\\lib\\site-packages\\torch\\utils\\cpp_extension.py\", line 1213, in _jit_compile\n",
            "    return _import_module_from_library(name, build_directory, is_python_module)\n",
            "  File \"C:\\Users\\jongm\\anaconda3\\envs\\torch_cu110\\lib\\site-packages\\torch\\utils\\cpp_extension.py\", line 1560, in _import_module_from_library\n",
            "    file, path, description = imp.find_module(module_name, [path])\n",
            "  File \"C:\\Users\\jongm\\anaconda3\\envs\\torch_cu110\\lib\\imp.py\", line 296, in find_module\n",
            "    raise ImportError(_ERR_MSG.format(name), name=name)\n",
            "ImportError: No module named 'upfirdn2d_plugin'\n",
            "\n",
            "  warnings.warn('Failed to build CUDA kernels for upfirdn2d. Falling back to slow reference implementation. Details:\\n\\n' + traceback.format_exc())\n"
          ]
        },
        {
          "name": "stdout",
          "output_type": "stream",
          "text": [
            "Failed!\n",
            "Setting up PyTorch plugin \"upfirdn2d_plugin\"... "
          ]
        },
        {
          "name": "stderr",
          "output_type": "stream",
          "text": [
            "c:\\Users\\jongm\\OneDrive - 광운대학교\\ProjecTS\\AID-AI-Design-1\\ai\\stylegan2_ada_pytorch\\torch_utils\\ops\\upfirdn2d.py:34: UserWarning: Failed to build CUDA kernels for upfirdn2d. Falling back to slow reference implementation. Details:\n",
            "\n",
            "Traceback (most recent call last):\n",
            "  File \"c:\\Users\\jongm\\OneDrive - 광운대학교\\ProjecTS\\AID-AI-Design-1\\ai\\stylegan2_ada_pytorch\\torch_utils\\ops\\upfirdn2d.py\", line 32, in _init\n",
            "    _plugin = custom_ops.get_plugin('upfirdn2d_plugin', sources=sources, extra_cuda_cflags=['--use_fast_math'])\n",
            "  File \"c:\\Users\\jongm\\OneDrive - 광운대학교\\ProjecTS\\AID-AI-Design-1\\ai\\stylegan2_ada_pytorch\\torch_utils\\custom_ops.py\", line 110, in get_plugin\n",
            "    torch.utils.cpp_extension.load(name=module_name, verbose=verbose_build, sources=sources, **build_kwargs)\n",
            "  File \"C:\\Users\\jongm\\anaconda3\\envs\\torch_cu110\\lib\\site-packages\\torch\\utils\\cpp_extension.py\", line 986, in load\n",
            "    return _jit_compile(\n",
            "  File \"C:\\Users\\jongm\\anaconda3\\envs\\torch_cu110\\lib\\site-packages\\torch\\utils\\cpp_extension.py\", line 1213, in _jit_compile\n",
            "    return _import_module_from_library(name, build_directory, is_python_module)\n",
            "  File \"C:\\Users\\jongm\\anaconda3\\envs\\torch_cu110\\lib\\site-packages\\torch\\utils\\cpp_extension.py\", line 1560, in _import_module_from_library\n",
            "    file, path, description = imp.find_module(module_name, [path])\n",
            "  File \"C:\\Users\\jongm\\anaconda3\\envs\\torch_cu110\\lib\\imp.py\", line 296, in find_module\n",
            "    raise ImportError(_ERR_MSG.format(name), name=name)\n",
            "ImportError: No module named 'upfirdn2d_plugin'\n",
            "\n",
            "  warnings.warn('Failed to build CUDA kernels for upfirdn2d. Falling back to slow reference implementation. Details:\\n\\n' + traceback.format_exc())\n"
          ]
        },
        {
          "name": "stdout",
          "output_type": "stream",
          "text": [
            "Failed!\n",
            "Setting up PyTorch plugin \"upfirdn2d_plugin\"... "
          ]
        },
        {
          "name": "stderr",
          "output_type": "stream",
          "text": [
            "c:\\Users\\jongm\\OneDrive - 광운대학교\\ProjecTS\\AID-AI-Design-1\\ai\\stylegan2_ada_pytorch\\torch_utils\\ops\\upfirdn2d.py:34: UserWarning: Failed to build CUDA kernels for upfirdn2d. Falling back to slow reference implementation. Details:\n",
            "\n",
            "Traceback (most recent call last):\n",
            "  File \"c:\\Users\\jongm\\OneDrive - 광운대학교\\ProjecTS\\AID-AI-Design-1\\ai\\stylegan2_ada_pytorch\\torch_utils\\ops\\upfirdn2d.py\", line 32, in _init\n",
            "    _plugin = custom_ops.get_plugin('upfirdn2d_plugin', sources=sources, extra_cuda_cflags=['--use_fast_math'])\n",
            "  File \"c:\\Users\\jongm\\OneDrive - 광운대학교\\ProjecTS\\AID-AI-Design-1\\ai\\stylegan2_ada_pytorch\\torch_utils\\custom_ops.py\", line 110, in get_plugin\n",
            "    torch.utils.cpp_extension.load(name=module_name, verbose=verbose_build, sources=sources, **build_kwargs)\n",
            "  File \"C:\\Users\\jongm\\anaconda3\\envs\\torch_cu110\\lib\\site-packages\\torch\\utils\\cpp_extension.py\", line 986, in load\n",
            "    return _jit_compile(\n",
            "  File \"C:\\Users\\jongm\\anaconda3\\envs\\torch_cu110\\lib\\site-packages\\torch\\utils\\cpp_extension.py\", line 1213, in _jit_compile\n",
            "    return _import_module_from_library(name, build_directory, is_python_module)\n",
            "  File \"C:\\Users\\jongm\\anaconda3\\envs\\torch_cu110\\lib\\site-packages\\torch\\utils\\cpp_extension.py\", line 1560, in _import_module_from_library\n",
            "    file, path, description = imp.find_module(module_name, [path])\n",
            "  File \"C:\\Users\\jongm\\anaconda3\\envs\\torch_cu110\\lib\\imp.py\", line 296, in find_module\n",
            "    raise ImportError(_ERR_MSG.format(name), name=name)\n",
            "ImportError: No module named 'upfirdn2d_plugin'\n",
            "\n",
            "  warnings.warn('Failed to build CUDA kernels for upfirdn2d. Falling back to slow reference implementation. Details:\\n\\n' + traceback.format_exc())\n"
          ]
        },
        {
          "name": "stdout",
          "output_type": "stream",
          "text": [
            "Failed!\n",
            "Setting up PyTorch plugin \"upfirdn2d_plugin\"... "
          ]
        },
        {
          "name": "stderr",
          "output_type": "stream",
          "text": [
            "c:\\Users\\jongm\\OneDrive - 광운대학교\\ProjecTS\\AID-AI-Design-1\\ai\\stylegan2_ada_pytorch\\torch_utils\\ops\\upfirdn2d.py:34: UserWarning: Failed to build CUDA kernels for upfirdn2d. Falling back to slow reference implementation. Details:\n",
            "\n",
            "Traceback (most recent call last):\n",
            "  File \"c:\\Users\\jongm\\OneDrive - 광운대학교\\ProjecTS\\AID-AI-Design-1\\ai\\stylegan2_ada_pytorch\\torch_utils\\ops\\upfirdn2d.py\", line 32, in _init\n",
            "    _plugin = custom_ops.get_plugin('upfirdn2d_plugin', sources=sources, extra_cuda_cflags=['--use_fast_math'])\n",
            "  File \"c:\\Users\\jongm\\OneDrive - 광운대학교\\ProjecTS\\AID-AI-Design-1\\ai\\stylegan2_ada_pytorch\\torch_utils\\custom_ops.py\", line 110, in get_plugin\n",
            "    torch.utils.cpp_extension.load(name=module_name, verbose=verbose_build, sources=sources, **build_kwargs)\n",
            "  File \"C:\\Users\\jongm\\anaconda3\\envs\\torch_cu110\\lib\\site-packages\\torch\\utils\\cpp_extension.py\", line 986, in load\n",
            "    return _jit_compile(\n",
            "  File \"C:\\Users\\jongm\\anaconda3\\envs\\torch_cu110\\lib\\site-packages\\torch\\utils\\cpp_extension.py\", line 1213, in _jit_compile\n",
            "    return _import_module_from_library(name, build_directory, is_python_module)\n",
            "  File \"C:\\Users\\jongm\\anaconda3\\envs\\torch_cu110\\lib\\site-packages\\torch\\utils\\cpp_extension.py\", line 1560, in _import_module_from_library\n",
            "    file, path, description = imp.find_module(module_name, [path])\n",
            "  File \"C:\\Users\\jongm\\anaconda3\\envs\\torch_cu110\\lib\\imp.py\", line 296, in find_module\n",
            "    raise ImportError(_ERR_MSG.format(name), name=name)\n",
            "ImportError: No module named 'upfirdn2d_plugin'\n",
            "\n",
            "  warnings.warn('Failed to build CUDA kernels for upfirdn2d. Falling back to slow reference implementation. Details:\\n\\n' + traceback.format_exc())\n"
          ]
        },
        {
          "name": "stdout",
          "output_type": "stream",
          "text": [
            "Failed!\n",
            "Setting up PyTorch plugin \"upfirdn2d_plugin\"... Failed!\n"
          ]
        },
        {
          "name": "stderr",
          "output_type": "stream",
          "text": [
            "c:\\Users\\jongm\\OneDrive - 광운대학교\\ProjecTS\\AID-AI-Design-1\\ai\\stylegan2_ada_pytorch\\torch_utils\\ops\\upfirdn2d.py:34: UserWarning: Failed to build CUDA kernels for upfirdn2d. Falling back to slow reference implementation. Details:\n",
            "\n",
            "Traceback (most recent call last):\n",
            "  File \"c:\\Users\\jongm\\OneDrive - 광운대학교\\ProjecTS\\AID-AI-Design-1\\ai\\stylegan2_ada_pytorch\\torch_utils\\ops\\upfirdn2d.py\", line 32, in _init\n",
            "    _plugin = custom_ops.get_plugin('upfirdn2d_plugin', sources=sources, extra_cuda_cflags=['--use_fast_math'])\n",
            "  File \"c:\\Users\\jongm\\OneDrive - 광운대학교\\ProjecTS\\AID-AI-Design-1\\ai\\stylegan2_ada_pytorch\\torch_utils\\custom_ops.py\", line 110, in get_plugin\n",
            "    torch.utils.cpp_extension.load(name=module_name, verbose=verbose_build, sources=sources, **build_kwargs)\n",
            "  File \"C:\\Users\\jongm\\anaconda3\\envs\\torch_cu110\\lib\\site-packages\\torch\\utils\\cpp_extension.py\", line 986, in load\n",
            "    return _jit_compile(\n",
            "  File \"C:\\Users\\jongm\\anaconda3\\envs\\torch_cu110\\lib\\site-packages\\torch\\utils\\cpp_extension.py\", line 1213, in _jit_compile\n",
            "    return _import_module_from_library(name, build_directory, is_python_module)\n",
            "  File \"C:\\Users\\jongm\\anaconda3\\envs\\torch_cu110\\lib\\site-packages\\torch\\utils\\cpp_extension.py\", line 1560, in _import_module_from_library\n",
            "    file, path, description = imp.find_module(module_name, [path])\n",
            "  File \"C:\\Users\\jongm\\anaconda3\\envs\\torch_cu110\\lib\\imp.py\", line 296, in find_module\n",
            "    raise ImportError(_ERR_MSG.format(name), name=name)\n",
            "ImportError: No module named 'upfirdn2d_plugin'\n",
            "\n",
            "  warnings.warn('Failed to build CUDA kernels for upfirdn2d. Falling back to slow reference implementation. Details:\\n\\n' + traceback.format_exc())\n"
          ]
        },
        {
          "name": "stdout",
          "output_type": "stream",
          "text": [
            "Setting up PyTorch plugin \"upfirdn2d_plugin\"... "
          ]
        },
        {
          "name": "stderr",
          "output_type": "stream",
          "text": [
            "c:\\Users\\jongm\\OneDrive - 광운대학교\\ProjecTS\\AID-AI-Design-1\\ai\\stylegan2_ada_pytorch\\torch_utils\\ops\\upfirdn2d.py:34: UserWarning: Failed to build CUDA kernels for upfirdn2d. Falling back to slow reference implementation. Details:\n",
            "\n",
            "Traceback (most recent call last):\n",
            "  File \"c:\\Users\\jongm\\OneDrive - 광운대학교\\ProjecTS\\AID-AI-Design-1\\ai\\stylegan2_ada_pytorch\\torch_utils\\ops\\upfirdn2d.py\", line 32, in _init\n",
            "    _plugin = custom_ops.get_plugin('upfirdn2d_plugin', sources=sources, extra_cuda_cflags=['--use_fast_math'])\n",
            "  File \"c:\\Users\\jongm\\OneDrive - 광운대학교\\ProjecTS\\AID-AI-Design-1\\ai\\stylegan2_ada_pytorch\\torch_utils\\custom_ops.py\", line 110, in get_plugin\n",
            "    torch.utils.cpp_extension.load(name=module_name, verbose=verbose_build, sources=sources, **build_kwargs)\n",
            "  File \"C:\\Users\\jongm\\anaconda3\\envs\\torch_cu110\\lib\\site-packages\\torch\\utils\\cpp_extension.py\", line 986, in load\n",
            "    return _jit_compile(\n",
            "  File \"C:\\Users\\jongm\\anaconda3\\envs\\torch_cu110\\lib\\site-packages\\torch\\utils\\cpp_extension.py\", line 1213, in _jit_compile\n",
            "    return _import_module_from_library(name, build_directory, is_python_module)\n",
            "  File \"C:\\Users\\jongm\\anaconda3\\envs\\torch_cu110\\lib\\site-packages\\torch\\utils\\cpp_extension.py\", line 1560, in _import_module_from_library\n",
            "    file, path, description = imp.find_module(module_name, [path])\n",
            "  File \"C:\\Users\\jongm\\anaconda3\\envs\\torch_cu110\\lib\\imp.py\", line 296, in find_module\n",
            "    raise ImportError(_ERR_MSG.format(name), name=name)\n",
            "ImportError: No module named 'upfirdn2d_plugin'\n",
            "\n",
            "  warnings.warn('Failed to build CUDA kernels for upfirdn2d. Falling back to slow reference implementation. Details:\\n\\n' + traceback.format_exc())\n"
          ]
        },
        {
          "name": "stdout",
          "output_type": "stream",
          "text": [
            "Failed!\n"
          ]
        },
        {
          "name": "stderr",
          "output_type": "stream",
          "text": [
            "c:\\Users\\jongm\\OneDrive - 광운대학교\\ProjecTS\\AID-AI-Design-1\\ai\\stylegan2_ada_pytorch\\torch_utils\\ops\\upfirdn2d.py:34: UserWarning: Failed to build CUDA kernels for upfirdn2d. Falling back to slow reference implementation. Details:\n",
            "\n",
            "Traceback (most recent call last):\n",
            "  File \"c:\\Users\\jongm\\OneDrive - 광운대학교\\ProjecTS\\AID-AI-Design-1\\ai\\stylegan2_ada_pytorch\\torch_utils\\ops\\upfirdn2d.py\", line 32, in _init\n",
            "    _plugin = custom_ops.get_plugin('upfirdn2d_plugin', sources=sources, extra_cuda_cflags=['--use_fast_math'])\n",
            "  File \"c:\\Users\\jongm\\OneDrive - 광운대학교\\ProjecTS\\AID-AI-Design-1\\ai\\stylegan2_ada_pytorch\\torch_utils\\custom_ops.py\", line 110, in get_plugin\n",
            "    torch.utils.cpp_extension.load(name=module_name, verbose=verbose_build, sources=sources, **build_kwargs)\n",
            "  File \"C:\\Users\\jongm\\anaconda3\\envs\\torch_cu110\\lib\\site-packages\\torch\\utils\\cpp_extension.py\", line 986, in load\n",
            "    return _jit_compile(\n",
            "  File \"C:\\Users\\jongm\\anaconda3\\envs\\torch_cu110\\lib\\site-packages\\torch\\utils\\cpp_extension.py\", line 1213, in _jit_compile\n",
            "    return _import_module_from_library(name, build_directory, is_python_module)\n",
            "  File \"C:\\Users\\jongm\\anaconda3\\envs\\torch_cu110\\lib\\site-packages\\torch\\utils\\cpp_extension.py\", line 1560, in _import_module_from_library\n",
            "    file, path, description = imp.find_module(module_name, [path])\n",
            "  File \"C:\\Users\\jongm\\anaconda3\\envs\\torch_cu110\\lib\\imp.py\", line 296, in find_module\n",
            "    raise ImportError(_ERR_MSG.format(name), name=name)\n",
            "ImportError: No module named 'upfirdn2d_plugin'\n",
            "\n",
            "  warnings.warn('Failed to build CUDA kernels for upfirdn2d. Falling back to slow reference implementation. Details:\\n\\n' + traceback.format_exc())\n"
          ]
        },
        {
          "name": "stdout",
          "output_type": "stream",
          "text": [
            "Setting up PyTorch plugin \"upfirdn2d_plugin\"... Failed!\n",
            "Setting up PyTorch plugin \"upfirdn2d_plugin\"... "
          ]
        },
        {
          "name": "stderr",
          "output_type": "stream",
          "text": [
            "c:\\Users\\jongm\\OneDrive - 광운대학교\\ProjecTS\\AID-AI-Design-1\\ai\\stylegan2_ada_pytorch\\torch_utils\\ops\\upfirdn2d.py:34: UserWarning: Failed to build CUDA kernels for upfirdn2d. Falling back to slow reference implementation. Details:\n",
            "\n",
            "Traceback (most recent call last):\n",
            "  File \"c:\\Users\\jongm\\OneDrive - 광운대학교\\ProjecTS\\AID-AI-Design-1\\ai\\stylegan2_ada_pytorch\\torch_utils\\ops\\upfirdn2d.py\", line 32, in _init\n",
            "    _plugin = custom_ops.get_plugin('upfirdn2d_plugin', sources=sources, extra_cuda_cflags=['--use_fast_math'])\n",
            "  File \"c:\\Users\\jongm\\OneDrive - 광운대학교\\ProjecTS\\AID-AI-Design-1\\ai\\stylegan2_ada_pytorch\\torch_utils\\custom_ops.py\", line 110, in get_plugin\n",
            "    torch.utils.cpp_extension.load(name=module_name, verbose=verbose_build, sources=sources, **build_kwargs)\n",
            "  File \"C:\\Users\\jongm\\anaconda3\\envs\\torch_cu110\\lib\\site-packages\\torch\\utils\\cpp_extension.py\", line 986, in load\n",
            "    return _jit_compile(\n",
            "  File \"C:\\Users\\jongm\\anaconda3\\envs\\torch_cu110\\lib\\site-packages\\torch\\utils\\cpp_extension.py\", line 1213, in _jit_compile\n",
            "    return _import_module_from_library(name, build_directory, is_python_module)\n",
            "  File \"C:\\Users\\jongm\\anaconda3\\envs\\torch_cu110\\lib\\site-packages\\torch\\utils\\cpp_extension.py\", line 1560, in _import_module_from_library\n",
            "    file, path, description = imp.find_module(module_name, [path])\n",
            "  File \"C:\\Users\\jongm\\anaconda3\\envs\\torch_cu110\\lib\\imp.py\", line 296, in find_module\n",
            "    raise ImportError(_ERR_MSG.format(name), name=name)\n",
            "ImportError: No module named 'upfirdn2d_plugin'\n",
            "\n",
            "  warnings.warn('Failed to build CUDA kernels for upfirdn2d. Falling back to slow reference implementation. Details:\\n\\n' + traceback.format_exc())\n"
          ]
        },
        {
          "name": "stdout",
          "output_type": "stream",
          "text": [
            "Failed!\n"
          ]
        },
        {
          "name": "stderr",
          "output_type": "stream",
          "text": [
            "c:\\Users\\jongm\\OneDrive - 광운대학교\\ProjecTS\\AID-AI-Design-1\\ai\\stylegan2_ada_pytorch\\torch_utils\\ops\\upfirdn2d.py:34: UserWarning: Failed to build CUDA kernels for upfirdn2d. Falling back to slow reference implementation. Details:\n",
            "\n",
            "Traceback (most recent call last):\n",
            "  File \"c:\\Users\\jongm\\OneDrive - 광운대학교\\ProjecTS\\AID-AI-Design-1\\ai\\stylegan2_ada_pytorch\\torch_utils\\ops\\upfirdn2d.py\", line 32, in _init\n",
            "    _plugin = custom_ops.get_plugin('upfirdn2d_plugin', sources=sources, extra_cuda_cflags=['--use_fast_math'])\n",
            "  File \"c:\\Users\\jongm\\OneDrive - 광운대학교\\ProjecTS\\AID-AI-Design-1\\ai\\stylegan2_ada_pytorch\\torch_utils\\custom_ops.py\", line 110, in get_plugin\n",
            "    torch.utils.cpp_extension.load(name=module_name, verbose=verbose_build, sources=sources, **build_kwargs)\n",
            "  File \"C:\\Users\\jongm\\anaconda3\\envs\\torch_cu110\\lib\\site-packages\\torch\\utils\\cpp_extension.py\", line 986, in load\n",
            "    return _jit_compile(\n",
            "  File \"C:\\Users\\jongm\\anaconda3\\envs\\torch_cu110\\lib\\site-packages\\torch\\utils\\cpp_extension.py\", line 1213, in _jit_compile\n",
            "    return _import_module_from_library(name, build_directory, is_python_module)\n",
            "  File \"C:\\Users\\jongm\\anaconda3\\envs\\torch_cu110\\lib\\site-packages\\torch\\utils\\cpp_extension.py\", line 1560, in _import_module_from_library\n",
            "    file, path, description = imp.find_module(module_name, [path])\n",
            "  File \"C:\\Users\\jongm\\anaconda3\\envs\\torch_cu110\\lib\\imp.py\", line 296, in find_module\n",
            "    raise ImportError(_ERR_MSG.format(name), name=name)\n",
            "ImportError: No module named 'upfirdn2d_plugin'\n",
            "\n",
            "  warnings.warn('Failed to build CUDA kernels for upfirdn2d. Falling back to slow reference implementation. Details:\\n\\n' + traceback.format_exc())\n"
          ]
        },
        {
          "name": "stdout",
          "output_type": "stream",
          "text": [
            "Setting up PyTorch plugin \"upfirdn2d_plugin\"... Failed!\n",
            "Setting up PyTorch plugin \"upfirdn2d_plugin\"... "
          ]
        },
        {
          "name": "stderr",
          "output_type": "stream",
          "text": [
            "c:\\Users\\jongm\\OneDrive - 광운대학교\\ProjecTS\\AID-AI-Design-1\\ai\\stylegan2_ada_pytorch\\torch_utils\\ops\\upfirdn2d.py:34: UserWarning: Failed to build CUDA kernels for upfirdn2d. Falling back to slow reference implementation. Details:\n",
            "\n",
            "Traceback (most recent call last):\n",
            "  File \"c:\\Users\\jongm\\OneDrive - 광운대학교\\ProjecTS\\AID-AI-Design-1\\ai\\stylegan2_ada_pytorch\\torch_utils\\ops\\upfirdn2d.py\", line 32, in _init\n",
            "    _plugin = custom_ops.get_plugin('upfirdn2d_plugin', sources=sources, extra_cuda_cflags=['--use_fast_math'])\n",
            "  File \"c:\\Users\\jongm\\OneDrive - 광운대학교\\ProjecTS\\AID-AI-Design-1\\ai\\stylegan2_ada_pytorch\\torch_utils\\custom_ops.py\", line 110, in get_plugin\n",
            "    torch.utils.cpp_extension.load(name=module_name, verbose=verbose_build, sources=sources, **build_kwargs)\n",
            "  File \"C:\\Users\\jongm\\anaconda3\\envs\\torch_cu110\\lib\\site-packages\\torch\\utils\\cpp_extension.py\", line 986, in load\n",
            "    return _jit_compile(\n",
            "  File \"C:\\Users\\jongm\\anaconda3\\envs\\torch_cu110\\lib\\site-packages\\torch\\utils\\cpp_extension.py\", line 1213, in _jit_compile\n",
            "    return _import_module_from_library(name, build_directory, is_python_module)\n",
            "  File \"C:\\Users\\jongm\\anaconda3\\envs\\torch_cu110\\lib\\site-packages\\torch\\utils\\cpp_extension.py\", line 1560, in _import_module_from_library\n",
            "    file, path, description = imp.find_module(module_name, [path])\n",
            "  File \"C:\\Users\\jongm\\anaconda3\\envs\\torch_cu110\\lib\\imp.py\", line 296, in find_module\n",
            "    raise ImportError(_ERR_MSG.format(name), name=name)\n",
            "ImportError: No module named 'upfirdn2d_plugin'\n",
            "\n",
            "  warnings.warn('Failed to build CUDA kernels for upfirdn2d. Falling back to slow reference implementation. Details:\\n\\n' + traceback.format_exc())\n"
          ]
        },
        {
          "name": "stdout",
          "output_type": "stream",
          "text": [
            "Failed!\n"
          ]
        },
        {
          "name": "stderr",
          "output_type": "stream",
          "text": [
            "c:\\Users\\jongm\\OneDrive - 광운대학교\\ProjecTS\\AID-AI-Design-1\\ai\\stylegan2_ada_pytorch\\torch_utils\\ops\\upfirdn2d.py:34: UserWarning: Failed to build CUDA kernels for upfirdn2d. Falling back to slow reference implementation. Details:\n",
            "\n",
            "Traceback (most recent call last):\n",
            "  File \"c:\\Users\\jongm\\OneDrive - 광운대학교\\ProjecTS\\AID-AI-Design-1\\ai\\stylegan2_ada_pytorch\\torch_utils\\ops\\upfirdn2d.py\", line 32, in _init\n",
            "    _plugin = custom_ops.get_plugin('upfirdn2d_plugin', sources=sources, extra_cuda_cflags=['--use_fast_math'])\n",
            "  File \"c:\\Users\\jongm\\OneDrive - 광운대학교\\ProjecTS\\AID-AI-Design-1\\ai\\stylegan2_ada_pytorch\\torch_utils\\custom_ops.py\", line 110, in get_plugin\n",
            "    torch.utils.cpp_extension.load(name=module_name, verbose=verbose_build, sources=sources, **build_kwargs)\n",
            "  File \"C:\\Users\\jongm\\anaconda3\\envs\\torch_cu110\\lib\\site-packages\\torch\\utils\\cpp_extension.py\", line 986, in load\n",
            "    return _jit_compile(\n",
            "  File \"C:\\Users\\jongm\\anaconda3\\envs\\torch_cu110\\lib\\site-packages\\torch\\utils\\cpp_extension.py\", line 1213, in _jit_compile\n",
            "    return _import_module_from_library(name, build_directory, is_python_module)\n",
            "  File \"C:\\Users\\jongm\\anaconda3\\envs\\torch_cu110\\lib\\site-packages\\torch\\utils\\cpp_extension.py\", line 1560, in _import_module_from_library\n",
            "    file, path, description = imp.find_module(module_name, [path])\n",
            "  File \"C:\\Users\\jongm\\anaconda3\\envs\\torch_cu110\\lib\\imp.py\", line 296, in find_module\n",
            "    raise ImportError(_ERR_MSG.format(name), name=name)\n",
            "ImportError: No module named 'upfirdn2d_plugin'\n",
            "\n",
            "  warnings.warn('Failed to build CUDA kernels for upfirdn2d. Falling back to slow reference implementation. Details:\\n\\n' + traceback.format_exc())\n"
          ]
        },
        {
          "name": "stdout",
          "output_type": "stream",
          "text": [
            "Setting up PyTorch plugin \"upfirdn2d_plugin\"... Failed!\n"
          ]
        },
        {
          "name": "stderr",
          "output_type": "stream",
          "text": [
            "c:\\Users\\jongm\\OneDrive - 광운대학교\\ProjecTS\\AID-AI-Design-1\\ai\\stylegan2_ada_pytorch\\torch_utils\\ops\\upfirdn2d.py:34: UserWarning: Failed to build CUDA kernels for upfirdn2d. Falling back to slow reference implementation. Details:\n",
            "\n",
            "Traceback (most recent call last):\n",
            "  File \"c:\\Users\\jongm\\OneDrive - 광운대학교\\ProjecTS\\AID-AI-Design-1\\ai\\stylegan2_ada_pytorch\\torch_utils\\ops\\upfirdn2d.py\", line 32, in _init\n",
            "    _plugin = custom_ops.get_plugin('upfirdn2d_plugin', sources=sources, extra_cuda_cflags=['--use_fast_math'])\n",
            "  File \"c:\\Users\\jongm\\OneDrive - 광운대학교\\ProjecTS\\AID-AI-Design-1\\ai\\stylegan2_ada_pytorch\\torch_utils\\custom_ops.py\", line 110, in get_plugin\n",
            "    torch.utils.cpp_extension.load(name=module_name, verbose=verbose_build, sources=sources, **build_kwargs)\n",
            "  File \"C:\\Users\\jongm\\anaconda3\\envs\\torch_cu110\\lib\\site-packages\\torch\\utils\\cpp_extension.py\", line 986, in load\n",
            "    return _jit_compile(\n",
            "  File \"C:\\Users\\jongm\\anaconda3\\envs\\torch_cu110\\lib\\site-packages\\torch\\utils\\cpp_extension.py\", line 1213, in _jit_compile\n",
            "    return _import_module_from_library(name, build_directory, is_python_module)\n",
            "  File \"C:\\Users\\jongm\\anaconda3\\envs\\torch_cu110\\lib\\site-packages\\torch\\utils\\cpp_extension.py\", line 1560, in _import_module_from_library\n",
            "    file, path, description = imp.find_module(module_name, [path])\n",
            "  File \"C:\\Users\\jongm\\anaconda3\\envs\\torch_cu110\\lib\\imp.py\", line 296, in find_module\n",
            "    raise ImportError(_ERR_MSG.format(name), name=name)\n",
            "ImportError: No module named 'upfirdn2d_plugin'\n",
            "\n",
            "  warnings.warn('Failed to build CUDA kernels for upfirdn2d. Falling back to slow reference implementation. Details:\\n\\n' + traceback.format_exc())\n"
          ]
        },
        {
          "name": "stdout",
          "output_type": "stream",
          "text": [
            "Generating style-mixed images...\n",
            "Setting up PyTorch plugin \"upfirdn2d_plugin\"... Failed!\n",
            "Setting up PyTorch plugin \"upfirdn2d_plugin\"... "
          ]
        },
        {
          "name": "stderr",
          "output_type": "stream",
          "text": [
            "c:\\Users\\jongm\\OneDrive - 광운대학교\\ProjecTS\\AID-AI-Design-1\\ai\\stylegan2_ada_pytorch\\torch_utils\\ops\\upfirdn2d.py:34: UserWarning: Failed to build CUDA kernels for upfirdn2d. Falling back to slow reference implementation. Details:\n",
            "\n",
            "Traceback (most recent call last):\n",
            "  File \"c:\\Users\\jongm\\OneDrive - 광운대학교\\ProjecTS\\AID-AI-Design-1\\ai\\stylegan2_ada_pytorch\\torch_utils\\ops\\upfirdn2d.py\", line 32, in _init\n",
            "    _plugin = custom_ops.get_plugin('upfirdn2d_plugin', sources=sources, extra_cuda_cflags=['--use_fast_math'])\n",
            "  File \"c:\\Users\\jongm\\OneDrive - 광운대학교\\ProjecTS\\AID-AI-Design-1\\ai\\stylegan2_ada_pytorch\\torch_utils\\custom_ops.py\", line 110, in get_plugin\n",
            "    torch.utils.cpp_extension.load(name=module_name, verbose=verbose_build, sources=sources, **build_kwargs)\n",
            "  File \"C:\\Users\\jongm\\anaconda3\\envs\\torch_cu110\\lib\\site-packages\\torch\\utils\\cpp_extension.py\", line 986, in load\n",
            "    return _jit_compile(\n",
            "  File \"C:\\Users\\jongm\\anaconda3\\envs\\torch_cu110\\lib\\site-packages\\torch\\utils\\cpp_extension.py\", line 1213, in _jit_compile\n",
            "    return _import_module_from_library(name, build_directory, is_python_module)\n",
            "  File \"C:\\Users\\jongm\\anaconda3\\envs\\torch_cu110\\lib\\site-packages\\torch\\utils\\cpp_extension.py\", line 1560, in _import_module_from_library\n",
            "    file, path, description = imp.find_module(module_name, [path])\n",
            "  File \"C:\\Users\\jongm\\anaconda3\\envs\\torch_cu110\\lib\\imp.py\", line 296, in find_module\n",
            "    raise ImportError(_ERR_MSG.format(name), name=name)\n",
            "ImportError: No module named 'upfirdn2d_plugin'\n",
            "\n",
            "  warnings.warn('Failed to build CUDA kernels for upfirdn2d. Falling back to slow reference implementation. Details:\\n\\n' + traceback.format_exc())\n"
          ]
        },
        {
          "name": "stdout",
          "output_type": "stream",
          "text": [
            "Failed!\n",
            "Setting up PyTorch plugin \"upfirdn2d_plugin\"... "
          ]
        },
        {
          "name": "stderr",
          "output_type": "stream",
          "text": [
            "c:\\Users\\jongm\\OneDrive - 광운대학교\\ProjecTS\\AID-AI-Design-1\\ai\\stylegan2_ada_pytorch\\torch_utils\\ops\\upfirdn2d.py:34: UserWarning: Failed to build CUDA kernels for upfirdn2d. Falling back to slow reference implementation. Details:\n",
            "\n",
            "Traceback (most recent call last):\n",
            "  File \"c:\\Users\\jongm\\OneDrive - 광운대학교\\ProjecTS\\AID-AI-Design-1\\ai\\stylegan2_ada_pytorch\\torch_utils\\ops\\upfirdn2d.py\", line 32, in _init\n",
            "    _plugin = custom_ops.get_plugin('upfirdn2d_plugin', sources=sources, extra_cuda_cflags=['--use_fast_math'])\n",
            "  File \"c:\\Users\\jongm\\OneDrive - 광운대학교\\ProjecTS\\AID-AI-Design-1\\ai\\stylegan2_ada_pytorch\\torch_utils\\custom_ops.py\", line 110, in get_plugin\n",
            "    torch.utils.cpp_extension.load(name=module_name, verbose=verbose_build, sources=sources, **build_kwargs)\n",
            "  File \"C:\\Users\\jongm\\anaconda3\\envs\\torch_cu110\\lib\\site-packages\\torch\\utils\\cpp_extension.py\", line 986, in load\n",
            "    return _jit_compile(\n",
            "  File \"C:\\Users\\jongm\\anaconda3\\envs\\torch_cu110\\lib\\site-packages\\torch\\utils\\cpp_extension.py\", line 1213, in _jit_compile\n",
            "    return _import_module_from_library(name, build_directory, is_python_module)\n",
            "  File \"C:\\Users\\jongm\\anaconda3\\envs\\torch_cu110\\lib\\site-packages\\torch\\utils\\cpp_extension.py\", line 1560, in _import_module_from_library\n",
            "    file, path, description = imp.find_module(module_name, [path])\n",
            "  File \"C:\\Users\\jongm\\anaconda3\\envs\\torch_cu110\\lib\\imp.py\", line 296, in find_module\n",
            "    raise ImportError(_ERR_MSG.format(name), name=name)\n",
            "ImportError: No module named 'upfirdn2d_plugin'\n",
            "\n",
            "  warnings.warn('Failed to build CUDA kernels for upfirdn2d. Falling back to slow reference implementation. Details:\\n\\n' + traceback.format_exc())\n"
          ]
        },
        {
          "name": "stdout",
          "output_type": "stream",
          "text": [
            "Failed!\n",
            "Setting up PyTorch plugin \"upfirdn2d_plugin\"... "
          ]
        },
        {
          "name": "stderr",
          "output_type": "stream",
          "text": [
            "c:\\Users\\jongm\\OneDrive - 광운대학교\\ProjecTS\\AID-AI-Design-1\\ai\\stylegan2_ada_pytorch\\torch_utils\\ops\\upfirdn2d.py:34: UserWarning: Failed to build CUDA kernels for upfirdn2d. Falling back to slow reference implementation. Details:\n",
            "\n",
            "Traceback (most recent call last):\n",
            "  File \"c:\\Users\\jongm\\OneDrive - 광운대학교\\ProjecTS\\AID-AI-Design-1\\ai\\stylegan2_ada_pytorch\\torch_utils\\ops\\upfirdn2d.py\", line 32, in _init\n",
            "    _plugin = custom_ops.get_plugin('upfirdn2d_plugin', sources=sources, extra_cuda_cflags=['--use_fast_math'])\n",
            "  File \"c:\\Users\\jongm\\OneDrive - 광운대학교\\ProjecTS\\AID-AI-Design-1\\ai\\stylegan2_ada_pytorch\\torch_utils\\custom_ops.py\", line 110, in get_plugin\n",
            "    torch.utils.cpp_extension.load(name=module_name, verbose=verbose_build, sources=sources, **build_kwargs)\n",
            "  File \"C:\\Users\\jongm\\anaconda3\\envs\\torch_cu110\\lib\\site-packages\\torch\\utils\\cpp_extension.py\", line 986, in load\n",
            "    return _jit_compile(\n",
            "  File \"C:\\Users\\jongm\\anaconda3\\envs\\torch_cu110\\lib\\site-packages\\torch\\utils\\cpp_extension.py\", line 1213, in _jit_compile\n",
            "    return _import_module_from_library(name, build_directory, is_python_module)\n",
            "  File \"C:\\Users\\jongm\\anaconda3\\envs\\torch_cu110\\lib\\site-packages\\torch\\utils\\cpp_extension.py\", line 1560, in _import_module_from_library\n",
            "    file, path, description = imp.find_module(module_name, [path])\n",
            "  File \"C:\\Users\\jongm\\anaconda3\\envs\\torch_cu110\\lib\\imp.py\", line 296, in find_module\n",
            "    raise ImportError(_ERR_MSG.format(name), name=name)\n",
            "ImportError: No module named 'upfirdn2d_plugin'\n",
            "\n",
            "  warnings.warn('Failed to build CUDA kernels for upfirdn2d. Falling back to slow reference implementation. Details:\\n\\n' + traceback.format_exc())\n"
          ]
        },
        {
          "name": "stdout",
          "output_type": "stream",
          "text": [
            "Failed!\n",
            "Setting up PyTorch plugin \"upfirdn2d_plugin\"... "
          ]
        },
        {
          "name": "stderr",
          "output_type": "stream",
          "text": [
            "c:\\Users\\jongm\\OneDrive - 광운대학교\\ProjecTS\\AID-AI-Design-1\\ai\\stylegan2_ada_pytorch\\torch_utils\\ops\\upfirdn2d.py:34: UserWarning: Failed to build CUDA kernels for upfirdn2d. Falling back to slow reference implementation. Details:\n",
            "\n",
            "Traceback (most recent call last):\n",
            "  File \"c:\\Users\\jongm\\OneDrive - 광운대학교\\ProjecTS\\AID-AI-Design-1\\ai\\stylegan2_ada_pytorch\\torch_utils\\ops\\upfirdn2d.py\", line 32, in _init\n",
            "    _plugin = custom_ops.get_plugin('upfirdn2d_plugin', sources=sources, extra_cuda_cflags=['--use_fast_math'])\n",
            "  File \"c:\\Users\\jongm\\OneDrive - 광운대학교\\ProjecTS\\AID-AI-Design-1\\ai\\stylegan2_ada_pytorch\\torch_utils\\custom_ops.py\", line 110, in get_plugin\n",
            "    torch.utils.cpp_extension.load(name=module_name, verbose=verbose_build, sources=sources, **build_kwargs)\n",
            "  File \"C:\\Users\\jongm\\anaconda3\\envs\\torch_cu110\\lib\\site-packages\\torch\\utils\\cpp_extension.py\", line 986, in load\n",
            "    return _jit_compile(\n",
            "  File \"C:\\Users\\jongm\\anaconda3\\envs\\torch_cu110\\lib\\site-packages\\torch\\utils\\cpp_extension.py\", line 1213, in _jit_compile\n",
            "    return _import_module_from_library(name, build_directory, is_python_module)\n",
            "  File \"C:\\Users\\jongm\\anaconda3\\envs\\torch_cu110\\lib\\site-packages\\torch\\utils\\cpp_extension.py\", line 1560, in _import_module_from_library\n",
            "    file, path, description = imp.find_module(module_name, [path])\n",
            "  File \"C:\\Users\\jongm\\anaconda3\\envs\\torch_cu110\\lib\\imp.py\", line 296, in find_module\n",
            "    raise ImportError(_ERR_MSG.format(name), name=name)\n",
            "ImportError: No module named 'upfirdn2d_plugin'\n",
            "\n",
            "  warnings.warn('Failed to build CUDA kernels for upfirdn2d. Falling back to slow reference implementation. Details:\\n\\n' + traceback.format_exc())\n"
          ]
        },
        {
          "name": "stdout",
          "output_type": "stream",
          "text": [
            "Failed!\n",
            "Setting up PyTorch plugin \"upfirdn2d_plugin\"... "
          ]
        },
        {
          "name": "stderr",
          "output_type": "stream",
          "text": [
            "c:\\Users\\jongm\\OneDrive - 광운대학교\\ProjecTS\\AID-AI-Design-1\\ai\\stylegan2_ada_pytorch\\torch_utils\\ops\\upfirdn2d.py:34: UserWarning: Failed to build CUDA kernels for upfirdn2d. Falling back to slow reference implementation. Details:\n",
            "\n",
            "Traceback (most recent call last):\n",
            "  File \"c:\\Users\\jongm\\OneDrive - 광운대학교\\ProjecTS\\AID-AI-Design-1\\ai\\stylegan2_ada_pytorch\\torch_utils\\ops\\upfirdn2d.py\", line 32, in _init\n",
            "    _plugin = custom_ops.get_plugin('upfirdn2d_plugin', sources=sources, extra_cuda_cflags=['--use_fast_math'])\n",
            "  File \"c:\\Users\\jongm\\OneDrive - 광운대학교\\ProjecTS\\AID-AI-Design-1\\ai\\stylegan2_ada_pytorch\\torch_utils\\custom_ops.py\", line 110, in get_plugin\n",
            "    torch.utils.cpp_extension.load(name=module_name, verbose=verbose_build, sources=sources, **build_kwargs)\n",
            "  File \"C:\\Users\\jongm\\anaconda3\\envs\\torch_cu110\\lib\\site-packages\\torch\\utils\\cpp_extension.py\", line 986, in load\n",
            "    return _jit_compile(\n",
            "  File \"C:\\Users\\jongm\\anaconda3\\envs\\torch_cu110\\lib\\site-packages\\torch\\utils\\cpp_extension.py\", line 1213, in _jit_compile\n",
            "    return _import_module_from_library(name, build_directory, is_python_module)\n",
            "  File \"C:\\Users\\jongm\\anaconda3\\envs\\torch_cu110\\lib\\site-packages\\torch\\utils\\cpp_extension.py\", line 1560, in _import_module_from_library\n",
            "    file, path, description = imp.find_module(module_name, [path])\n",
            "  File \"C:\\Users\\jongm\\anaconda3\\envs\\torch_cu110\\lib\\imp.py\", line 296, in find_module\n",
            "    raise ImportError(_ERR_MSG.format(name), name=name)\n",
            "ImportError: No module named 'upfirdn2d_plugin'\n",
            "\n",
            "  warnings.warn('Failed to build CUDA kernels for upfirdn2d. Falling back to slow reference implementation. Details:\\n\\n' + traceback.format_exc())\n"
          ]
        },
        {
          "name": "stdout",
          "output_type": "stream",
          "text": [
            "Failed!\n",
            "Setting up PyTorch plugin \"upfirdn2d_plugin\"... "
          ]
        },
        {
          "name": "stderr",
          "output_type": "stream",
          "text": [
            "c:\\Users\\jongm\\OneDrive - 광운대학교\\ProjecTS\\AID-AI-Design-1\\ai\\stylegan2_ada_pytorch\\torch_utils\\ops\\upfirdn2d.py:34: UserWarning: Failed to build CUDA kernels for upfirdn2d. Falling back to slow reference implementation. Details:\n",
            "\n",
            "Traceback (most recent call last):\n",
            "  File \"c:\\Users\\jongm\\OneDrive - 광운대학교\\ProjecTS\\AID-AI-Design-1\\ai\\stylegan2_ada_pytorch\\torch_utils\\ops\\upfirdn2d.py\", line 32, in _init\n",
            "    _plugin = custom_ops.get_plugin('upfirdn2d_plugin', sources=sources, extra_cuda_cflags=['--use_fast_math'])\n",
            "  File \"c:\\Users\\jongm\\OneDrive - 광운대학교\\ProjecTS\\AID-AI-Design-1\\ai\\stylegan2_ada_pytorch\\torch_utils\\custom_ops.py\", line 110, in get_plugin\n",
            "    torch.utils.cpp_extension.load(name=module_name, verbose=verbose_build, sources=sources, **build_kwargs)\n",
            "  File \"C:\\Users\\jongm\\anaconda3\\envs\\torch_cu110\\lib\\site-packages\\torch\\utils\\cpp_extension.py\", line 986, in load\n",
            "    return _jit_compile(\n",
            "  File \"C:\\Users\\jongm\\anaconda3\\envs\\torch_cu110\\lib\\site-packages\\torch\\utils\\cpp_extension.py\", line 1213, in _jit_compile\n",
            "    return _import_module_from_library(name, build_directory, is_python_module)\n",
            "  File \"C:\\Users\\jongm\\anaconda3\\envs\\torch_cu110\\lib\\site-packages\\torch\\utils\\cpp_extension.py\", line 1560, in _import_module_from_library\n",
            "    file, path, description = imp.find_module(module_name, [path])\n",
            "  File \"C:\\Users\\jongm\\anaconda3\\envs\\torch_cu110\\lib\\imp.py\", line 296, in find_module\n",
            "    raise ImportError(_ERR_MSG.format(name), name=name)\n",
            "ImportError: No module named 'upfirdn2d_plugin'\n",
            "\n",
            "  warnings.warn('Failed to build CUDA kernels for upfirdn2d. Falling back to slow reference implementation. Details:\\n\\n' + traceback.format_exc())\n"
          ]
        },
        {
          "name": "stdout",
          "output_type": "stream",
          "text": [
            "Failed!\n",
            "Setting up PyTorch plugin \"upfirdn2d_plugin\"... "
          ]
        },
        {
          "name": "stderr",
          "output_type": "stream",
          "text": [
            "c:\\Users\\jongm\\OneDrive - 광운대학교\\ProjecTS\\AID-AI-Design-1\\ai\\stylegan2_ada_pytorch\\torch_utils\\ops\\upfirdn2d.py:34: UserWarning: Failed to build CUDA kernels for upfirdn2d. Falling back to slow reference implementation. Details:\n",
            "\n",
            "Traceback (most recent call last):\n",
            "  File \"c:\\Users\\jongm\\OneDrive - 광운대학교\\ProjecTS\\AID-AI-Design-1\\ai\\stylegan2_ada_pytorch\\torch_utils\\ops\\upfirdn2d.py\", line 32, in _init\n",
            "    _plugin = custom_ops.get_plugin('upfirdn2d_plugin', sources=sources, extra_cuda_cflags=['--use_fast_math'])\n",
            "  File \"c:\\Users\\jongm\\OneDrive - 광운대학교\\ProjecTS\\AID-AI-Design-1\\ai\\stylegan2_ada_pytorch\\torch_utils\\custom_ops.py\", line 110, in get_plugin\n",
            "    torch.utils.cpp_extension.load(name=module_name, verbose=verbose_build, sources=sources, **build_kwargs)\n",
            "  File \"C:\\Users\\jongm\\anaconda3\\envs\\torch_cu110\\lib\\site-packages\\torch\\utils\\cpp_extension.py\", line 986, in load\n",
            "    return _jit_compile(\n",
            "  File \"C:\\Users\\jongm\\anaconda3\\envs\\torch_cu110\\lib\\site-packages\\torch\\utils\\cpp_extension.py\", line 1213, in _jit_compile\n",
            "    return _import_module_from_library(name, build_directory, is_python_module)\n",
            "  File \"C:\\Users\\jongm\\anaconda3\\envs\\torch_cu110\\lib\\site-packages\\torch\\utils\\cpp_extension.py\", line 1560, in _import_module_from_library\n",
            "    file, path, description = imp.find_module(module_name, [path])\n",
            "  File \"C:\\Users\\jongm\\anaconda3\\envs\\torch_cu110\\lib\\imp.py\", line 296, in find_module\n",
            "    raise ImportError(_ERR_MSG.format(name), name=name)\n",
            "ImportError: No module named 'upfirdn2d_plugin'\n",
            "\n",
            "  warnings.warn('Failed to build CUDA kernels for upfirdn2d. Falling back to slow reference implementation. Details:\\n\\n' + traceback.format_exc())\n"
          ]
        },
        {
          "name": "stdout",
          "output_type": "stream",
          "text": [
            "Failed!\n",
            "Setting up PyTorch plugin \"upfirdn2d_plugin\"... "
          ]
        },
        {
          "name": "stderr",
          "output_type": "stream",
          "text": [
            "c:\\Users\\jongm\\OneDrive - 광운대학교\\ProjecTS\\AID-AI-Design-1\\ai\\stylegan2_ada_pytorch\\torch_utils\\ops\\upfirdn2d.py:34: UserWarning: Failed to build CUDA kernels for upfirdn2d. Falling back to slow reference implementation. Details:\n",
            "\n",
            "Traceback (most recent call last):\n",
            "  File \"c:\\Users\\jongm\\OneDrive - 광운대학교\\ProjecTS\\AID-AI-Design-1\\ai\\stylegan2_ada_pytorch\\torch_utils\\ops\\upfirdn2d.py\", line 32, in _init\n",
            "    _plugin = custom_ops.get_plugin('upfirdn2d_plugin', sources=sources, extra_cuda_cflags=['--use_fast_math'])\n",
            "  File \"c:\\Users\\jongm\\OneDrive - 광운대학교\\ProjecTS\\AID-AI-Design-1\\ai\\stylegan2_ada_pytorch\\torch_utils\\custom_ops.py\", line 110, in get_plugin\n",
            "    torch.utils.cpp_extension.load(name=module_name, verbose=verbose_build, sources=sources, **build_kwargs)\n",
            "  File \"C:\\Users\\jongm\\anaconda3\\envs\\torch_cu110\\lib\\site-packages\\torch\\utils\\cpp_extension.py\", line 986, in load\n",
            "    return _jit_compile(\n",
            "  File \"C:\\Users\\jongm\\anaconda3\\envs\\torch_cu110\\lib\\site-packages\\torch\\utils\\cpp_extension.py\", line 1213, in _jit_compile\n",
            "    return _import_module_from_library(name, build_directory, is_python_module)\n",
            "  File \"C:\\Users\\jongm\\anaconda3\\envs\\torch_cu110\\lib\\site-packages\\torch\\utils\\cpp_extension.py\", line 1560, in _import_module_from_library\n",
            "    file, path, description = imp.find_module(module_name, [path])\n",
            "  File \"C:\\Users\\jongm\\anaconda3\\envs\\torch_cu110\\lib\\imp.py\", line 296, in find_module\n",
            "    raise ImportError(_ERR_MSG.format(name), name=name)\n",
            "ImportError: No module named 'upfirdn2d_plugin'\n",
            "\n",
            "  warnings.warn('Failed to build CUDA kernels for upfirdn2d. Falling back to slow reference implementation. Details:\\n\\n' + traceback.format_exc())\n"
          ]
        },
        {
          "name": "stdout",
          "output_type": "stream",
          "text": [
            "Failed!\n",
            "Setting up PyTorch plugin \"upfirdn2d_plugin\"... "
          ]
        },
        {
          "name": "stderr",
          "output_type": "stream",
          "text": [
            "c:\\Users\\jongm\\OneDrive - 광운대학교\\ProjecTS\\AID-AI-Design-1\\ai\\stylegan2_ada_pytorch\\torch_utils\\ops\\upfirdn2d.py:34: UserWarning: Failed to build CUDA kernels for upfirdn2d. Falling back to slow reference implementation. Details:\n",
            "\n",
            "Traceback (most recent call last):\n",
            "  File \"c:\\Users\\jongm\\OneDrive - 광운대학교\\ProjecTS\\AID-AI-Design-1\\ai\\stylegan2_ada_pytorch\\torch_utils\\ops\\upfirdn2d.py\", line 32, in _init\n",
            "    _plugin = custom_ops.get_plugin('upfirdn2d_plugin', sources=sources, extra_cuda_cflags=['--use_fast_math'])\n",
            "  File \"c:\\Users\\jongm\\OneDrive - 광운대학교\\ProjecTS\\AID-AI-Design-1\\ai\\stylegan2_ada_pytorch\\torch_utils\\custom_ops.py\", line 110, in get_plugin\n",
            "    torch.utils.cpp_extension.load(name=module_name, verbose=verbose_build, sources=sources, **build_kwargs)\n",
            "  File \"C:\\Users\\jongm\\anaconda3\\envs\\torch_cu110\\lib\\site-packages\\torch\\utils\\cpp_extension.py\", line 986, in load\n",
            "    return _jit_compile(\n",
            "  File \"C:\\Users\\jongm\\anaconda3\\envs\\torch_cu110\\lib\\site-packages\\torch\\utils\\cpp_extension.py\", line 1213, in _jit_compile\n",
            "    return _import_module_from_library(name, build_directory, is_python_module)\n",
            "  File \"C:\\Users\\jongm\\anaconda3\\envs\\torch_cu110\\lib\\site-packages\\torch\\utils\\cpp_extension.py\", line 1560, in _import_module_from_library\n",
            "    file, path, description = imp.find_module(module_name, [path])\n",
            "  File \"C:\\Users\\jongm\\anaconda3\\envs\\torch_cu110\\lib\\imp.py\", line 296, in find_module\n",
            "    raise ImportError(_ERR_MSG.format(name), name=name)\n",
            "ImportError: No module named 'upfirdn2d_plugin'\n",
            "\n",
            "  warnings.warn('Failed to build CUDA kernels for upfirdn2d. Falling back to slow reference implementation. Details:\\n\\n' + traceback.format_exc())\n"
          ]
        },
        {
          "name": "stdout",
          "output_type": "stream",
          "text": [
            "Failed!\n",
            "Setting up PyTorch plugin \"upfirdn2d_plugin\"... "
          ]
        },
        {
          "name": "stderr",
          "output_type": "stream",
          "text": [
            "c:\\Users\\jongm\\OneDrive - 광운대학교\\ProjecTS\\AID-AI-Design-1\\ai\\stylegan2_ada_pytorch\\torch_utils\\ops\\upfirdn2d.py:34: UserWarning: Failed to build CUDA kernels for upfirdn2d. Falling back to slow reference implementation. Details:\n",
            "\n",
            "Traceback (most recent call last):\n",
            "  File \"c:\\Users\\jongm\\OneDrive - 광운대학교\\ProjecTS\\AID-AI-Design-1\\ai\\stylegan2_ada_pytorch\\torch_utils\\ops\\upfirdn2d.py\", line 32, in _init\n",
            "    _plugin = custom_ops.get_plugin('upfirdn2d_plugin', sources=sources, extra_cuda_cflags=['--use_fast_math'])\n",
            "  File \"c:\\Users\\jongm\\OneDrive - 광운대학교\\ProjecTS\\AID-AI-Design-1\\ai\\stylegan2_ada_pytorch\\torch_utils\\custom_ops.py\", line 110, in get_plugin\n",
            "    torch.utils.cpp_extension.load(name=module_name, verbose=verbose_build, sources=sources, **build_kwargs)\n",
            "  File \"C:\\Users\\jongm\\anaconda3\\envs\\torch_cu110\\lib\\site-packages\\torch\\utils\\cpp_extension.py\", line 986, in load\n",
            "    return _jit_compile(\n",
            "  File \"C:\\Users\\jongm\\anaconda3\\envs\\torch_cu110\\lib\\site-packages\\torch\\utils\\cpp_extension.py\", line 1213, in _jit_compile\n",
            "    return _import_module_from_library(name, build_directory, is_python_module)\n",
            "  File \"C:\\Users\\jongm\\anaconda3\\envs\\torch_cu110\\lib\\site-packages\\torch\\utils\\cpp_extension.py\", line 1560, in _import_module_from_library\n",
            "    file, path, description = imp.find_module(module_name, [path])\n",
            "  File \"C:\\Users\\jongm\\anaconda3\\envs\\torch_cu110\\lib\\imp.py\", line 296, in find_module\n",
            "    raise ImportError(_ERR_MSG.format(name), name=name)\n",
            "ImportError: No module named 'upfirdn2d_plugin'\n",
            "\n",
            "  warnings.warn('Failed to build CUDA kernels for upfirdn2d. Falling back to slow reference implementation. Details:\\n\\n' + traceback.format_exc())\n"
          ]
        },
        {
          "name": "stdout",
          "output_type": "stream",
          "text": [
            "Failed!\n",
            "Setting up PyTorch plugin \"upfirdn2d_plugin\"... "
          ]
        },
        {
          "name": "stderr",
          "output_type": "stream",
          "text": [
            "c:\\Users\\jongm\\OneDrive - 광운대학교\\ProjecTS\\AID-AI-Design-1\\ai\\stylegan2_ada_pytorch\\torch_utils\\ops\\upfirdn2d.py:34: UserWarning: Failed to build CUDA kernels for upfirdn2d. Falling back to slow reference implementation. Details:\n",
            "\n",
            "Traceback (most recent call last):\n",
            "  File \"c:\\Users\\jongm\\OneDrive - 광운대학교\\ProjecTS\\AID-AI-Design-1\\ai\\stylegan2_ada_pytorch\\torch_utils\\ops\\upfirdn2d.py\", line 32, in _init\n",
            "    _plugin = custom_ops.get_plugin('upfirdn2d_plugin', sources=sources, extra_cuda_cflags=['--use_fast_math'])\n",
            "  File \"c:\\Users\\jongm\\OneDrive - 광운대학교\\ProjecTS\\AID-AI-Design-1\\ai\\stylegan2_ada_pytorch\\torch_utils\\custom_ops.py\", line 110, in get_plugin\n",
            "    torch.utils.cpp_extension.load(name=module_name, verbose=verbose_build, sources=sources, **build_kwargs)\n",
            "  File \"C:\\Users\\jongm\\anaconda3\\envs\\torch_cu110\\lib\\site-packages\\torch\\utils\\cpp_extension.py\", line 986, in load\n",
            "    return _jit_compile(\n",
            "  File \"C:\\Users\\jongm\\anaconda3\\envs\\torch_cu110\\lib\\site-packages\\torch\\utils\\cpp_extension.py\", line 1213, in _jit_compile\n",
            "    return _import_module_from_library(name, build_directory, is_python_module)\n",
            "  File \"C:\\Users\\jongm\\anaconda3\\envs\\torch_cu110\\lib\\site-packages\\torch\\utils\\cpp_extension.py\", line 1560, in _import_module_from_library\n",
            "    file, path, description = imp.find_module(module_name, [path])\n",
            "  File \"C:\\Users\\jongm\\anaconda3\\envs\\torch_cu110\\lib\\imp.py\", line 296, in find_module\n",
            "    raise ImportError(_ERR_MSG.format(name), name=name)\n",
            "ImportError: No module named 'upfirdn2d_plugin'\n",
            "\n",
            "  warnings.warn('Failed to build CUDA kernels for upfirdn2d. Falling back to slow reference implementation. Details:\\n\\n' + traceback.format_exc())\n"
          ]
        },
        {
          "name": "stdout",
          "output_type": "stream",
          "text": [
            "Failed!\n",
            "Setting up PyTorch plugin \"upfirdn2d_plugin\"... "
          ]
        },
        {
          "name": "stderr",
          "output_type": "stream",
          "text": [
            "c:\\Users\\jongm\\OneDrive - 광운대학교\\ProjecTS\\AID-AI-Design-1\\ai\\stylegan2_ada_pytorch\\torch_utils\\ops\\upfirdn2d.py:34: UserWarning: Failed to build CUDA kernels for upfirdn2d. Falling back to slow reference implementation. Details:\n",
            "\n",
            "Traceback (most recent call last):\n",
            "  File \"c:\\Users\\jongm\\OneDrive - 광운대학교\\ProjecTS\\AID-AI-Design-1\\ai\\stylegan2_ada_pytorch\\torch_utils\\ops\\upfirdn2d.py\", line 32, in _init\n",
            "    _plugin = custom_ops.get_plugin('upfirdn2d_plugin', sources=sources, extra_cuda_cflags=['--use_fast_math'])\n",
            "  File \"c:\\Users\\jongm\\OneDrive - 광운대학교\\ProjecTS\\AID-AI-Design-1\\ai\\stylegan2_ada_pytorch\\torch_utils\\custom_ops.py\", line 110, in get_plugin\n",
            "    torch.utils.cpp_extension.load(name=module_name, verbose=verbose_build, sources=sources, **build_kwargs)\n",
            "  File \"C:\\Users\\jongm\\anaconda3\\envs\\torch_cu110\\lib\\site-packages\\torch\\utils\\cpp_extension.py\", line 986, in load\n",
            "    return _jit_compile(\n",
            "  File \"C:\\Users\\jongm\\anaconda3\\envs\\torch_cu110\\lib\\site-packages\\torch\\utils\\cpp_extension.py\", line 1213, in _jit_compile\n",
            "    return _import_module_from_library(name, build_directory, is_python_module)\n",
            "  File \"C:\\Users\\jongm\\anaconda3\\envs\\torch_cu110\\lib\\site-packages\\torch\\utils\\cpp_extension.py\", line 1560, in _import_module_from_library\n",
            "    file, path, description = imp.find_module(module_name, [path])\n",
            "  File \"C:\\Users\\jongm\\anaconda3\\envs\\torch_cu110\\lib\\imp.py\", line 296, in find_module\n",
            "    raise ImportError(_ERR_MSG.format(name), name=name)\n",
            "ImportError: No module named 'upfirdn2d_plugin'\n",
            "\n",
            "  warnings.warn('Failed to build CUDA kernels for upfirdn2d. Falling back to slow reference implementation. Details:\\n\\n' + traceback.format_exc())\n"
          ]
        },
        {
          "name": "stdout",
          "output_type": "stream",
          "text": [
            "Failed!\n",
            "Setting up PyTorch plugin \"upfirdn2d_plugin\"... "
          ]
        },
        {
          "name": "stderr",
          "output_type": "stream",
          "text": [
            "c:\\Users\\jongm\\OneDrive - 광운대학교\\ProjecTS\\AID-AI-Design-1\\ai\\stylegan2_ada_pytorch\\torch_utils\\ops\\upfirdn2d.py:34: UserWarning: Failed to build CUDA kernels for upfirdn2d. Falling back to slow reference implementation. Details:\n",
            "\n",
            "Traceback (most recent call last):\n",
            "  File \"c:\\Users\\jongm\\OneDrive - 광운대학교\\ProjecTS\\AID-AI-Design-1\\ai\\stylegan2_ada_pytorch\\torch_utils\\ops\\upfirdn2d.py\", line 32, in _init\n",
            "    _plugin = custom_ops.get_plugin('upfirdn2d_plugin', sources=sources, extra_cuda_cflags=['--use_fast_math'])\n",
            "  File \"c:\\Users\\jongm\\OneDrive - 광운대학교\\ProjecTS\\AID-AI-Design-1\\ai\\stylegan2_ada_pytorch\\torch_utils\\custom_ops.py\", line 110, in get_plugin\n",
            "    torch.utils.cpp_extension.load(name=module_name, verbose=verbose_build, sources=sources, **build_kwargs)\n",
            "  File \"C:\\Users\\jongm\\anaconda3\\envs\\torch_cu110\\lib\\site-packages\\torch\\utils\\cpp_extension.py\", line 986, in load\n",
            "    return _jit_compile(\n",
            "  File \"C:\\Users\\jongm\\anaconda3\\envs\\torch_cu110\\lib\\site-packages\\torch\\utils\\cpp_extension.py\", line 1213, in _jit_compile\n",
            "    return _import_module_from_library(name, build_directory, is_python_module)\n",
            "  File \"C:\\Users\\jongm\\anaconda3\\envs\\torch_cu110\\lib\\site-packages\\torch\\utils\\cpp_extension.py\", line 1560, in _import_module_from_library\n",
            "    file, path, description = imp.find_module(module_name, [path])\n",
            "  File \"C:\\Users\\jongm\\anaconda3\\envs\\torch_cu110\\lib\\imp.py\", line 296, in find_module\n",
            "    raise ImportError(_ERR_MSG.format(name), name=name)\n",
            "ImportError: No module named 'upfirdn2d_plugin'\n",
            "\n",
            "  warnings.warn('Failed to build CUDA kernels for upfirdn2d. Falling back to slow reference implementation. Details:\\n\\n' + traceback.format_exc())\n"
          ]
        },
        {
          "name": "stdout",
          "output_type": "stream",
          "text": [
            "Failed!\n",
            "Setting up PyTorch plugin \"upfirdn2d_plugin\"... "
          ]
        },
        {
          "name": "stderr",
          "output_type": "stream",
          "text": [
            "c:\\Users\\jongm\\OneDrive - 광운대학교\\ProjecTS\\AID-AI-Design-1\\ai\\stylegan2_ada_pytorch\\torch_utils\\ops\\upfirdn2d.py:34: UserWarning: Failed to build CUDA kernels for upfirdn2d. Falling back to slow reference implementation. Details:\n",
            "\n",
            "Traceback (most recent call last):\n",
            "  File \"c:\\Users\\jongm\\OneDrive - 광운대학교\\ProjecTS\\AID-AI-Design-1\\ai\\stylegan2_ada_pytorch\\torch_utils\\ops\\upfirdn2d.py\", line 32, in _init\n",
            "    _plugin = custom_ops.get_plugin('upfirdn2d_plugin', sources=sources, extra_cuda_cflags=['--use_fast_math'])\n",
            "  File \"c:\\Users\\jongm\\OneDrive - 광운대학교\\ProjecTS\\AID-AI-Design-1\\ai\\stylegan2_ada_pytorch\\torch_utils\\custom_ops.py\", line 110, in get_plugin\n",
            "    torch.utils.cpp_extension.load(name=module_name, verbose=verbose_build, sources=sources, **build_kwargs)\n",
            "  File \"C:\\Users\\jongm\\anaconda3\\envs\\torch_cu110\\lib\\site-packages\\torch\\utils\\cpp_extension.py\", line 986, in load\n",
            "    return _jit_compile(\n",
            "  File \"C:\\Users\\jongm\\anaconda3\\envs\\torch_cu110\\lib\\site-packages\\torch\\utils\\cpp_extension.py\", line 1213, in _jit_compile\n",
            "    return _import_module_from_library(name, build_directory, is_python_module)\n",
            "  File \"C:\\Users\\jongm\\anaconda3\\envs\\torch_cu110\\lib\\site-packages\\torch\\utils\\cpp_extension.py\", line 1560, in _import_module_from_library\n",
            "    file, path, description = imp.find_module(module_name, [path])\n",
            "  File \"C:\\Users\\jongm\\anaconda3\\envs\\torch_cu110\\lib\\imp.py\", line 296, in find_module\n",
            "    raise ImportError(_ERR_MSG.format(name), name=name)\n",
            "ImportError: No module named 'upfirdn2d_plugin'\n",
            "\n",
            "  warnings.warn('Failed to build CUDA kernels for upfirdn2d. Falling back to slow reference implementation. Details:\\n\\n' + traceback.format_exc())\n"
          ]
        },
        {
          "name": "stdout",
          "output_type": "stream",
          "text": [
            "Failed!\n",
            "Setting up PyTorch plugin \"upfirdn2d_plugin\"... "
          ]
        },
        {
          "name": "stderr",
          "output_type": "stream",
          "text": [
            "c:\\Users\\jongm\\OneDrive - 광운대학교\\ProjecTS\\AID-AI-Design-1\\ai\\stylegan2_ada_pytorch\\torch_utils\\ops\\upfirdn2d.py:34: UserWarning: Failed to build CUDA kernels for upfirdn2d. Falling back to slow reference implementation. Details:\n",
            "\n",
            "Traceback (most recent call last):\n",
            "  File \"c:\\Users\\jongm\\OneDrive - 광운대학교\\ProjecTS\\AID-AI-Design-1\\ai\\stylegan2_ada_pytorch\\torch_utils\\ops\\upfirdn2d.py\", line 32, in _init\n",
            "    _plugin = custom_ops.get_plugin('upfirdn2d_plugin', sources=sources, extra_cuda_cflags=['--use_fast_math'])\n",
            "  File \"c:\\Users\\jongm\\OneDrive - 광운대학교\\ProjecTS\\AID-AI-Design-1\\ai\\stylegan2_ada_pytorch\\torch_utils\\custom_ops.py\", line 110, in get_plugin\n",
            "    torch.utils.cpp_extension.load(name=module_name, verbose=verbose_build, sources=sources, **build_kwargs)\n",
            "  File \"C:\\Users\\jongm\\anaconda3\\envs\\torch_cu110\\lib\\site-packages\\torch\\utils\\cpp_extension.py\", line 986, in load\n",
            "    return _jit_compile(\n",
            "  File \"C:\\Users\\jongm\\anaconda3\\envs\\torch_cu110\\lib\\site-packages\\torch\\utils\\cpp_extension.py\", line 1213, in _jit_compile\n",
            "    return _import_module_from_library(name, build_directory, is_python_module)\n",
            "  File \"C:\\Users\\jongm\\anaconda3\\envs\\torch_cu110\\lib\\site-packages\\torch\\utils\\cpp_extension.py\", line 1560, in _import_module_from_library\n",
            "    file, path, description = imp.find_module(module_name, [path])\n",
            "  File \"C:\\Users\\jongm\\anaconda3\\envs\\torch_cu110\\lib\\imp.py\", line 296, in find_module\n",
            "    raise ImportError(_ERR_MSG.format(name), name=name)\n",
            "ImportError: No module named 'upfirdn2d_plugin'\n",
            "\n",
            "  warnings.warn('Failed to build CUDA kernels for upfirdn2d. Falling back to slow reference implementation. Details:\\n\\n' + traceback.format_exc())\n"
          ]
        },
        {
          "name": "stdout",
          "output_type": "stream",
          "text": [
            "Failed!\n",
            "Setting up PyTorch plugin \"upfirdn2d_plugin\"... "
          ]
        },
        {
          "name": "stderr",
          "output_type": "stream",
          "text": [
            "c:\\Users\\jongm\\OneDrive - 광운대학교\\ProjecTS\\AID-AI-Design-1\\ai\\stylegan2_ada_pytorch\\torch_utils\\ops\\upfirdn2d.py:34: UserWarning: Failed to build CUDA kernels for upfirdn2d. Falling back to slow reference implementation. Details:\n",
            "\n",
            "Traceback (most recent call last):\n",
            "  File \"c:\\Users\\jongm\\OneDrive - 광운대학교\\ProjecTS\\AID-AI-Design-1\\ai\\stylegan2_ada_pytorch\\torch_utils\\ops\\upfirdn2d.py\", line 32, in _init\n",
            "    _plugin = custom_ops.get_plugin('upfirdn2d_plugin', sources=sources, extra_cuda_cflags=['--use_fast_math'])\n",
            "  File \"c:\\Users\\jongm\\OneDrive - 광운대학교\\ProjecTS\\AID-AI-Design-1\\ai\\stylegan2_ada_pytorch\\torch_utils\\custom_ops.py\", line 110, in get_plugin\n",
            "    torch.utils.cpp_extension.load(name=module_name, verbose=verbose_build, sources=sources, **build_kwargs)\n",
            "  File \"C:\\Users\\jongm\\anaconda3\\envs\\torch_cu110\\lib\\site-packages\\torch\\utils\\cpp_extension.py\", line 986, in load\n",
            "    return _jit_compile(\n",
            "  File \"C:\\Users\\jongm\\anaconda3\\envs\\torch_cu110\\lib\\site-packages\\torch\\utils\\cpp_extension.py\", line 1213, in _jit_compile\n",
            "    return _import_module_from_library(name, build_directory, is_python_module)\n",
            "  File \"C:\\Users\\jongm\\anaconda3\\envs\\torch_cu110\\lib\\site-packages\\torch\\utils\\cpp_extension.py\", line 1560, in _import_module_from_library\n",
            "    file, path, description = imp.find_module(module_name, [path])\n",
            "  File \"C:\\Users\\jongm\\anaconda3\\envs\\torch_cu110\\lib\\imp.py\", line 296, in find_module\n",
            "    raise ImportError(_ERR_MSG.format(name), name=name)\n",
            "ImportError: No module named 'upfirdn2d_plugin'\n",
            "\n",
            "  warnings.warn('Failed to build CUDA kernels for upfirdn2d. Falling back to slow reference implementation. Details:\\n\\n' + traceback.format_exc())\n"
          ]
        },
        {
          "name": "stdout",
          "output_type": "stream",
          "text": [
            "Failed!\n",
            "Setting up PyTorch plugin \"upfirdn2d_plugin\"... "
          ]
        },
        {
          "name": "stderr",
          "output_type": "stream",
          "text": [
            "c:\\Users\\jongm\\OneDrive - 광운대학교\\ProjecTS\\AID-AI-Design-1\\ai\\stylegan2_ada_pytorch\\torch_utils\\ops\\upfirdn2d.py:34: UserWarning: Failed to build CUDA kernels for upfirdn2d. Falling back to slow reference implementation. Details:\n",
            "\n",
            "Traceback (most recent call last):\n",
            "  File \"c:\\Users\\jongm\\OneDrive - 광운대학교\\ProjecTS\\AID-AI-Design-1\\ai\\stylegan2_ada_pytorch\\torch_utils\\ops\\upfirdn2d.py\", line 32, in _init\n",
            "    _plugin = custom_ops.get_plugin('upfirdn2d_plugin', sources=sources, extra_cuda_cflags=['--use_fast_math'])\n",
            "  File \"c:\\Users\\jongm\\OneDrive - 광운대학교\\ProjecTS\\AID-AI-Design-1\\ai\\stylegan2_ada_pytorch\\torch_utils\\custom_ops.py\", line 110, in get_plugin\n",
            "    torch.utils.cpp_extension.load(name=module_name, verbose=verbose_build, sources=sources, **build_kwargs)\n",
            "  File \"C:\\Users\\jongm\\anaconda3\\envs\\torch_cu110\\lib\\site-packages\\torch\\utils\\cpp_extension.py\", line 986, in load\n",
            "    return _jit_compile(\n",
            "  File \"C:\\Users\\jongm\\anaconda3\\envs\\torch_cu110\\lib\\site-packages\\torch\\utils\\cpp_extension.py\", line 1213, in _jit_compile\n",
            "    return _import_module_from_library(name, build_directory, is_python_module)\n",
            "  File \"C:\\Users\\jongm\\anaconda3\\envs\\torch_cu110\\lib\\site-packages\\torch\\utils\\cpp_extension.py\", line 1560, in _import_module_from_library\n",
            "    file, path, description = imp.find_module(module_name, [path])\n",
            "  File \"C:\\Users\\jongm\\anaconda3\\envs\\torch_cu110\\lib\\imp.py\", line 296, in find_module\n",
            "    raise ImportError(_ERR_MSG.format(name), name=name)\n",
            "ImportError: No module named 'upfirdn2d_plugin'\n",
            "\n",
            "  warnings.warn('Failed to build CUDA kernels for upfirdn2d. Falling back to slow reference implementation. Details:\\n\\n' + traceback.format_exc())\n"
          ]
        },
        {
          "name": "stdout",
          "output_type": "stream",
          "text": [
            "Failed!\n",
            "Setting up PyTorch plugin \"upfirdn2d_plugin\"... "
          ]
        },
        {
          "name": "stderr",
          "output_type": "stream",
          "text": [
            "c:\\Users\\jongm\\OneDrive - 광운대학교\\ProjecTS\\AID-AI-Design-1\\ai\\stylegan2_ada_pytorch\\torch_utils\\ops\\upfirdn2d.py:34: UserWarning: Failed to build CUDA kernels for upfirdn2d. Falling back to slow reference implementation. Details:\n",
            "\n",
            "Traceback (most recent call last):\n",
            "  File \"c:\\Users\\jongm\\OneDrive - 광운대학교\\ProjecTS\\AID-AI-Design-1\\ai\\stylegan2_ada_pytorch\\torch_utils\\ops\\upfirdn2d.py\", line 32, in _init\n",
            "    _plugin = custom_ops.get_plugin('upfirdn2d_plugin', sources=sources, extra_cuda_cflags=['--use_fast_math'])\n",
            "  File \"c:\\Users\\jongm\\OneDrive - 광운대학교\\ProjecTS\\AID-AI-Design-1\\ai\\stylegan2_ada_pytorch\\torch_utils\\custom_ops.py\", line 110, in get_plugin\n",
            "    torch.utils.cpp_extension.load(name=module_name, verbose=verbose_build, sources=sources, **build_kwargs)\n",
            "  File \"C:\\Users\\jongm\\anaconda3\\envs\\torch_cu110\\lib\\site-packages\\torch\\utils\\cpp_extension.py\", line 986, in load\n",
            "    return _jit_compile(\n",
            "  File \"C:\\Users\\jongm\\anaconda3\\envs\\torch_cu110\\lib\\site-packages\\torch\\utils\\cpp_extension.py\", line 1213, in _jit_compile\n",
            "    return _import_module_from_library(name, build_directory, is_python_module)\n",
            "  File \"C:\\Users\\jongm\\anaconda3\\envs\\torch_cu110\\lib\\site-packages\\torch\\utils\\cpp_extension.py\", line 1560, in _import_module_from_library\n",
            "    file, path, description = imp.find_module(module_name, [path])\n",
            "  File \"C:\\Users\\jongm\\anaconda3\\envs\\torch_cu110\\lib\\imp.py\", line 296, in find_module\n",
            "    raise ImportError(_ERR_MSG.format(name), name=name)\n",
            "ImportError: No module named 'upfirdn2d_plugin'\n",
            "\n",
            "  warnings.warn('Failed to build CUDA kernels for upfirdn2d. Falling back to slow reference implementation. Details:\\n\\n' + traceback.format_exc())\n"
          ]
        },
        {
          "name": "stdout",
          "output_type": "stream",
          "text": [
            "Failed!\n",
            "Setting up PyTorch plugin \"upfirdn2d_plugin\"... "
          ]
        },
        {
          "name": "stderr",
          "output_type": "stream",
          "text": [
            "c:\\Users\\jongm\\OneDrive - 광운대학교\\ProjecTS\\AID-AI-Design-1\\ai\\stylegan2_ada_pytorch\\torch_utils\\ops\\upfirdn2d.py:34: UserWarning: Failed to build CUDA kernels for upfirdn2d. Falling back to slow reference implementation. Details:\n",
            "\n",
            "Traceback (most recent call last):\n",
            "  File \"c:\\Users\\jongm\\OneDrive - 광운대학교\\ProjecTS\\AID-AI-Design-1\\ai\\stylegan2_ada_pytorch\\torch_utils\\ops\\upfirdn2d.py\", line 32, in _init\n",
            "    _plugin = custom_ops.get_plugin('upfirdn2d_plugin', sources=sources, extra_cuda_cflags=['--use_fast_math'])\n",
            "  File \"c:\\Users\\jongm\\OneDrive - 광운대학교\\ProjecTS\\AID-AI-Design-1\\ai\\stylegan2_ada_pytorch\\torch_utils\\custom_ops.py\", line 110, in get_plugin\n",
            "    torch.utils.cpp_extension.load(name=module_name, verbose=verbose_build, sources=sources, **build_kwargs)\n",
            "  File \"C:\\Users\\jongm\\anaconda3\\envs\\torch_cu110\\lib\\site-packages\\torch\\utils\\cpp_extension.py\", line 986, in load\n",
            "    return _jit_compile(\n",
            "  File \"C:\\Users\\jongm\\anaconda3\\envs\\torch_cu110\\lib\\site-packages\\torch\\utils\\cpp_extension.py\", line 1213, in _jit_compile\n",
            "    return _import_module_from_library(name, build_directory, is_python_module)\n",
            "  File \"C:\\Users\\jongm\\anaconda3\\envs\\torch_cu110\\lib\\site-packages\\torch\\utils\\cpp_extension.py\", line 1560, in _import_module_from_library\n",
            "    file, path, description = imp.find_module(module_name, [path])\n",
            "  File \"C:\\Users\\jongm\\anaconda3\\envs\\torch_cu110\\lib\\imp.py\", line 296, in find_module\n",
            "    raise ImportError(_ERR_MSG.format(name), name=name)\n",
            "ImportError: No module named 'upfirdn2d_plugin'\n",
            "\n",
            "  warnings.warn('Failed to build CUDA kernels for upfirdn2d. Falling back to slow reference implementation. Details:\\n\\n' + traceback.format_exc())\n"
          ]
        },
        {
          "name": "stdout",
          "output_type": "stream",
          "text": [
            "Failed!\n",
            "Setting up PyTorch plugin \"upfirdn2d_plugin\"... "
          ]
        },
        {
          "name": "stderr",
          "output_type": "stream",
          "text": [
            "c:\\Users\\jongm\\OneDrive - 광운대학교\\ProjecTS\\AID-AI-Design-1\\ai\\stylegan2_ada_pytorch\\torch_utils\\ops\\upfirdn2d.py:34: UserWarning: Failed to build CUDA kernels for upfirdn2d. Falling back to slow reference implementation. Details:\n",
            "\n",
            "Traceback (most recent call last):\n",
            "  File \"c:\\Users\\jongm\\OneDrive - 광운대학교\\ProjecTS\\AID-AI-Design-1\\ai\\stylegan2_ada_pytorch\\torch_utils\\ops\\upfirdn2d.py\", line 32, in _init\n",
            "    _plugin = custom_ops.get_plugin('upfirdn2d_plugin', sources=sources, extra_cuda_cflags=['--use_fast_math'])\n",
            "  File \"c:\\Users\\jongm\\OneDrive - 광운대학교\\ProjecTS\\AID-AI-Design-1\\ai\\stylegan2_ada_pytorch\\torch_utils\\custom_ops.py\", line 110, in get_plugin\n",
            "    torch.utils.cpp_extension.load(name=module_name, verbose=verbose_build, sources=sources, **build_kwargs)\n",
            "  File \"C:\\Users\\jongm\\anaconda3\\envs\\torch_cu110\\lib\\site-packages\\torch\\utils\\cpp_extension.py\", line 986, in load\n",
            "    return _jit_compile(\n",
            "  File \"C:\\Users\\jongm\\anaconda3\\envs\\torch_cu110\\lib\\site-packages\\torch\\utils\\cpp_extension.py\", line 1213, in _jit_compile\n",
            "    return _import_module_from_library(name, build_directory, is_python_module)\n",
            "  File \"C:\\Users\\jongm\\anaconda3\\envs\\torch_cu110\\lib\\site-packages\\torch\\utils\\cpp_extension.py\", line 1560, in _import_module_from_library\n",
            "    file, path, description = imp.find_module(module_name, [path])\n",
            "  File \"C:\\Users\\jongm\\anaconda3\\envs\\torch_cu110\\lib\\imp.py\", line 296, in find_module\n",
            "    raise ImportError(_ERR_MSG.format(name), name=name)\n",
            "ImportError: No module named 'upfirdn2d_plugin'\n",
            "\n",
            "  warnings.warn('Failed to build CUDA kernels for upfirdn2d. Falling back to slow reference implementation. Details:\\n\\n' + traceback.format_exc())\n"
          ]
        },
        {
          "name": "stdout",
          "output_type": "stream",
          "text": [
            "Failed!\n",
            "Setting up PyTorch plugin \"upfirdn2d_plugin\"... "
          ]
        },
        {
          "name": "stderr",
          "output_type": "stream",
          "text": [
            "c:\\Users\\jongm\\OneDrive - 광운대학교\\ProjecTS\\AID-AI-Design-1\\ai\\stylegan2_ada_pytorch\\torch_utils\\ops\\upfirdn2d.py:34: UserWarning: Failed to build CUDA kernels for upfirdn2d. Falling back to slow reference implementation. Details:\n",
            "\n",
            "Traceback (most recent call last):\n",
            "  File \"c:\\Users\\jongm\\OneDrive - 광운대학교\\ProjecTS\\AID-AI-Design-1\\ai\\stylegan2_ada_pytorch\\torch_utils\\ops\\upfirdn2d.py\", line 32, in _init\n",
            "    _plugin = custom_ops.get_plugin('upfirdn2d_plugin', sources=sources, extra_cuda_cflags=['--use_fast_math'])\n",
            "  File \"c:\\Users\\jongm\\OneDrive - 광운대학교\\ProjecTS\\AID-AI-Design-1\\ai\\stylegan2_ada_pytorch\\torch_utils\\custom_ops.py\", line 110, in get_plugin\n",
            "    torch.utils.cpp_extension.load(name=module_name, verbose=verbose_build, sources=sources, **build_kwargs)\n",
            "  File \"C:\\Users\\jongm\\anaconda3\\envs\\torch_cu110\\lib\\site-packages\\torch\\utils\\cpp_extension.py\", line 986, in load\n",
            "    return _jit_compile(\n",
            "  File \"C:\\Users\\jongm\\anaconda3\\envs\\torch_cu110\\lib\\site-packages\\torch\\utils\\cpp_extension.py\", line 1213, in _jit_compile\n",
            "    return _import_module_from_library(name, build_directory, is_python_module)\n",
            "  File \"C:\\Users\\jongm\\anaconda3\\envs\\torch_cu110\\lib\\site-packages\\torch\\utils\\cpp_extension.py\", line 1560, in _import_module_from_library\n",
            "    file, path, description = imp.find_module(module_name, [path])\n",
            "  File \"C:\\Users\\jongm\\anaconda3\\envs\\torch_cu110\\lib\\imp.py\", line 296, in find_module\n",
            "    raise ImportError(_ERR_MSG.format(name), name=name)\n",
            "ImportError: No module named 'upfirdn2d_plugin'\n",
            "\n",
            "  warnings.warn('Failed to build CUDA kernels for upfirdn2d. Falling back to slow reference implementation. Details:\\n\\n' + traceback.format_exc())\n"
          ]
        },
        {
          "name": "stdout",
          "output_type": "stream",
          "text": [
            "Failed!\n",
            "Setting up PyTorch plugin \"upfirdn2d_plugin\"... "
          ]
        },
        {
          "name": "stderr",
          "output_type": "stream",
          "text": [
            "c:\\Users\\jongm\\OneDrive - 광운대학교\\ProjecTS\\AID-AI-Design-1\\ai\\stylegan2_ada_pytorch\\torch_utils\\ops\\upfirdn2d.py:34: UserWarning: Failed to build CUDA kernels for upfirdn2d. Falling back to slow reference implementation. Details:\n",
            "\n",
            "Traceback (most recent call last):\n",
            "  File \"c:\\Users\\jongm\\OneDrive - 광운대학교\\ProjecTS\\AID-AI-Design-1\\ai\\stylegan2_ada_pytorch\\torch_utils\\ops\\upfirdn2d.py\", line 32, in _init\n",
            "    _plugin = custom_ops.get_plugin('upfirdn2d_plugin', sources=sources, extra_cuda_cflags=['--use_fast_math'])\n",
            "  File \"c:\\Users\\jongm\\OneDrive - 광운대학교\\ProjecTS\\AID-AI-Design-1\\ai\\stylegan2_ada_pytorch\\torch_utils\\custom_ops.py\", line 110, in get_plugin\n",
            "    torch.utils.cpp_extension.load(name=module_name, verbose=verbose_build, sources=sources, **build_kwargs)\n",
            "  File \"C:\\Users\\jongm\\anaconda3\\envs\\torch_cu110\\lib\\site-packages\\torch\\utils\\cpp_extension.py\", line 986, in load\n",
            "    return _jit_compile(\n",
            "  File \"C:\\Users\\jongm\\anaconda3\\envs\\torch_cu110\\lib\\site-packages\\torch\\utils\\cpp_extension.py\", line 1213, in _jit_compile\n",
            "    return _import_module_from_library(name, build_directory, is_python_module)\n",
            "  File \"C:\\Users\\jongm\\anaconda3\\envs\\torch_cu110\\lib\\site-packages\\torch\\utils\\cpp_extension.py\", line 1560, in _import_module_from_library\n",
            "    file, path, description = imp.find_module(module_name, [path])\n",
            "  File \"C:\\Users\\jongm\\anaconda3\\envs\\torch_cu110\\lib\\imp.py\", line 296, in find_module\n",
            "    raise ImportError(_ERR_MSG.format(name), name=name)\n",
            "ImportError: No module named 'upfirdn2d_plugin'\n",
            "\n",
            "  warnings.warn('Failed to build CUDA kernels for upfirdn2d. Falling back to slow reference implementation. Details:\\n\\n' + traceback.format_exc())\n"
          ]
        },
        {
          "name": "stdout",
          "output_type": "stream",
          "text": [
            "Failed!\n",
            "Setting up PyTorch plugin \"upfirdn2d_plugin\"... "
          ]
        },
        {
          "name": "stderr",
          "output_type": "stream",
          "text": [
            "c:\\Users\\jongm\\OneDrive - 광운대학교\\ProjecTS\\AID-AI-Design-1\\ai\\stylegan2_ada_pytorch\\torch_utils\\ops\\upfirdn2d.py:34: UserWarning: Failed to build CUDA kernels for upfirdn2d. Falling back to slow reference implementation. Details:\n",
            "\n",
            "Traceback (most recent call last):\n",
            "  File \"c:\\Users\\jongm\\OneDrive - 광운대학교\\ProjecTS\\AID-AI-Design-1\\ai\\stylegan2_ada_pytorch\\torch_utils\\ops\\upfirdn2d.py\", line 32, in _init\n",
            "    _plugin = custom_ops.get_plugin('upfirdn2d_plugin', sources=sources, extra_cuda_cflags=['--use_fast_math'])\n",
            "  File \"c:\\Users\\jongm\\OneDrive - 광운대학교\\ProjecTS\\AID-AI-Design-1\\ai\\stylegan2_ada_pytorch\\torch_utils\\custom_ops.py\", line 110, in get_plugin\n",
            "    torch.utils.cpp_extension.load(name=module_name, verbose=verbose_build, sources=sources, **build_kwargs)\n",
            "  File \"C:\\Users\\jongm\\anaconda3\\envs\\torch_cu110\\lib\\site-packages\\torch\\utils\\cpp_extension.py\", line 986, in load\n",
            "    return _jit_compile(\n",
            "  File \"C:\\Users\\jongm\\anaconda3\\envs\\torch_cu110\\lib\\site-packages\\torch\\utils\\cpp_extension.py\", line 1213, in _jit_compile\n",
            "    return _import_module_from_library(name, build_directory, is_python_module)\n",
            "  File \"C:\\Users\\jongm\\anaconda3\\envs\\torch_cu110\\lib\\site-packages\\torch\\utils\\cpp_extension.py\", line 1560, in _import_module_from_library\n",
            "    file, path, description = imp.find_module(module_name, [path])\n",
            "  File \"C:\\Users\\jongm\\anaconda3\\envs\\torch_cu110\\lib\\imp.py\", line 296, in find_module\n",
            "    raise ImportError(_ERR_MSG.format(name), name=name)\n",
            "ImportError: No module named 'upfirdn2d_plugin'\n",
            "\n",
            "  warnings.warn('Failed to build CUDA kernels for upfirdn2d. Falling back to slow reference implementation. Details:\\n\\n' + traceback.format_exc())\n"
          ]
        },
        {
          "name": "stdout",
          "output_type": "stream",
          "text": [
            "Failed!\n",
            "Setting up PyTorch plugin \"upfirdn2d_plugin\"... "
          ]
        },
        {
          "name": "stderr",
          "output_type": "stream",
          "text": [
            "c:\\Users\\jongm\\OneDrive - 광운대학교\\ProjecTS\\AID-AI-Design-1\\ai\\stylegan2_ada_pytorch\\torch_utils\\ops\\upfirdn2d.py:34: UserWarning: Failed to build CUDA kernels for upfirdn2d. Falling back to slow reference implementation. Details:\n",
            "\n",
            "Traceback (most recent call last):\n",
            "  File \"c:\\Users\\jongm\\OneDrive - 광운대학교\\ProjecTS\\AID-AI-Design-1\\ai\\stylegan2_ada_pytorch\\torch_utils\\ops\\upfirdn2d.py\", line 32, in _init\n",
            "    _plugin = custom_ops.get_plugin('upfirdn2d_plugin', sources=sources, extra_cuda_cflags=['--use_fast_math'])\n",
            "  File \"c:\\Users\\jongm\\OneDrive - 광운대학교\\ProjecTS\\AID-AI-Design-1\\ai\\stylegan2_ada_pytorch\\torch_utils\\custom_ops.py\", line 110, in get_plugin\n",
            "    torch.utils.cpp_extension.load(name=module_name, verbose=verbose_build, sources=sources, **build_kwargs)\n",
            "  File \"C:\\Users\\jongm\\anaconda3\\envs\\torch_cu110\\lib\\site-packages\\torch\\utils\\cpp_extension.py\", line 986, in load\n",
            "    return _jit_compile(\n",
            "  File \"C:\\Users\\jongm\\anaconda3\\envs\\torch_cu110\\lib\\site-packages\\torch\\utils\\cpp_extension.py\", line 1213, in _jit_compile\n",
            "    return _import_module_from_library(name, build_directory, is_python_module)\n",
            "  File \"C:\\Users\\jongm\\anaconda3\\envs\\torch_cu110\\lib\\site-packages\\torch\\utils\\cpp_extension.py\", line 1560, in _import_module_from_library\n",
            "    file, path, description = imp.find_module(module_name, [path])\n",
            "  File \"C:\\Users\\jongm\\anaconda3\\envs\\torch_cu110\\lib\\imp.py\", line 296, in find_module\n",
            "    raise ImportError(_ERR_MSG.format(name), name=name)\n",
            "ImportError: No module named 'upfirdn2d_plugin'\n",
            "\n",
            "  warnings.warn('Failed to build CUDA kernels for upfirdn2d. Falling back to slow reference implementation. Details:\\n\\n' + traceback.format_exc())\n"
          ]
        },
        {
          "name": "stdout",
          "output_type": "stream",
          "text": [
            "Failed!\n",
            "Setting up PyTorch plugin \"upfirdn2d_plugin\"... "
          ]
        },
        {
          "name": "stderr",
          "output_type": "stream",
          "text": [
            "c:\\Users\\jongm\\OneDrive - 광운대학교\\ProjecTS\\AID-AI-Design-1\\ai\\stylegan2_ada_pytorch\\torch_utils\\ops\\upfirdn2d.py:34: UserWarning: Failed to build CUDA kernels for upfirdn2d. Falling back to slow reference implementation. Details:\n",
            "\n",
            "Traceback (most recent call last):\n",
            "  File \"c:\\Users\\jongm\\OneDrive - 광운대학교\\ProjecTS\\AID-AI-Design-1\\ai\\stylegan2_ada_pytorch\\torch_utils\\ops\\upfirdn2d.py\", line 32, in _init\n",
            "    _plugin = custom_ops.get_plugin('upfirdn2d_plugin', sources=sources, extra_cuda_cflags=['--use_fast_math'])\n",
            "  File \"c:\\Users\\jongm\\OneDrive - 광운대학교\\ProjecTS\\AID-AI-Design-1\\ai\\stylegan2_ada_pytorch\\torch_utils\\custom_ops.py\", line 110, in get_plugin\n",
            "    torch.utils.cpp_extension.load(name=module_name, verbose=verbose_build, sources=sources, **build_kwargs)\n",
            "  File \"C:\\Users\\jongm\\anaconda3\\envs\\torch_cu110\\lib\\site-packages\\torch\\utils\\cpp_extension.py\", line 986, in load\n",
            "    return _jit_compile(\n",
            "  File \"C:\\Users\\jongm\\anaconda3\\envs\\torch_cu110\\lib\\site-packages\\torch\\utils\\cpp_extension.py\", line 1213, in _jit_compile\n",
            "    return _import_module_from_library(name, build_directory, is_python_module)\n",
            "  File \"C:\\Users\\jongm\\anaconda3\\envs\\torch_cu110\\lib\\site-packages\\torch\\utils\\cpp_extension.py\", line 1560, in _import_module_from_library\n",
            "    file, path, description = imp.find_module(module_name, [path])\n",
            "  File \"C:\\Users\\jongm\\anaconda3\\envs\\torch_cu110\\lib\\imp.py\", line 296, in find_module\n",
            "    raise ImportError(_ERR_MSG.format(name), name=name)\n",
            "ImportError: No module named 'upfirdn2d_plugin'\n",
            "\n",
            "  warnings.warn('Failed to build CUDA kernels for upfirdn2d. Falling back to slow reference implementation. Details:\\n\\n' + traceback.format_exc())\n"
          ]
        },
        {
          "name": "stdout",
          "output_type": "stream",
          "text": [
            "Failed!\n",
            "Setting up PyTorch plugin \"upfirdn2d_plugin\"... "
          ]
        },
        {
          "name": "stderr",
          "output_type": "stream",
          "text": [
            "c:\\Users\\jongm\\OneDrive - 광운대학교\\ProjecTS\\AID-AI-Design-1\\ai\\stylegan2_ada_pytorch\\torch_utils\\ops\\upfirdn2d.py:34: UserWarning: Failed to build CUDA kernels for upfirdn2d. Falling back to slow reference implementation. Details:\n",
            "\n",
            "Traceback (most recent call last):\n",
            "  File \"c:\\Users\\jongm\\OneDrive - 광운대학교\\ProjecTS\\AID-AI-Design-1\\ai\\stylegan2_ada_pytorch\\torch_utils\\ops\\upfirdn2d.py\", line 32, in _init\n",
            "    _plugin = custom_ops.get_plugin('upfirdn2d_plugin', sources=sources, extra_cuda_cflags=['--use_fast_math'])\n",
            "  File \"c:\\Users\\jongm\\OneDrive - 광운대학교\\ProjecTS\\AID-AI-Design-1\\ai\\stylegan2_ada_pytorch\\torch_utils\\custom_ops.py\", line 110, in get_plugin\n",
            "    torch.utils.cpp_extension.load(name=module_name, verbose=verbose_build, sources=sources, **build_kwargs)\n",
            "  File \"C:\\Users\\jongm\\anaconda3\\envs\\torch_cu110\\lib\\site-packages\\torch\\utils\\cpp_extension.py\", line 986, in load\n",
            "    return _jit_compile(\n",
            "  File \"C:\\Users\\jongm\\anaconda3\\envs\\torch_cu110\\lib\\site-packages\\torch\\utils\\cpp_extension.py\", line 1213, in _jit_compile\n",
            "    return _import_module_from_library(name, build_directory, is_python_module)\n",
            "  File \"C:\\Users\\jongm\\anaconda3\\envs\\torch_cu110\\lib\\site-packages\\torch\\utils\\cpp_extension.py\", line 1560, in _import_module_from_library\n",
            "    file, path, description = imp.find_module(module_name, [path])\n",
            "  File \"C:\\Users\\jongm\\anaconda3\\envs\\torch_cu110\\lib\\imp.py\", line 296, in find_module\n",
            "    raise ImportError(_ERR_MSG.format(name), name=name)\n",
            "ImportError: No module named 'upfirdn2d_plugin'\n",
            "\n",
            "  warnings.warn('Failed to build CUDA kernels for upfirdn2d. Falling back to slow reference implementation. Details:\\n\\n' + traceback.format_exc())\n"
          ]
        },
        {
          "name": "stdout",
          "output_type": "stream",
          "text": [
            "Failed!\n",
            "Setting up PyTorch plugin \"upfirdn2d_plugin\"... "
          ]
        },
        {
          "name": "stderr",
          "output_type": "stream",
          "text": [
            "c:\\Users\\jongm\\OneDrive - 광운대학교\\ProjecTS\\AID-AI-Design-1\\ai\\stylegan2_ada_pytorch\\torch_utils\\ops\\upfirdn2d.py:34: UserWarning: Failed to build CUDA kernels for upfirdn2d. Falling back to slow reference implementation. Details:\n",
            "\n",
            "Traceback (most recent call last):\n",
            "  File \"c:\\Users\\jongm\\OneDrive - 광운대학교\\ProjecTS\\AID-AI-Design-1\\ai\\stylegan2_ada_pytorch\\torch_utils\\ops\\upfirdn2d.py\", line 32, in _init\n",
            "    _plugin = custom_ops.get_plugin('upfirdn2d_plugin', sources=sources, extra_cuda_cflags=['--use_fast_math'])\n",
            "  File \"c:\\Users\\jongm\\OneDrive - 광운대학교\\ProjecTS\\AID-AI-Design-1\\ai\\stylegan2_ada_pytorch\\torch_utils\\custom_ops.py\", line 110, in get_plugin\n",
            "    torch.utils.cpp_extension.load(name=module_name, verbose=verbose_build, sources=sources, **build_kwargs)\n",
            "  File \"C:\\Users\\jongm\\anaconda3\\envs\\torch_cu110\\lib\\site-packages\\torch\\utils\\cpp_extension.py\", line 986, in load\n",
            "    return _jit_compile(\n",
            "  File \"C:\\Users\\jongm\\anaconda3\\envs\\torch_cu110\\lib\\site-packages\\torch\\utils\\cpp_extension.py\", line 1213, in _jit_compile\n",
            "    return _import_module_from_library(name, build_directory, is_python_module)\n",
            "  File \"C:\\Users\\jongm\\anaconda3\\envs\\torch_cu110\\lib\\site-packages\\torch\\utils\\cpp_extension.py\", line 1560, in _import_module_from_library\n",
            "    file, path, description = imp.find_module(module_name, [path])\n",
            "  File \"C:\\Users\\jongm\\anaconda3\\envs\\torch_cu110\\lib\\imp.py\", line 296, in find_module\n",
            "    raise ImportError(_ERR_MSG.format(name), name=name)\n",
            "ImportError: No module named 'upfirdn2d_plugin'\n",
            "\n",
            "  warnings.warn('Failed to build CUDA kernels for upfirdn2d. Falling back to slow reference implementation. Details:\\n\\n' + traceback.format_exc())\n"
          ]
        },
        {
          "name": "stdout",
          "output_type": "stream",
          "text": [
            "Failed!\n",
            "Setting up PyTorch plugin \"upfirdn2d_plugin\"... "
          ]
        },
        {
          "name": "stderr",
          "output_type": "stream",
          "text": [
            "c:\\Users\\jongm\\OneDrive - 광운대학교\\ProjecTS\\AID-AI-Design-1\\ai\\stylegan2_ada_pytorch\\torch_utils\\ops\\upfirdn2d.py:34: UserWarning: Failed to build CUDA kernels for upfirdn2d. Falling back to slow reference implementation. Details:\n",
            "\n",
            "Traceback (most recent call last):\n",
            "  File \"c:\\Users\\jongm\\OneDrive - 광운대학교\\ProjecTS\\AID-AI-Design-1\\ai\\stylegan2_ada_pytorch\\torch_utils\\ops\\upfirdn2d.py\", line 32, in _init\n",
            "    _plugin = custom_ops.get_plugin('upfirdn2d_plugin', sources=sources, extra_cuda_cflags=['--use_fast_math'])\n",
            "  File \"c:\\Users\\jongm\\OneDrive - 광운대학교\\ProjecTS\\AID-AI-Design-1\\ai\\stylegan2_ada_pytorch\\torch_utils\\custom_ops.py\", line 110, in get_plugin\n",
            "    torch.utils.cpp_extension.load(name=module_name, verbose=verbose_build, sources=sources, **build_kwargs)\n",
            "  File \"C:\\Users\\jongm\\anaconda3\\envs\\torch_cu110\\lib\\site-packages\\torch\\utils\\cpp_extension.py\", line 986, in load\n",
            "    return _jit_compile(\n",
            "  File \"C:\\Users\\jongm\\anaconda3\\envs\\torch_cu110\\lib\\site-packages\\torch\\utils\\cpp_extension.py\", line 1213, in _jit_compile\n",
            "    return _import_module_from_library(name, build_directory, is_python_module)\n",
            "  File \"C:\\Users\\jongm\\anaconda3\\envs\\torch_cu110\\lib\\site-packages\\torch\\utils\\cpp_extension.py\", line 1560, in _import_module_from_library\n",
            "    file, path, description = imp.find_module(module_name, [path])\n",
            "  File \"C:\\Users\\jongm\\anaconda3\\envs\\torch_cu110\\lib\\imp.py\", line 296, in find_module\n",
            "    raise ImportError(_ERR_MSG.format(name), name=name)\n",
            "ImportError: No module named 'upfirdn2d_plugin'\n",
            "\n",
            "  warnings.warn('Failed to build CUDA kernels for upfirdn2d. Falling back to slow reference implementation. Details:\\n\\n' + traceback.format_exc())\n"
          ]
        },
        {
          "name": "stdout",
          "output_type": "stream",
          "text": [
            "Failed!\n",
            "Setting up PyTorch plugin \"upfirdn2d_plugin\"... "
          ]
        },
        {
          "name": "stderr",
          "output_type": "stream",
          "text": [
            "c:\\Users\\jongm\\OneDrive - 광운대학교\\ProjecTS\\AID-AI-Design-1\\ai\\stylegan2_ada_pytorch\\torch_utils\\ops\\upfirdn2d.py:34: UserWarning: Failed to build CUDA kernels for upfirdn2d. Falling back to slow reference implementation. Details:\n",
            "\n",
            "Traceback (most recent call last):\n",
            "  File \"c:\\Users\\jongm\\OneDrive - 광운대학교\\ProjecTS\\AID-AI-Design-1\\ai\\stylegan2_ada_pytorch\\torch_utils\\ops\\upfirdn2d.py\", line 32, in _init\n",
            "    _plugin = custom_ops.get_plugin('upfirdn2d_plugin', sources=sources, extra_cuda_cflags=['--use_fast_math'])\n",
            "  File \"c:\\Users\\jongm\\OneDrive - 광운대학교\\ProjecTS\\AID-AI-Design-1\\ai\\stylegan2_ada_pytorch\\torch_utils\\custom_ops.py\", line 110, in get_plugin\n",
            "    torch.utils.cpp_extension.load(name=module_name, verbose=verbose_build, sources=sources, **build_kwargs)\n",
            "  File \"C:\\Users\\jongm\\anaconda3\\envs\\torch_cu110\\lib\\site-packages\\torch\\utils\\cpp_extension.py\", line 986, in load\n",
            "    return _jit_compile(\n",
            "  File \"C:\\Users\\jongm\\anaconda3\\envs\\torch_cu110\\lib\\site-packages\\torch\\utils\\cpp_extension.py\", line 1213, in _jit_compile\n",
            "    return _import_module_from_library(name, build_directory, is_python_module)\n",
            "  File \"C:\\Users\\jongm\\anaconda3\\envs\\torch_cu110\\lib\\site-packages\\torch\\utils\\cpp_extension.py\", line 1560, in _import_module_from_library\n",
            "    file, path, description = imp.find_module(module_name, [path])\n",
            "  File \"C:\\Users\\jongm\\anaconda3\\envs\\torch_cu110\\lib\\imp.py\", line 296, in find_module\n",
            "    raise ImportError(_ERR_MSG.format(name), name=name)\n",
            "ImportError: No module named 'upfirdn2d_plugin'\n",
            "\n",
            "  warnings.warn('Failed to build CUDA kernels for upfirdn2d. Falling back to slow reference implementation. Details:\\n\\n' + traceback.format_exc())\n"
          ]
        },
        {
          "name": "stdout",
          "output_type": "stream",
          "text": [
            "Failed!\n",
            "Setting up PyTorch plugin \"upfirdn2d_plugin\"... "
          ]
        },
        {
          "name": "stderr",
          "output_type": "stream",
          "text": [
            "c:\\Users\\jongm\\OneDrive - 광운대학교\\ProjecTS\\AID-AI-Design-1\\ai\\stylegan2_ada_pytorch\\torch_utils\\ops\\upfirdn2d.py:34: UserWarning: Failed to build CUDA kernels for upfirdn2d. Falling back to slow reference implementation. Details:\n",
            "\n",
            "Traceback (most recent call last):\n",
            "  File \"c:\\Users\\jongm\\OneDrive - 광운대학교\\ProjecTS\\AID-AI-Design-1\\ai\\stylegan2_ada_pytorch\\torch_utils\\ops\\upfirdn2d.py\", line 32, in _init\n",
            "    _plugin = custom_ops.get_plugin('upfirdn2d_plugin', sources=sources, extra_cuda_cflags=['--use_fast_math'])\n",
            "  File \"c:\\Users\\jongm\\OneDrive - 광운대학교\\ProjecTS\\AID-AI-Design-1\\ai\\stylegan2_ada_pytorch\\torch_utils\\custom_ops.py\", line 110, in get_plugin\n",
            "    torch.utils.cpp_extension.load(name=module_name, verbose=verbose_build, sources=sources, **build_kwargs)\n",
            "  File \"C:\\Users\\jongm\\anaconda3\\envs\\torch_cu110\\lib\\site-packages\\torch\\utils\\cpp_extension.py\", line 986, in load\n",
            "    return _jit_compile(\n",
            "  File \"C:\\Users\\jongm\\anaconda3\\envs\\torch_cu110\\lib\\site-packages\\torch\\utils\\cpp_extension.py\", line 1213, in _jit_compile\n",
            "    return _import_module_from_library(name, build_directory, is_python_module)\n",
            "  File \"C:\\Users\\jongm\\anaconda3\\envs\\torch_cu110\\lib\\site-packages\\torch\\utils\\cpp_extension.py\", line 1560, in _import_module_from_library\n",
            "    file, path, description = imp.find_module(module_name, [path])\n",
            "  File \"C:\\Users\\jongm\\anaconda3\\envs\\torch_cu110\\lib\\imp.py\", line 296, in find_module\n",
            "    raise ImportError(_ERR_MSG.format(name), name=name)\n",
            "ImportError: No module named 'upfirdn2d_plugin'\n",
            "\n",
            "  warnings.warn('Failed to build CUDA kernels for upfirdn2d. Falling back to slow reference implementation. Details:\\n\\n' + traceback.format_exc())\n"
          ]
        },
        {
          "name": "stdout",
          "output_type": "stream",
          "text": [
            "Failed!\n",
            "Setting up PyTorch plugin \"upfirdn2d_plugin\"... "
          ]
        },
        {
          "name": "stderr",
          "output_type": "stream",
          "text": [
            "c:\\Users\\jongm\\OneDrive - 광운대학교\\ProjecTS\\AID-AI-Design-1\\ai\\stylegan2_ada_pytorch\\torch_utils\\ops\\upfirdn2d.py:34: UserWarning: Failed to build CUDA kernels for upfirdn2d. Falling back to slow reference implementation. Details:\n",
            "\n",
            "Traceback (most recent call last):\n",
            "  File \"c:\\Users\\jongm\\OneDrive - 광운대학교\\ProjecTS\\AID-AI-Design-1\\ai\\stylegan2_ada_pytorch\\torch_utils\\ops\\upfirdn2d.py\", line 32, in _init\n",
            "    _plugin = custom_ops.get_plugin('upfirdn2d_plugin', sources=sources, extra_cuda_cflags=['--use_fast_math'])\n",
            "  File \"c:\\Users\\jongm\\OneDrive - 광운대학교\\ProjecTS\\AID-AI-Design-1\\ai\\stylegan2_ada_pytorch\\torch_utils\\custom_ops.py\", line 110, in get_plugin\n",
            "    torch.utils.cpp_extension.load(name=module_name, verbose=verbose_build, sources=sources, **build_kwargs)\n",
            "  File \"C:\\Users\\jongm\\anaconda3\\envs\\torch_cu110\\lib\\site-packages\\torch\\utils\\cpp_extension.py\", line 986, in load\n",
            "    return _jit_compile(\n",
            "  File \"C:\\Users\\jongm\\anaconda3\\envs\\torch_cu110\\lib\\site-packages\\torch\\utils\\cpp_extension.py\", line 1213, in _jit_compile\n",
            "    return _import_module_from_library(name, build_directory, is_python_module)\n",
            "  File \"C:\\Users\\jongm\\anaconda3\\envs\\torch_cu110\\lib\\site-packages\\torch\\utils\\cpp_extension.py\", line 1560, in _import_module_from_library\n",
            "    file, path, description = imp.find_module(module_name, [path])\n",
            "  File \"C:\\Users\\jongm\\anaconda3\\envs\\torch_cu110\\lib\\imp.py\", line 296, in find_module\n",
            "    raise ImportError(_ERR_MSG.format(name), name=name)\n",
            "ImportError: No module named 'upfirdn2d_plugin'\n",
            "\n",
            "  warnings.warn('Failed to build CUDA kernels for upfirdn2d. Falling back to slow reference implementation. Details:\\n\\n' + traceback.format_exc())\n"
          ]
        },
        {
          "name": "stdout",
          "output_type": "stream",
          "text": [
            "Failed!\n"
          ]
        },
        {
          "name": "stderr",
          "output_type": "stream",
          "text": [
            "c:\\Users\\jongm\\OneDrive - 광운대학교\\ProjecTS\\AID-AI-Design-1\\ai\\stylegan2_ada_pytorch\\torch_utils\\ops\\upfirdn2d.py:34: UserWarning: Failed to build CUDA kernels for upfirdn2d. Falling back to slow reference implementation. Details:\n",
            "\n",
            "Traceback (most recent call last):\n",
            "  File \"c:\\Users\\jongm\\OneDrive - 광운대학교\\ProjecTS\\AID-AI-Design-1\\ai\\stylegan2_ada_pytorch\\torch_utils\\ops\\upfirdn2d.py\", line 32, in _init\n",
            "    _plugin = custom_ops.get_plugin('upfirdn2d_plugin', sources=sources, extra_cuda_cflags=['--use_fast_math'])\n",
            "  File \"c:\\Users\\jongm\\OneDrive - 광운대학교\\ProjecTS\\AID-AI-Design-1\\ai\\stylegan2_ada_pytorch\\torch_utils\\custom_ops.py\", line 110, in get_plugin\n",
            "    torch.utils.cpp_extension.load(name=module_name, verbose=verbose_build, sources=sources, **build_kwargs)\n",
            "  File \"C:\\Users\\jongm\\anaconda3\\envs\\torch_cu110\\lib\\site-packages\\torch\\utils\\cpp_extension.py\", line 986, in load\n",
            "    return _jit_compile(\n",
            "  File \"C:\\Users\\jongm\\anaconda3\\envs\\torch_cu110\\lib\\site-packages\\torch\\utils\\cpp_extension.py\", line 1213, in _jit_compile\n",
            "    return _import_module_from_library(name, build_directory, is_python_module)\n",
            "  File \"C:\\Users\\jongm\\anaconda3\\envs\\torch_cu110\\lib\\site-packages\\torch\\utils\\cpp_extension.py\", line 1560, in _import_module_from_library\n",
            "    file, path, description = imp.find_module(module_name, [path])\n",
            "  File \"C:\\Users\\jongm\\anaconda3\\envs\\torch_cu110\\lib\\imp.py\", line 296, in find_module\n",
            "    raise ImportError(_ERR_MSG.format(name), name=name)\n",
            "ImportError: No module named 'upfirdn2d_plugin'\n",
            "\n",
            "  warnings.warn('Failed to build CUDA kernels for upfirdn2d. Falling back to slow reference implementation. Details:\\n\\n' + traceback.format_exc())\n"
          ]
        },
        {
          "name": "stdout",
          "output_type": "stream",
          "text": [
            "Setting up PyTorch plugin \"upfirdn2d_plugin\"... Failed!\n",
            "Setting up PyTorch plugin \"upfirdn2d_plugin\"... "
          ]
        },
        {
          "name": "stderr",
          "output_type": "stream",
          "text": [
            "c:\\Users\\jongm\\OneDrive - 광운대학교\\ProjecTS\\AID-AI-Design-1\\ai\\stylegan2_ada_pytorch\\torch_utils\\ops\\upfirdn2d.py:34: UserWarning: Failed to build CUDA kernels for upfirdn2d. Falling back to slow reference implementation. Details:\n",
            "\n",
            "Traceback (most recent call last):\n",
            "  File \"c:\\Users\\jongm\\OneDrive - 광운대학교\\ProjecTS\\AID-AI-Design-1\\ai\\stylegan2_ada_pytorch\\torch_utils\\ops\\upfirdn2d.py\", line 32, in _init\n",
            "    _plugin = custom_ops.get_plugin('upfirdn2d_plugin', sources=sources, extra_cuda_cflags=['--use_fast_math'])\n",
            "  File \"c:\\Users\\jongm\\OneDrive - 광운대학교\\ProjecTS\\AID-AI-Design-1\\ai\\stylegan2_ada_pytorch\\torch_utils\\custom_ops.py\", line 110, in get_plugin\n",
            "    torch.utils.cpp_extension.load(name=module_name, verbose=verbose_build, sources=sources, **build_kwargs)\n",
            "  File \"C:\\Users\\jongm\\anaconda3\\envs\\torch_cu110\\lib\\site-packages\\torch\\utils\\cpp_extension.py\", line 986, in load\n",
            "    return _jit_compile(\n",
            "  File \"C:\\Users\\jongm\\anaconda3\\envs\\torch_cu110\\lib\\site-packages\\torch\\utils\\cpp_extension.py\", line 1213, in _jit_compile\n",
            "    return _import_module_from_library(name, build_directory, is_python_module)\n",
            "  File \"C:\\Users\\jongm\\anaconda3\\envs\\torch_cu110\\lib\\site-packages\\torch\\utils\\cpp_extension.py\", line 1560, in _import_module_from_library\n",
            "    file, path, description = imp.find_module(module_name, [path])\n",
            "  File \"C:\\Users\\jongm\\anaconda3\\envs\\torch_cu110\\lib\\imp.py\", line 296, in find_module\n",
            "    raise ImportError(_ERR_MSG.format(name), name=name)\n",
            "ImportError: No module named 'upfirdn2d_plugin'\n",
            "\n",
            "  warnings.warn('Failed to build CUDA kernels for upfirdn2d. Falling back to slow reference implementation. Details:\\n\\n' + traceback.format_exc())\n"
          ]
        },
        {
          "name": "stdout",
          "output_type": "stream",
          "text": [
            "Failed!\n",
            "Setting up PyTorch plugin \"upfirdn2d_plugin\"... "
          ]
        },
        {
          "name": "stderr",
          "output_type": "stream",
          "text": [
            "c:\\Users\\jongm\\OneDrive - 광운대학교\\ProjecTS\\AID-AI-Design-1\\ai\\stylegan2_ada_pytorch\\torch_utils\\ops\\upfirdn2d.py:34: UserWarning: Failed to build CUDA kernels for upfirdn2d. Falling back to slow reference implementation. Details:\n",
            "\n",
            "Traceback (most recent call last):\n",
            "  File \"c:\\Users\\jongm\\OneDrive - 광운대학교\\ProjecTS\\AID-AI-Design-1\\ai\\stylegan2_ada_pytorch\\torch_utils\\ops\\upfirdn2d.py\", line 32, in _init\n",
            "    _plugin = custom_ops.get_plugin('upfirdn2d_plugin', sources=sources, extra_cuda_cflags=['--use_fast_math'])\n",
            "  File \"c:\\Users\\jongm\\OneDrive - 광운대학교\\ProjecTS\\AID-AI-Design-1\\ai\\stylegan2_ada_pytorch\\torch_utils\\custom_ops.py\", line 110, in get_plugin\n",
            "    torch.utils.cpp_extension.load(name=module_name, verbose=verbose_build, sources=sources, **build_kwargs)\n",
            "  File \"C:\\Users\\jongm\\anaconda3\\envs\\torch_cu110\\lib\\site-packages\\torch\\utils\\cpp_extension.py\", line 986, in load\n",
            "    return _jit_compile(\n",
            "  File \"C:\\Users\\jongm\\anaconda3\\envs\\torch_cu110\\lib\\site-packages\\torch\\utils\\cpp_extension.py\", line 1213, in _jit_compile\n",
            "    return _import_module_from_library(name, build_directory, is_python_module)\n",
            "  File \"C:\\Users\\jongm\\anaconda3\\envs\\torch_cu110\\lib\\site-packages\\torch\\utils\\cpp_extension.py\", line 1560, in _import_module_from_library\n",
            "    file, path, description = imp.find_module(module_name, [path])\n",
            "  File \"C:\\Users\\jongm\\anaconda3\\envs\\torch_cu110\\lib\\imp.py\", line 296, in find_module\n",
            "    raise ImportError(_ERR_MSG.format(name), name=name)\n",
            "ImportError: No module named 'upfirdn2d_plugin'\n",
            "\n",
            "  warnings.warn('Failed to build CUDA kernels for upfirdn2d. Falling back to slow reference implementation. Details:\\n\\n' + traceback.format_exc())\n"
          ]
        },
        {
          "name": "stdout",
          "output_type": "stream",
          "text": [
            "Failed!\n",
            "Setting up PyTorch plugin \"upfirdn2d_plugin\"... "
          ]
        },
        {
          "name": "stderr",
          "output_type": "stream",
          "text": [
            "c:\\Users\\jongm\\OneDrive - 광운대학교\\ProjecTS\\AID-AI-Design-1\\ai\\stylegan2_ada_pytorch\\torch_utils\\ops\\upfirdn2d.py:34: UserWarning: Failed to build CUDA kernels for upfirdn2d. Falling back to slow reference implementation. Details:\n",
            "\n",
            "Traceback (most recent call last):\n",
            "  File \"c:\\Users\\jongm\\OneDrive - 광운대학교\\ProjecTS\\AID-AI-Design-1\\ai\\stylegan2_ada_pytorch\\torch_utils\\ops\\upfirdn2d.py\", line 32, in _init\n",
            "    _plugin = custom_ops.get_plugin('upfirdn2d_plugin', sources=sources, extra_cuda_cflags=['--use_fast_math'])\n",
            "  File \"c:\\Users\\jongm\\OneDrive - 광운대학교\\ProjecTS\\AID-AI-Design-1\\ai\\stylegan2_ada_pytorch\\torch_utils\\custom_ops.py\", line 110, in get_plugin\n",
            "    torch.utils.cpp_extension.load(name=module_name, verbose=verbose_build, sources=sources, **build_kwargs)\n",
            "  File \"C:\\Users\\jongm\\anaconda3\\envs\\torch_cu110\\lib\\site-packages\\torch\\utils\\cpp_extension.py\", line 986, in load\n",
            "    return _jit_compile(\n",
            "  File \"C:\\Users\\jongm\\anaconda3\\envs\\torch_cu110\\lib\\site-packages\\torch\\utils\\cpp_extension.py\", line 1213, in _jit_compile\n",
            "    return _import_module_from_library(name, build_directory, is_python_module)\n",
            "  File \"C:\\Users\\jongm\\anaconda3\\envs\\torch_cu110\\lib\\site-packages\\torch\\utils\\cpp_extension.py\", line 1560, in _import_module_from_library\n",
            "    file, path, description = imp.find_module(module_name, [path])\n",
            "  File \"C:\\Users\\jongm\\anaconda3\\envs\\torch_cu110\\lib\\imp.py\", line 296, in find_module\n",
            "    raise ImportError(_ERR_MSG.format(name), name=name)\n",
            "ImportError: No module named 'upfirdn2d_plugin'\n",
            "\n",
            "  warnings.warn('Failed to build CUDA kernels for upfirdn2d. Falling back to slow reference implementation. Details:\\n\\n' + traceback.format_exc())\n"
          ]
        },
        {
          "name": "stdout",
          "output_type": "stream",
          "text": [
            "Failed!\n",
            "Setting up PyTorch plugin \"upfirdn2d_plugin\"... "
          ]
        },
        {
          "name": "stderr",
          "output_type": "stream",
          "text": [
            "c:\\Users\\jongm\\OneDrive - 광운대학교\\ProjecTS\\AID-AI-Design-1\\ai\\stylegan2_ada_pytorch\\torch_utils\\ops\\upfirdn2d.py:34: UserWarning: Failed to build CUDA kernels for upfirdn2d. Falling back to slow reference implementation. Details:\n",
            "\n",
            "Traceback (most recent call last):\n",
            "  File \"c:\\Users\\jongm\\OneDrive - 광운대학교\\ProjecTS\\AID-AI-Design-1\\ai\\stylegan2_ada_pytorch\\torch_utils\\ops\\upfirdn2d.py\", line 32, in _init\n",
            "    _plugin = custom_ops.get_plugin('upfirdn2d_plugin', sources=sources, extra_cuda_cflags=['--use_fast_math'])\n",
            "  File \"c:\\Users\\jongm\\OneDrive - 광운대학교\\ProjecTS\\AID-AI-Design-1\\ai\\stylegan2_ada_pytorch\\torch_utils\\custom_ops.py\", line 110, in get_plugin\n",
            "    torch.utils.cpp_extension.load(name=module_name, verbose=verbose_build, sources=sources, **build_kwargs)\n",
            "  File \"C:\\Users\\jongm\\anaconda3\\envs\\torch_cu110\\lib\\site-packages\\torch\\utils\\cpp_extension.py\", line 986, in load\n",
            "    return _jit_compile(\n",
            "  File \"C:\\Users\\jongm\\anaconda3\\envs\\torch_cu110\\lib\\site-packages\\torch\\utils\\cpp_extension.py\", line 1213, in _jit_compile\n",
            "    return _import_module_from_library(name, build_directory, is_python_module)\n",
            "  File \"C:\\Users\\jongm\\anaconda3\\envs\\torch_cu110\\lib\\site-packages\\torch\\utils\\cpp_extension.py\", line 1560, in _import_module_from_library\n",
            "    file, path, description = imp.find_module(module_name, [path])\n",
            "  File \"C:\\Users\\jongm\\anaconda3\\envs\\torch_cu110\\lib\\imp.py\", line 296, in find_module\n",
            "    raise ImportError(_ERR_MSG.format(name), name=name)\n",
            "ImportError: No module named 'upfirdn2d_plugin'\n",
            "\n",
            "  warnings.warn('Failed to build CUDA kernels for upfirdn2d. Falling back to slow reference implementation. Details:\\n\\n' + traceback.format_exc())\n"
          ]
        },
        {
          "name": "stdout",
          "output_type": "stream",
          "text": [
            "Failed!\n",
            "Setting up PyTorch plugin \"upfirdn2d_plugin\"... "
          ]
        },
        {
          "name": "stderr",
          "output_type": "stream",
          "text": [
            "c:\\Users\\jongm\\OneDrive - 광운대학교\\ProjecTS\\AID-AI-Design-1\\ai\\stylegan2_ada_pytorch\\torch_utils\\ops\\upfirdn2d.py:34: UserWarning: Failed to build CUDA kernels for upfirdn2d. Falling back to slow reference implementation. Details:\n",
            "\n",
            "Traceback (most recent call last):\n",
            "  File \"c:\\Users\\jongm\\OneDrive - 광운대학교\\ProjecTS\\AID-AI-Design-1\\ai\\stylegan2_ada_pytorch\\torch_utils\\ops\\upfirdn2d.py\", line 32, in _init\n",
            "    _plugin = custom_ops.get_plugin('upfirdn2d_plugin', sources=sources, extra_cuda_cflags=['--use_fast_math'])\n",
            "  File \"c:\\Users\\jongm\\OneDrive - 광운대학교\\ProjecTS\\AID-AI-Design-1\\ai\\stylegan2_ada_pytorch\\torch_utils\\custom_ops.py\", line 110, in get_plugin\n",
            "    torch.utils.cpp_extension.load(name=module_name, verbose=verbose_build, sources=sources, **build_kwargs)\n",
            "  File \"C:\\Users\\jongm\\anaconda3\\envs\\torch_cu110\\lib\\site-packages\\torch\\utils\\cpp_extension.py\", line 986, in load\n",
            "    return _jit_compile(\n",
            "  File \"C:\\Users\\jongm\\anaconda3\\envs\\torch_cu110\\lib\\site-packages\\torch\\utils\\cpp_extension.py\", line 1213, in _jit_compile\n",
            "    return _import_module_from_library(name, build_directory, is_python_module)\n",
            "  File \"C:\\Users\\jongm\\anaconda3\\envs\\torch_cu110\\lib\\site-packages\\torch\\utils\\cpp_extension.py\", line 1560, in _import_module_from_library\n",
            "    file, path, description = imp.find_module(module_name, [path])\n",
            "  File \"C:\\Users\\jongm\\anaconda3\\envs\\torch_cu110\\lib\\imp.py\", line 296, in find_module\n",
            "    raise ImportError(_ERR_MSG.format(name), name=name)\n",
            "ImportError: No module named 'upfirdn2d_plugin'\n",
            "\n",
            "  warnings.warn('Failed to build CUDA kernels for upfirdn2d. Falling back to slow reference implementation. Details:\\n\\n' + traceback.format_exc())\n"
          ]
        },
        {
          "name": "stdout",
          "output_type": "stream",
          "text": [
            "Failed!\n",
            "Setting up PyTorch plugin \"upfirdn2d_plugin\"... "
          ]
        },
        {
          "name": "stderr",
          "output_type": "stream",
          "text": [
            "c:\\Users\\jongm\\OneDrive - 광운대학교\\ProjecTS\\AID-AI-Design-1\\ai\\stylegan2_ada_pytorch\\torch_utils\\ops\\upfirdn2d.py:34: UserWarning: Failed to build CUDA kernels for upfirdn2d. Falling back to slow reference implementation. Details:\n",
            "\n",
            "Traceback (most recent call last):\n",
            "  File \"c:\\Users\\jongm\\OneDrive - 광운대학교\\ProjecTS\\AID-AI-Design-1\\ai\\stylegan2_ada_pytorch\\torch_utils\\ops\\upfirdn2d.py\", line 32, in _init\n",
            "    _plugin = custom_ops.get_plugin('upfirdn2d_plugin', sources=sources, extra_cuda_cflags=['--use_fast_math'])\n",
            "  File \"c:\\Users\\jongm\\OneDrive - 광운대학교\\ProjecTS\\AID-AI-Design-1\\ai\\stylegan2_ada_pytorch\\torch_utils\\custom_ops.py\", line 110, in get_plugin\n",
            "    torch.utils.cpp_extension.load(name=module_name, verbose=verbose_build, sources=sources, **build_kwargs)\n",
            "  File \"C:\\Users\\jongm\\anaconda3\\envs\\torch_cu110\\lib\\site-packages\\torch\\utils\\cpp_extension.py\", line 986, in load\n",
            "    return _jit_compile(\n",
            "  File \"C:\\Users\\jongm\\anaconda3\\envs\\torch_cu110\\lib\\site-packages\\torch\\utils\\cpp_extension.py\", line 1213, in _jit_compile\n",
            "    return _import_module_from_library(name, build_directory, is_python_module)\n",
            "  File \"C:\\Users\\jongm\\anaconda3\\envs\\torch_cu110\\lib\\site-packages\\torch\\utils\\cpp_extension.py\", line 1560, in _import_module_from_library\n",
            "    file, path, description = imp.find_module(module_name, [path])\n",
            "  File \"C:\\Users\\jongm\\anaconda3\\envs\\torch_cu110\\lib\\imp.py\", line 296, in find_module\n",
            "    raise ImportError(_ERR_MSG.format(name), name=name)\n",
            "ImportError: No module named 'upfirdn2d_plugin'\n",
            "\n",
            "  warnings.warn('Failed to build CUDA kernels for upfirdn2d. Falling back to slow reference implementation. Details:\\n\\n' + traceback.format_exc())\n"
          ]
        },
        {
          "name": "stdout",
          "output_type": "stream",
          "text": [
            "Failed!\n",
            "Setting up PyTorch plugin \"upfirdn2d_plugin\"... "
          ]
        },
        {
          "name": "stderr",
          "output_type": "stream",
          "text": [
            "c:\\Users\\jongm\\OneDrive - 광운대학교\\ProjecTS\\AID-AI-Design-1\\ai\\stylegan2_ada_pytorch\\torch_utils\\ops\\upfirdn2d.py:34: UserWarning: Failed to build CUDA kernels for upfirdn2d. Falling back to slow reference implementation. Details:\n",
            "\n",
            "Traceback (most recent call last):\n",
            "  File \"c:\\Users\\jongm\\OneDrive - 광운대학교\\ProjecTS\\AID-AI-Design-1\\ai\\stylegan2_ada_pytorch\\torch_utils\\ops\\upfirdn2d.py\", line 32, in _init\n",
            "    _plugin = custom_ops.get_plugin('upfirdn2d_plugin', sources=sources, extra_cuda_cflags=['--use_fast_math'])\n",
            "  File \"c:\\Users\\jongm\\OneDrive - 광운대학교\\ProjecTS\\AID-AI-Design-1\\ai\\stylegan2_ada_pytorch\\torch_utils\\custom_ops.py\", line 110, in get_plugin\n",
            "    torch.utils.cpp_extension.load(name=module_name, verbose=verbose_build, sources=sources, **build_kwargs)\n",
            "  File \"C:\\Users\\jongm\\anaconda3\\envs\\torch_cu110\\lib\\site-packages\\torch\\utils\\cpp_extension.py\", line 986, in load\n",
            "    return _jit_compile(\n",
            "  File \"C:\\Users\\jongm\\anaconda3\\envs\\torch_cu110\\lib\\site-packages\\torch\\utils\\cpp_extension.py\", line 1213, in _jit_compile\n",
            "    return _import_module_from_library(name, build_directory, is_python_module)\n",
            "  File \"C:\\Users\\jongm\\anaconda3\\envs\\torch_cu110\\lib\\site-packages\\torch\\utils\\cpp_extension.py\", line 1560, in _import_module_from_library\n",
            "    file, path, description = imp.find_module(module_name, [path])\n",
            "  File \"C:\\Users\\jongm\\anaconda3\\envs\\torch_cu110\\lib\\imp.py\", line 296, in find_module\n",
            "    raise ImportError(_ERR_MSG.format(name), name=name)\n",
            "ImportError: No module named 'upfirdn2d_plugin'\n",
            "\n",
            "  warnings.warn('Failed to build CUDA kernels for upfirdn2d. Falling back to slow reference implementation. Details:\\n\\n' + traceback.format_exc())\n"
          ]
        },
        {
          "name": "stdout",
          "output_type": "stream",
          "text": [
            "Failed!\n",
            "Setting up PyTorch plugin \"upfirdn2d_plugin\"... "
          ]
        },
        {
          "name": "stderr",
          "output_type": "stream",
          "text": [
            "c:\\Users\\jongm\\OneDrive - 광운대학교\\ProjecTS\\AID-AI-Design-1\\ai\\stylegan2_ada_pytorch\\torch_utils\\ops\\upfirdn2d.py:34: UserWarning: Failed to build CUDA kernels for upfirdn2d. Falling back to slow reference implementation. Details:\n",
            "\n",
            "Traceback (most recent call last):\n",
            "  File \"c:\\Users\\jongm\\OneDrive - 광운대학교\\ProjecTS\\AID-AI-Design-1\\ai\\stylegan2_ada_pytorch\\torch_utils\\ops\\upfirdn2d.py\", line 32, in _init\n",
            "    _plugin = custom_ops.get_plugin('upfirdn2d_plugin', sources=sources, extra_cuda_cflags=['--use_fast_math'])\n",
            "  File \"c:\\Users\\jongm\\OneDrive - 광운대학교\\ProjecTS\\AID-AI-Design-1\\ai\\stylegan2_ada_pytorch\\torch_utils\\custom_ops.py\", line 110, in get_plugin\n",
            "    torch.utils.cpp_extension.load(name=module_name, verbose=verbose_build, sources=sources, **build_kwargs)\n",
            "  File \"C:\\Users\\jongm\\anaconda3\\envs\\torch_cu110\\lib\\site-packages\\torch\\utils\\cpp_extension.py\", line 986, in load\n",
            "    return _jit_compile(\n",
            "  File \"C:\\Users\\jongm\\anaconda3\\envs\\torch_cu110\\lib\\site-packages\\torch\\utils\\cpp_extension.py\", line 1213, in _jit_compile\n",
            "    return _import_module_from_library(name, build_directory, is_python_module)\n",
            "  File \"C:\\Users\\jongm\\anaconda3\\envs\\torch_cu110\\lib\\site-packages\\torch\\utils\\cpp_extension.py\", line 1560, in _import_module_from_library\n",
            "    file, path, description = imp.find_module(module_name, [path])\n",
            "  File \"C:\\Users\\jongm\\anaconda3\\envs\\torch_cu110\\lib\\imp.py\", line 296, in find_module\n",
            "    raise ImportError(_ERR_MSG.format(name), name=name)\n",
            "ImportError: No module named 'upfirdn2d_plugin'\n",
            "\n",
            "  warnings.warn('Failed to build CUDA kernels for upfirdn2d. Falling back to slow reference implementation. Details:\\n\\n' + traceback.format_exc())\n"
          ]
        },
        {
          "name": "stdout",
          "output_type": "stream",
          "text": [
            "Failed!\n",
            "Setting up PyTorch plugin \"upfirdn2d_plugin\"... "
          ]
        },
        {
          "name": "stderr",
          "output_type": "stream",
          "text": [
            "c:\\Users\\jongm\\OneDrive - 광운대학교\\ProjecTS\\AID-AI-Design-1\\ai\\stylegan2_ada_pytorch\\torch_utils\\ops\\upfirdn2d.py:34: UserWarning: Failed to build CUDA kernels for upfirdn2d. Falling back to slow reference implementation. Details:\n",
            "\n",
            "Traceback (most recent call last):\n",
            "  File \"c:\\Users\\jongm\\OneDrive - 광운대학교\\ProjecTS\\AID-AI-Design-1\\ai\\stylegan2_ada_pytorch\\torch_utils\\ops\\upfirdn2d.py\", line 32, in _init\n",
            "    _plugin = custom_ops.get_plugin('upfirdn2d_plugin', sources=sources, extra_cuda_cflags=['--use_fast_math'])\n",
            "  File \"c:\\Users\\jongm\\OneDrive - 광운대학교\\ProjecTS\\AID-AI-Design-1\\ai\\stylegan2_ada_pytorch\\torch_utils\\custom_ops.py\", line 110, in get_plugin\n",
            "    torch.utils.cpp_extension.load(name=module_name, verbose=verbose_build, sources=sources, **build_kwargs)\n",
            "  File \"C:\\Users\\jongm\\anaconda3\\envs\\torch_cu110\\lib\\site-packages\\torch\\utils\\cpp_extension.py\", line 986, in load\n",
            "    return _jit_compile(\n",
            "  File \"C:\\Users\\jongm\\anaconda3\\envs\\torch_cu110\\lib\\site-packages\\torch\\utils\\cpp_extension.py\", line 1213, in _jit_compile\n",
            "    return _import_module_from_library(name, build_directory, is_python_module)\n",
            "  File \"C:\\Users\\jongm\\anaconda3\\envs\\torch_cu110\\lib\\site-packages\\torch\\utils\\cpp_extension.py\", line 1560, in _import_module_from_library\n",
            "    file, path, description = imp.find_module(module_name, [path])\n",
            "  File \"C:\\Users\\jongm\\anaconda3\\envs\\torch_cu110\\lib\\imp.py\", line 296, in find_module\n",
            "    raise ImportError(_ERR_MSG.format(name), name=name)\n",
            "ImportError: No module named 'upfirdn2d_plugin'\n",
            "\n",
            "  warnings.warn('Failed to build CUDA kernels for upfirdn2d. Falling back to slow reference implementation. Details:\\n\\n' + traceback.format_exc())\n"
          ]
        },
        {
          "name": "stdout",
          "output_type": "stream",
          "text": [
            "Failed!\n",
            "Setting up PyTorch plugin \"upfirdn2d_plugin\"... "
          ]
        },
        {
          "name": "stderr",
          "output_type": "stream",
          "text": [
            "c:\\Users\\jongm\\OneDrive - 광운대학교\\ProjecTS\\AID-AI-Design-1\\ai\\stylegan2_ada_pytorch\\torch_utils\\ops\\upfirdn2d.py:34: UserWarning: Failed to build CUDA kernels for upfirdn2d. Falling back to slow reference implementation. Details:\n",
            "\n",
            "Traceback (most recent call last):\n",
            "  File \"c:\\Users\\jongm\\OneDrive - 광운대학교\\ProjecTS\\AID-AI-Design-1\\ai\\stylegan2_ada_pytorch\\torch_utils\\ops\\upfirdn2d.py\", line 32, in _init\n",
            "    _plugin = custom_ops.get_plugin('upfirdn2d_plugin', sources=sources, extra_cuda_cflags=['--use_fast_math'])\n",
            "  File \"c:\\Users\\jongm\\OneDrive - 광운대학교\\ProjecTS\\AID-AI-Design-1\\ai\\stylegan2_ada_pytorch\\torch_utils\\custom_ops.py\", line 110, in get_plugin\n",
            "    torch.utils.cpp_extension.load(name=module_name, verbose=verbose_build, sources=sources, **build_kwargs)\n",
            "  File \"C:\\Users\\jongm\\anaconda3\\envs\\torch_cu110\\lib\\site-packages\\torch\\utils\\cpp_extension.py\", line 986, in load\n",
            "    return _jit_compile(\n",
            "  File \"C:\\Users\\jongm\\anaconda3\\envs\\torch_cu110\\lib\\site-packages\\torch\\utils\\cpp_extension.py\", line 1213, in _jit_compile\n",
            "    return _import_module_from_library(name, build_directory, is_python_module)\n",
            "  File \"C:\\Users\\jongm\\anaconda3\\envs\\torch_cu110\\lib\\site-packages\\torch\\utils\\cpp_extension.py\", line 1560, in _import_module_from_library\n",
            "    file, path, description = imp.find_module(module_name, [path])\n",
            "  File \"C:\\Users\\jongm\\anaconda3\\envs\\torch_cu110\\lib\\imp.py\", line 296, in find_module\n",
            "    raise ImportError(_ERR_MSG.format(name), name=name)\n",
            "ImportError: No module named 'upfirdn2d_plugin'\n",
            "\n",
            "  warnings.warn('Failed to build CUDA kernels for upfirdn2d. Falling back to slow reference implementation. Details:\\n\\n' + traceback.format_exc())\n"
          ]
        },
        {
          "name": "stdout",
          "output_type": "stream",
          "text": [
            "Failed!\n",
            "Setting up PyTorch plugin \"upfirdn2d_plugin\"... "
          ]
        },
        {
          "name": "stderr",
          "output_type": "stream",
          "text": [
            "c:\\Users\\jongm\\OneDrive - 광운대학교\\ProjecTS\\AID-AI-Design-1\\ai\\stylegan2_ada_pytorch\\torch_utils\\ops\\upfirdn2d.py:34: UserWarning: Failed to build CUDA kernels for upfirdn2d. Falling back to slow reference implementation. Details:\n",
            "\n",
            "Traceback (most recent call last):\n",
            "  File \"c:\\Users\\jongm\\OneDrive - 광운대학교\\ProjecTS\\AID-AI-Design-1\\ai\\stylegan2_ada_pytorch\\torch_utils\\ops\\upfirdn2d.py\", line 32, in _init\n",
            "    _plugin = custom_ops.get_plugin('upfirdn2d_plugin', sources=sources, extra_cuda_cflags=['--use_fast_math'])\n",
            "  File \"c:\\Users\\jongm\\OneDrive - 광운대학교\\ProjecTS\\AID-AI-Design-1\\ai\\stylegan2_ada_pytorch\\torch_utils\\custom_ops.py\", line 110, in get_plugin\n",
            "    torch.utils.cpp_extension.load(name=module_name, verbose=verbose_build, sources=sources, **build_kwargs)\n",
            "  File \"C:\\Users\\jongm\\anaconda3\\envs\\torch_cu110\\lib\\site-packages\\torch\\utils\\cpp_extension.py\", line 986, in load\n",
            "    return _jit_compile(\n",
            "  File \"C:\\Users\\jongm\\anaconda3\\envs\\torch_cu110\\lib\\site-packages\\torch\\utils\\cpp_extension.py\", line 1213, in _jit_compile\n",
            "    return _import_module_from_library(name, build_directory, is_python_module)\n",
            "  File \"C:\\Users\\jongm\\anaconda3\\envs\\torch_cu110\\lib\\site-packages\\torch\\utils\\cpp_extension.py\", line 1560, in _import_module_from_library\n",
            "    file, path, description = imp.find_module(module_name, [path])\n",
            "  File \"C:\\Users\\jongm\\anaconda3\\envs\\torch_cu110\\lib\\imp.py\", line 296, in find_module\n",
            "    raise ImportError(_ERR_MSG.format(name), name=name)\n",
            "ImportError: No module named 'upfirdn2d_plugin'\n",
            "\n",
            "  warnings.warn('Failed to build CUDA kernels for upfirdn2d. Falling back to slow reference implementation. Details:\\n\\n' + traceback.format_exc())\n"
          ]
        },
        {
          "name": "stdout",
          "output_type": "stream",
          "text": [
            "Failed!\n",
            "Setting up PyTorch plugin \"upfirdn2d_plugin\"... "
          ]
        },
        {
          "name": "stderr",
          "output_type": "stream",
          "text": [
            "c:\\Users\\jongm\\OneDrive - 광운대학교\\ProjecTS\\AID-AI-Design-1\\ai\\stylegan2_ada_pytorch\\torch_utils\\ops\\upfirdn2d.py:34: UserWarning: Failed to build CUDA kernels for upfirdn2d. Falling back to slow reference implementation. Details:\n",
            "\n",
            "Traceback (most recent call last):\n",
            "  File \"c:\\Users\\jongm\\OneDrive - 광운대학교\\ProjecTS\\AID-AI-Design-1\\ai\\stylegan2_ada_pytorch\\torch_utils\\ops\\upfirdn2d.py\", line 32, in _init\n",
            "    _plugin = custom_ops.get_plugin('upfirdn2d_plugin', sources=sources, extra_cuda_cflags=['--use_fast_math'])\n",
            "  File \"c:\\Users\\jongm\\OneDrive - 광운대학교\\ProjecTS\\AID-AI-Design-1\\ai\\stylegan2_ada_pytorch\\torch_utils\\custom_ops.py\", line 110, in get_plugin\n",
            "    torch.utils.cpp_extension.load(name=module_name, verbose=verbose_build, sources=sources, **build_kwargs)\n",
            "  File \"C:\\Users\\jongm\\anaconda3\\envs\\torch_cu110\\lib\\site-packages\\torch\\utils\\cpp_extension.py\", line 986, in load\n",
            "    return _jit_compile(\n",
            "  File \"C:\\Users\\jongm\\anaconda3\\envs\\torch_cu110\\lib\\site-packages\\torch\\utils\\cpp_extension.py\", line 1213, in _jit_compile\n",
            "    return _import_module_from_library(name, build_directory, is_python_module)\n",
            "  File \"C:\\Users\\jongm\\anaconda3\\envs\\torch_cu110\\lib\\site-packages\\torch\\utils\\cpp_extension.py\", line 1560, in _import_module_from_library\n",
            "    file, path, description = imp.find_module(module_name, [path])\n",
            "  File \"C:\\Users\\jongm\\anaconda3\\envs\\torch_cu110\\lib\\imp.py\", line 296, in find_module\n",
            "    raise ImportError(_ERR_MSG.format(name), name=name)\n",
            "ImportError: No module named 'upfirdn2d_plugin'\n",
            "\n",
            "  warnings.warn('Failed to build CUDA kernels for upfirdn2d. Falling back to slow reference implementation. Details:\\n\\n' + traceback.format_exc())\n"
          ]
        },
        {
          "name": "stdout",
          "output_type": "stream",
          "text": [
            "Failed!\n",
            "Setting up PyTorch plugin \"upfirdn2d_plugin\"... "
          ]
        },
        {
          "name": "stderr",
          "output_type": "stream",
          "text": [
            "c:\\Users\\jongm\\OneDrive - 광운대학교\\ProjecTS\\AID-AI-Design-1\\ai\\stylegan2_ada_pytorch\\torch_utils\\ops\\upfirdn2d.py:34: UserWarning: Failed to build CUDA kernels for upfirdn2d. Falling back to slow reference implementation. Details:\n",
            "\n",
            "Traceback (most recent call last):\n",
            "  File \"c:\\Users\\jongm\\OneDrive - 광운대학교\\ProjecTS\\AID-AI-Design-1\\ai\\stylegan2_ada_pytorch\\torch_utils\\ops\\upfirdn2d.py\", line 32, in _init\n",
            "    _plugin = custom_ops.get_plugin('upfirdn2d_plugin', sources=sources, extra_cuda_cflags=['--use_fast_math'])\n",
            "  File \"c:\\Users\\jongm\\OneDrive - 광운대학교\\ProjecTS\\AID-AI-Design-1\\ai\\stylegan2_ada_pytorch\\torch_utils\\custom_ops.py\", line 110, in get_plugin\n",
            "    torch.utils.cpp_extension.load(name=module_name, verbose=verbose_build, sources=sources, **build_kwargs)\n",
            "  File \"C:\\Users\\jongm\\anaconda3\\envs\\torch_cu110\\lib\\site-packages\\torch\\utils\\cpp_extension.py\", line 986, in load\n",
            "    return _jit_compile(\n",
            "  File \"C:\\Users\\jongm\\anaconda3\\envs\\torch_cu110\\lib\\site-packages\\torch\\utils\\cpp_extension.py\", line 1213, in _jit_compile\n",
            "    return _import_module_from_library(name, build_directory, is_python_module)\n",
            "  File \"C:\\Users\\jongm\\anaconda3\\envs\\torch_cu110\\lib\\site-packages\\torch\\utils\\cpp_extension.py\", line 1560, in _import_module_from_library\n",
            "    file, path, description = imp.find_module(module_name, [path])\n",
            "  File \"C:\\Users\\jongm\\anaconda3\\envs\\torch_cu110\\lib\\imp.py\", line 296, in find_module\n",
            "    raise ImportError(_ERR_MSG.format(name), name=name)\n",
            "ImportError: No module named 'upfirdn2d_plugin'\n",
            "\n",
            "  warnings.warn('Failed to build CUDA kernels for upfirdn2d. Falling back to slow reference implementation. Details:\\n\\n' + traceback.format_exc())\n"
          ]
        },
        {
          "name": "stdout",
          "output_type": "stream",
          "text": [
            "Failed!\n",
            "Setting up PyTorch plugin \"upfirdn2d_plugin\"... "
          ]
        },
        {
          "name": "stderr",
          "output_type": "stream",
          "text": [
            "c:\\Users\\jongm\\OneDrive - 광운대학교\\ProjecTS\\AID-AI-Design-1\\ai\\stylegan2_ada_pytorch\\torch_utils\\ops\\upfirdn2d.py:34: UserWarning: Failed to build CUDA kernels for upfirdn2d. Falling back to slow reference implementation. Details:\n",
            "\n",
            "Traceback (most recent call last):\n",
            "  File \"c:\\Users\\jongm\\OneDrive - 광운대학교\\ProjecTS\\AID-AI-Design-1\\ai\\stylegan2_ada_pytorch\\torch_utils\\ops\\upfirdn2d.py\", line 32, in _init\n",
            "    _plugin = custom_ops.get_plugin('upfirdn2d_plugin', sources=sources, extra_cuda_cflags=['--use_fast_math'])\n",
            "  File \"c:\\Users\\jongm\\OneDrive - 광운대학교\\ProjecTS\\AID-AI-Design-1\\ai\\stylegan2_ada_pytorch\\torch_utils\\custom_ops.py\", line 110, in get_plugin\n",
            "    torch.utils.cpp_extension.load(name=module_name, verbose=verbose_build, sources=sources, **build_kwargs)\n",
            "  File \"C:\\Users\\jongm\\anaconda3\\envs\\torch_cu110\\lib\\site-packages\\torch\\utils\\cpp_extension.py\", line 986, in load\n",
            "    return _jit_compile(\n",
            "  File \"C:\\Users\\jongm\\anaconda3\\envs\\torch_cu110\\lib\\site-packages\\torch\\utils\\cpp_extension.py\", line 1213, in _jit_compile\n",
            "    return _import_module_from_library(name, build_directory, is_python_module)\n",
            "  File \"C:\\Users\\jongm\\anaconda3\\envs\\torch_cu110\\lib\\site-packages\\torch\\utils\\cpp_extension.py\", line 1560, in _import_module_from_library\n",
            "    file, path, description = imp.find_module(module_name, [path])\n",
            "  File \"C:\\Users\\jongm\\anaconda3\\envs\\torch_cu110\\lib\\imp.py\", line 296, in find_module\n",
            "    raise ImportError(_ERR_MSG.format(name), name=name)\n",
            "ImportError: No module named 'upfirdn2d_plugin'\n",
            "\n",
            "  warnings.warn('Failed to build CUDA kernels for upfirdn2d. Falling back to slow reference implementation. Details:\\n\\n' + traceback.format_exc())\n"
          ]
        },
        {
          "name": "stdout",
          "output_type": "stream",
          "text": [
            "Failed!\n"
          ]
        },
        {
          "name": "stderr",
          "output_type": "stream",
          "text": [
            "c:\\Users\\jongm\\OneDrive - 광운대학교\\ProjecTS\\AID-AI-Design-1\\ai\\stylegan2_ada_pytorch\\torch_utils\\ops\\upfirdn2d.py:34: UserWarning: Failed to build CUDA kernels for upfirdn2d. Falling back to slow reference implementation. Details:\n",
            "\n",
            "Traceback (most recent call last):\n",
            "  File \"c:\\Users\\jongm\\OneDrive - 광운대학교\\ProjecTS\\AID-AI-Design-1\\ai\\stylegan2_ada_pytorch\\torch_utils\\ops\\upfirdn2d.py\", line 32, in _init\n",
            "    _plugin = custom_ops.get_plugin('upfirdn2d_plugin', sources=sources, extra_cuda_cflags=['--use_fast_math'])\n",
            "  File \"c:\\Users\\jongm\\OneDrive - 광운대학교\\ProjecTS\\AID-AI-Design-1\\ai\\stylegan2_ada_pytorch\\torch_utils\\custom_ops.py\", line 110, in get_plugin\n",
            "    torch.utils.cpp_extension.load(name=module_name, verbose=verbose_build, sources=sources, **build_kwargs)\n",
            "  File \"C:\\Users\\jongm\\anaconda3\\envs\\torch_cu110\\lib\\site-packages\\torch\\utils\\cpp_extension.py\", line 986, in load\n",
            "    return _jit_compile(\n",
            "  File \"C:\\Users\\jongm\\anaconda3\\envs\\torch_cu110\\lib\\site-packages\\torch\\utils\\cpp_extension.py\", line 1213, in _jit_compile\n",
            "    return _import_module_from_library(name, build_directory, is_python_module)\n",
            "  File \"C:\\Users\\jongm\\anaconda3\\envs\\torch_cu110\\lib\\site-packages\\torch\\utils\\cpp_extension.py\", line 1560, in _import_module_from_library\n",
            "    file, path, description = imp.find_module(module_name, [path])\n",
            "  File \"C:\\Users\\jongm\\anaconda3\\envs\\torch_cu110\\lib\\imp.py\", line 296, in find_module\n",
            "    raise ImportError(_ERR_MSG.format(name), name=name)\n",
            "ImportError: No module named 'upfirdn2d_plugin'\n",
            "\n",
            "  warnings.warn('Failed to build CUDA kernels for upfirdn2d. Falling back to slow reference implementation. Details:\\n\\n' + traceback.format_exc())\n"
          ]
        },
        {
          "name": "stdout",
          "output_type": "stream",
          "text": [
            "Setting up PyTorch plugin \"upfirdn2d_plugin\"... Failed!\n",
            "Setting up PyTorch plugin \"upfirdn2d_plugin\"... "
          ]
        },
        {
          "name": "stderr",
          "output_type": "stream",
          "text": [
            "c:\\Users\\jongm\\OneDrive - 광운대학교\\ProjecTS\\AID-AI-Design-1\\ai\\stylegan2_ada_pytorch\\torch_utils\\ops\\upfirdn2d.py:34: UserWarning: Failed to build CUDA kernels for upfirdn2d. Falling back to slow reference implementation. Details:\n",
            "\n",
            "Traceback (most recent call last):\n",
            "  File \"c:\\Users\\jongm\\OneDrive - 광운대학교\\ProjecTS\\AID-AI-Design-1\\ai\\stylegan2_ada_pytorch\\torch_utils\\ops\\upfirdn2d.py\", line 32, in _init\n",
            "    _plugin = custom_ops.get_plugin('upfirdn2d_plugin', sources=sources, extra_cuda_cflags=['--use_fast_math'])\n",
            "  File \"c:\\Users\\jongm\\OneDrive - 광운대학교\\ProjecTS\\AID-AI-Design-1\\ai\\stylegan2_ada_pytorch\\torch_utils\\custom_ops.py\", line 110, in get_plugin\n",
            "    torch.utils.cpp_extension.load(name=module_name, verbose=verbose_build, sources=sources, **build_kwargs)\n",
            "  File \"C:\\Users\\jongm\\anaconda3\\envs\\torch_cu110\\lib\\site-packages\\torch\\utils\\cpp_extension.py\", line 986, in load\n",
            "    return _jit_compile(\n",
            "  File \"C:\\Users\\jongm\\anaconda3\\envs\\torch_cu110\\lib\\site-packages\\torch\\utils\\cpp_extension.py\", line 1213, in _jit_compile\n",
            "    return _import_module_from_library(name, build_directory, is_python_module)\n",
            "  File \"C:\\Users\\jongm\\anaconda3\\envs\\torch_cu110\\lib\\site-packages\\torch\\utils\\cpp_extension.py\", line 1560, in _import_module_from_library\n",
            "    file, path, description = imp.find_module(module_name, [path])\n",
            "  File \"C:\\Users\\jongm\\anaconda3\\envs\\torch_cu110\\lib\\imp.py\", line 296, in find_module\n",
            "    raise ImportError(_ERR_MSG.format(name), name=name)\n",
            "ImportError: No module named 'upfirdn2d_plugin'\n",
            "\n",
            "  warnings.warn('Failed to build CUDA kernels for upfirdn2d. Falling back to slow reference implementation. Details:\\n\\n' + traceback.format_exc())\n"
          ]
        },
        {
          "name": "stdout",
          "output_type": "stream",
          "text": [
            "Failed!\n",
            "Setting up PyTorch plugin \"upfirdn2d_plugin\"... "
          ]
        },
        {
          "name": "stderr",
          "output_type": "stream",
          "text": [
            "c:\\Users\\jongm\\OneDrive - 광운대학교\\ProjecTS\\AID-AI-Design-1\\ai\\stylegan2_ada_pytorch\\torch_utils\\ops\\upfirdn2d.py:34: UserWarning: Failed to build CUDA kernels for upfirdn2d. Falling back to slow reference implementation. Details:\n",
            "\n",
            "Traceback (most recent call last):\n",
            "  File \"c:\\Users\\jongm\\OneDrive - 광운대학교\\ProjecTS\\AID-AI-Design-1\\ai\\stylegan2_ada_pytorch\\torch_utils\\ops\\upfirdn2d.py\", line 32, in _init\n",
            "    _plugin = custom_ops.get_plugin('upfirdn2d_plugin', sources=sources, extra_cuda_cflags=['--use_fast_math'])\n",
            "  File \"c:\\Users\\jongm\\OneDrive - 광운대학교\\ProjecTS\\AID-AI-Design-1\\ai\\stylegan2_ada_pytorch\\torch_utils\\custom_ops.py\", line 110, in get_plugin\n",
            "    torch.utils.cpp_extension.load(name=module_name, verbose=verbose_build, sources=sources, **build_kwargs)\n",
            "  File \"C:\\Users\\jongm\\anaconda3\\envs\\torch_cu110\\lib\\site-packages\\torch\\utils\\cpp_extension.py\", line 986, in load\n",
            "    return _jit_compile(\n",
            "  File \"C:\\Users\\jongm\\anaconda3\\envs\\torch_cu110\\lib\\site-packages\\torch\\utils\\cpp_extension.py\", line 1213, in _jit_compile\n",
            "    return _import_module_from_library(name, build_directory, is_python_module)\n",
            "  File \"C:\\Users\\jongm\\anaconda3\\envs\\torch_cu110\\lib\\site-packages\\torch\\utils\\cpp_extension.py\", line 1560, in _import_module_from_library\n",
            "    file, path, description = imp.find_module(module_name, [path])\n",
            "  File \"C:\\Users\\jongm\\anaconda3\\envs\\torch_cu110\\lib\\imp.py\", line 296, in find_module\n",
            "    raise ImportError(_ERR_MSG.format(name), name=name)\n",
            "ImportError: No module named 'upfirdn2d_plugin'\n",
            "\n",
            "  warnings.warn('Failed to build CUDA kernels for upfirdn2d. Falling back to slow reference implementation. Details:\\n\\n' + traceback.format_exc())\n"
          ]
        },
        {
          "name": "stdout",
          "output_type": "stream",
          "text": [
            "Failed!\n",
            "Setting up PyTorch plugin \"upfirdn2d_plugin\"... Failed!\n"
          ]
        },
        {
          "name": "stderr",
          "output_type": "stream",
          "text": [
            "c:\\Users\\jongm\\OneDrive - 광운대학교\\ProjecTS\\AID-AI-Design-1\\ai\\stylegan2_ada_pytorch\\torch_utils\\ops\\upfirdn2d.py:34: UserWarning: Failed to build CUDA kernels for upfirdn2d. Falling back to slow reference implementation. Details:\n",
            "\n",
            "Traceback (most recent call last):\n",
            "  File \"c:\\Users\\jongm\\OneDrive - 광운대학교\\ProjecTS\\AID-AI-Design-1\\ai\\stylegan2_ada_pytorch\\torch_utils\\ops\\upfirdn2d.py\", line 32, in _init\n",
            "    _plugin = custom_ops.get_plugin('upfirdn2d_plugin', sources=sources, extra_cuda_cflags=['--use_fast_math'])\n",
            "  File \"c:\\Users\\jongm\\OneDrive - 광운대학교\\ProjecTS\\AID-AI-Design-1\\ai\\stylegan2_ada_pytorch\\torch_utils\\custom_ops.py\", line 110, in get_plugin\n",
            "    torch.utils.cpp_extension.load(name=module_name, verbose=verbose_build, sources=sources, **build_kwargs)\n",
            "  File \"C:\\Users\\jongm\\anaconda3\\envs\\torch_cu110\\lib\\site-packages\\torch\\utils\\cpp_extension.py\", line 986, in load\n",
            "    return _jit_compile(\n",
            "  File \"C:\\Users\\jongm\\anaconda3\\envs\\torch_cu110\\lib\\site-packages\\torch\\utils\\cpp_extension.py\", line 1213, in _jit_compile\n",
            "    return _import_module_from_library(name, build_directory, is_python_module)\n",
            "  File \"C:\\Users\\jongm\\anaconda3\\envs\\torch_cu110\\lib\\site-packages\\torch\\utils\\cpp_extension.py\", line 1560, in _import_module_from_library\n",
            "    file, path, description = imp.find_module(module_name, [path])\n",
            "  File \"C:\\Users\\jongm\\anaconda3\\envs\\torch_cu110\\lib\\imp.py\", line 296, in find_module\n",
            "    raise ImportError(_ERR_MSG.format(name), name=name)\n",
            "ImportError: No module named 'upfirdn2d_plugin'\n",
            "\n",
            "  warnings.warn('Failed to build CUDA kernels for upfirdn2d. Falling back to slow reference implementation. Details:\\n\\n' + traceback.format_exc())\n"
          ]
        },
        {
          "name": "stdout",
          "output_type": "stream",
          "text": [
            "Setting up PyTorch plugin \"upfirdn2d_plugin\"... Failed!\n"
          ]
        },
        {
          "name": "stderr",
          "output_type": "stream",
          "text": [
            "c:\\Users\\jongm\\OneDrive - 광운대학교\\ProjecTS\\AID-AI-Design-1\\ai\\stylegan2_ada_pytorch\\torch_utils\\ops\\upfirdn2d.py:34: UserWarning: Failed to build CUDA kernels for upfirdn2d. Falling back to slow reference implementation. Details:\n",
            "\n",
            "Traceback (most recent call last):\n",
            "  File \"c:\\Users\\jongm\\OneDrive - 광운대학교\\ProjecTS\\AID-AI-Design-1\\ai\\stylegan2_ada_pytorch\\torch_utils\\ops\\upfirdn2d.py\", line 32, in _init\n",
            "    _plugin = custom_ops.get_plugin('upfirdn2d_plugin', sources=sources, extra_cuda_cflags=['--use_fast_math'])\n",
            "  File \"c:\\Users\\jongm\\OneDrive - 광운대학교\\ProjecTS\\AID-AI-Design-1\\ai\\stylegan2_ada_pytorch\\torch_utils\\custom_ops.py\", line 110, in get_plugin\n",
            "    torch.utils.cpp_extension.load(name=module_name, verbose=verbose_build, sources=sources, **build_kwargs)\n",
            "  File \"C:\\Users\\jongm\\anaconda3\\envs\\torch_cu110\\lib\\site-packages\\torch\\utils\\cpp_extension.py\", line 986, in load\n",
            "    return _jit_compile(\n",
            "  File \"C:\\Users\\jongm\\anaconda3\\envs\\torch_cu110\\lib\\site-packages\\torch\\utils\\cpp_extension.py\", line 1213, in _jit_compile\n",
            "    return _import_module_from_library(name, build_directory, is_python_module)\n",
            "  File \"C:\\Users\\jongm\\anaconda3\\envs\\torch_cu110\\lib\\site-packages\\torch\\utils\\cpp_extension.py\", line 1560, in _import_module_from_library\n",
            "    file, path, description = imp.find_module(module_name, [path])\n",
            "  File \"C:\\Users\\jongm\\anaconda3\\envs\\torch_cu110\\lib\\imp.py\", line 296, in find_module\n",
            "    raise ImportError(_ERR_MSG.format(name), name=name)\n",
            "ImportError: No module named 'upfirdn2d_plugin'\n",
            "\n",
            "  warnings.warn('Failed to build CUDA kernels for upfirdn2d. Falling back to slow reference implementation. Details:\\n\\n' + traceback.format_exc())\n"
          ]
        },
        {
          "name": "stdout",
          "output_type": "stream",
          "text": [
            "Setting up PyTorch plugin \"upfirdn2d_plugin\"... "
          ]
        },
        {
          "name": "stderr",
          "output_type": "stream",
          "text": [
            "c:\\Users\\jongm\\OneDrive - 광운대학교\\ProjecTS\\AID-AI-Design-1\\ai\\stylegan2_ada_pytorch\\torch_utils\\ops\\upfirdn2d.py:34: UserWarning: Failed to build CUDA kernels for upfirdn2d. Falling back to slow reference implementation. Details:\n",
            "\n",
            "Traceback (most recent call last):\n",
            "  File \"c:\\Users\\jongm\\OneDrive - 광운대학교\\ProjecTS\\AID-AI-Design-1\\ai\\stylegan2_ada_pytorch\\torch_utils\\ops\\upfirdn2d.py\", line 32, in _init\n",
            "    _plugin = custom_ops.get_plugin('upfirdn2d_plugin', sources=sources, extra_cuda_cflags=['--use_fast_math'])\n",
            "  File \"c:\\Users\\jongm\\OneDrive - 광운대학교\\ProjecTS\\AID-AI-Design-1\\ai\\stylegan2_ada_pytorch\\torch_utils\\custom_ops.py\", line 110, in get_plugin\n",
            "    torch.utils.cpp_extension.load(name=module_name, verbose=verbose_build, sources=sources, **build_kwargs)\n",
            "  File \"C:\\Users\\jongm\\anaconda3\\envs\\torch_cu110\\lib\\site-packages\\torch\\utils\\cpp_extension.py\", line 986, in load\n",
            "    return _jit_compile(\n",
            "  File \"C:\\Users\\jongm\\anaconda3\\envs\\torch_cu110\\lib\\site-packages\\torch\\utils\\cpp_extension.py\", line 1213, in _jit_compile\n",
            "    return _import_module_from_library(name, build_directory, is_python_module)\n",
            "  File \"C:\\Users\\jongm\\anaconda3\\envs\\torch_cu110\\lib\\site-packages\\torch\\utils\\cpp_extension.py\", line 1560, in _import_module_from_library\n",
            "    file, path, description = imp.find_module(module_name, [path])\n",
            "  File \"C:\\Users\\jongm\\anaconda3\\envs\\torch_cu110\\lib\\imp.py\", line 296, in find_module\n",
            "    raise ImportError(_ERR_MSG.format(name), name=name)\n",
            "ImportError: No module named 'upfirdn2d_plugin'\n",
            "\n",
            "  warnings.warn('Failed to build CUDA kernels for upfirdn2d. Falling back to slow reference implementation. Details:\\n\\n' + traceback.format_exc())\n"
          ]
        },
        {
          "name": "stdout",
          "output_type": "stream",
          "text": [
            "Failed!\n",
            "Setting up PyTorch plugin \"upfirdn2d_plugin\"... "
          ]
        },
        {
          "name": "stderr",
          "output_type": "stream",
          "text": [
            "c:\\Users\\jongm\\OneDrive - 광운대학교\\ProjecTS\\AID-AI-Design-1\\ai\\stylegan2_ada_pytorch\\torch_utils\\ops\\upfirdn2d.py:34: UserWarning: Failed to build CUDA kernels for upfirdn2d. Falling back to slow reference implementation. Details:\n",
            "\n",
            "Traceback (most recent call last):\n",
            "  File \"c:\\Users\\jongm\\OneDrive - 광운대학교\\ProjecTS\\AID-AI-Design-1\\ai\\stylegan2_ada_pytorch\\torch_utils\\ops\\upfirdn2d.py\", line 32, in _init\n",
            "    _plugin = custom_ops.get_plugin('upfirdn2d_plugin', sources=sources, extra_cuda_cflags=['--use_fast_math'])\n",
            "  File \"c:\\Users\\jongm\\OneDrive - 광운대학교\\ProjecTS\\AID-AI-Design-1\\ai\\stylegan2_ada_pytorch\\torch_utils\\custom_ops.py\", line 110, in get_plugin\n",
            "    torch.utils.cpp_extension.load(name=module_name, verbose=verbose_build, sources=sources, **build_kwargs)\n",
            "  File \"C:\\Users\\jongm\\anaconda3\\envs\\torch_cu110\\lib\\site-packages\\torch\\utils\\cpp_extension.py\", line 986, in load\n",
            "    return _jit_compile(\n",
            "  File \"C:\\Users\\jongm\\anaconda3\\envs\\torch_cu110\\lib\\site-packages\\torch\\utils\\cpp_extension.py\", line 1213, in _jit_compile\n",
            "    return _import_module_from_library(name, build_directory, is_python_module)\n",
            "  File \"C:\\Users\\jongm\\anaconda3\\envs\\torch_cu110\\lib\\site-packages\\torch\\utils\\cpp_extension.py\", line 1560, in _import_module_from_library\n",
            "    file, path, description = imp.find_module(module_name, [path])\n",
            "  File \"C:\\Users\\jongm\\anaconda3\\envs\\torch_cu110\\lib\\imp.py\", line 296, in find_module\n",
            "    raise ImportError(_ERR_MSG.format(name), name=name)\n",
            "ImportError: No module named 'upfirdn2d_plugin'\n",
            "\n",
            "  warnings.warn('Failed to build CUDA kernels for upfirdn2d. Falling back to slow reference implementation. Details:\\n\\n' + traceback.format_exc())\n"
          ]
        },
        {
          "name": "stdout",
          "output_type": "stream",
          "text": [
            "Failed!\n",
            "Setting up PyTorch plugin \"upfirdn2d_plugin\"... Failed!\n",
            "Setting up PyTorch plugin \"upfirdn2d_plugin\"... "
          ]
        },
        {
          "name": "stderr",
          "output_type": "stream",
          "text": [
            "c:\\Users\\jongm\\OneDrive - 광운대학교\\ProjecTS\\AID-AI-Design-1\\ai\\stylegan2_ada_pytorch\\torch_utils\\ops\\upfirdn2d.py:34: UserWarning: Failed to build CUDA kernels for upfirdn2d. Falling back to slow reference implementation. Details:\n",
            "\n",
            "Traceback (most recent call last):\n",
            "  File \"c:\\Users\\jongm\\OneDrive - 광운대학교\\ProjecTS\\AID-AI-Design-1\\ai\\stylegan2_ada_pytorch\\torch_utils\\ops\\upfirdn2d.py\", line 32, in _init\n",
            "    _plugin = custom_ops.get_plugin('upfirdn2d_plugin', sources=sources, extra_cuda_cflags=['--use_fast_math'])\n",
            "  File \"c:\\Users\\jongm\\OneDrive - 광운대학교\\ProjecTS\\AID-AI-Design-1\\ai\\stylegan2_ada_pytorch\\torch_utils\\custom_ops.py\", line 110, in get_plugin\n",
            "    torch.utils.cpp_extension.load(name=module_name, verbose=verbose_build, sources=sources, **build_kwargs)\n",
            "  File \"C:\\Users\\jongm\\anaconda3\\envs\\torch_cu110\\lib\\site-packages\\torch\\utils\\cpp_extension.py\", line 986, in load\n",
            "    return _jit_compile(\n",
            "  File \"C:\\Users\\jongm\\anaconda3\\envs\\torch_cu110\\lib\\site-packages\\torch\\utils\\cpp_extension.py\", line 1213, in _jit_compile\n",
            "    return _import_module_from_library(name, build_directory, is_python_module)\n",
            "  File \"C:\\Users\\jongm\\anaconda3\\envs\\torch_cu110\\lib\\site-packages\\torch\\utils\\cpp_extension.py\", line 1560, in _import_module_from_library\n",
            "    file, path, description = imp.find_module(module_name, [path])\n",
            "  File \"C:\\Users\\jongm\\anaconda3\\envs\\torch_cu110\\lib\\imp.py\", line 296, in find_module\n",
            "    raise ImportError(_ERR_MSG.format(name), name=name)\n",
            "ImportError: No module named 'upfirdn2d_plugin'\n",
            "\n",
            "  warnings.warn('Failed to build CUDA kernels for upfirdn2d. Falling back to slow reference implementation. Details:\\n\\n' + traceback.format_exc())\n",
            "c:\\Users\\jongm\\OneDrive - 광운대학교\\ProjecTS\\AID-AI-Design-1\\ai\\stylegan2_ada_pytorch\\torch_utils\\ops\\upfirdn2d.py:34: UserWarning: Failed to build CUDA kernels for upfirdn2d. Falling back to slow reference implementation. Details:\n",
            "\n",
            "Traceback (most recent call last):\n",
            "  File \"c:\\Users\\jongm\\OneDrive - 광운대학교\\ProjecTS\\AID-AI-Design-1\\ai\\stylegan2_ada_pytorch\\torch_utils\\ops\\upfirdn2d.py\", line 32, in _init\n",
            "    _plugin = custom_ops.get_plugin('upfirdn2d_plugin', sources=sources, extra_cuda_cflags=['--use_fast_math'])\n",
            "  File \"c:\\Users\\jongm\\OneDrive - 광운대학교\\ProjecTS\\AID-AI-Design-1\\ai\\stylegan2_ada_pytorch\\torch_utils\\custom_ops.py\", line 110, in get_plugin\n",
            "    torch.utils.cpp_extension.load(name=module_name, verbose=verbose_build, sources=sources, **build_kwargs)\n",
            "  File \"C:\\Users\\jongm\\anaconda3\\envs\\torch_cu110\\lib\\site-packages\\torch\\utils\\cpp_extension.py\", line 986, in load\n",
            "    return _jit_compile(\n",
            "  File \"C:\\Users\\jongm\\anaconda3\\envs\\torch_cu110\\lib\\site-packages\\torch\\utils\\cpp_extension.py\", line 1213, in _jit_compile\n",
            "    return _import_module_from_library(name, build_directory, is_python_module)\n",
            "  File \"C:\\Users\\jongm\\anaconda3\\envs\\torch_cu110\\lib\\site-packages\\torch\\utils\\cpp_extension.py\", line 1560, in _import_module_from_library\n",
            "    file, path, description = imp.find_module(module_name, [path])\n",
            "  File \"C:\\Users\\jongm\\anaconda3\\envs\\torch_cu110\\lib\\imp.py\", line 296, in find_module\n",
            "    raise ImportError(_ERR_MSG.format(name), name=name)\n",
            "ImportError: No module named 'upfirdn2d_plugin'\n",
            "\n",
            "  warnings.warn('Failed to build CUDA kernels for upfirdn2d. Falling back to slow reference implementation. Details:\\n\\n' + traceback.format_exc())\n"
          ]
        },
        {
          "name": "stdout",
          "output_type": "stream",
          "text": [
            "Failed!\n",
            "Setting up PyTorch plugin \"upfirdn2d_plugin\"... "
          ]
        },
        {
          "name": "stderr",
          "output_type": "stream",
          "text": [
            "c:\\Users\\jongm\\OneDrive - 광운대학교\\ProjecTS\\AID-AI-Design-1\\ai\\stylegan2_ada_pytorch\\torch_utils\\ops\\upfirdn2d.py:34: UserWarning: Failed to build CUDA kernels for upfirdn2d. Falling back to slow reference implementation. Details:\n",
            "\n",
            "Traceback (most recent call last):\n",
            "  File \"c:\\Users\\jongm\\OneDrive - 광운대학교\\ProjecTS\\AID-AI-Design-1\\ai\\stylegan2_ada_pytorch\\torch_utils\\ops\\upfirdn2d.py\", line 32, in _init\n",
            "    _plugin = custom_ops.get_plugin('upfirdn2d_plugin', sources=sources, extra_cuda_cflags=['--use_fast_math'])\n",
            "  File \"c:\\Users\\jongm\\OneDrive - 광운대학교\\ProjecTS\\AID-AI-Design-1\\ai\\stylegan2_ada_pytorch\\torch_utils\\custom_ops.py\", line 110, in get_plugin\n",
            "    torch.utils.cpp_extension.load(name=module_name, verbose=verbose_build, sources=sources, **build_kwargs)\n",
            "  File \"C:\\Users\\jongm\\anaconda3\\envs\\torch_cu110\\lib\\site-packages\\torch\\utils\\cpp_extension.py\", line 986, in load\n",
            "    return _jit_compile(\n",
            "  File \"C:\\Users\\jongm\\anaconda3\\envs\\torch_cu110\\lib\\site-packages\\torch\\utils\\cpp_extension.py\", line 1213, in _jit_compile\n",
            "    return _import_module_from_library(name, build_directory, is_python_module)\n",
            "  File \"C:\\Users\\jongm\\anaconda3\\envs\\torch_cu110\\lib\\site-packages\\torch\\utils\\cpp_extension.py\", line 1560, in _import_module_from_library\n",
            "    file, path, description = imp.find_module(module_name, [path])\n",
            "  File \"C:\\Users\\jongm\\anaconda3\\envs\\torch_cu110\\lib\\imp.py\", line 296, in find_module\n",
            "    raise ImportError(_ERR_MSG.format(name), name=name)\n",
            "ImportError: No module named 'upfirdn2d_plugin'\n",
            "\n",
            "  warnings.warn('Failed to build CUDA kernels for upfirdn2d. Falling back to slow reference implementation. Details:\\n\\n' + traceback.format_exc())\n"
          ]
        },
        {
          "name": "stdout",
          "output_type": "stream",
          "text": [
            "Failed!\n",
            "Setting up PyTorch plugin \"upfirdn2d_plugin\"... "
          ]
        },
        {
          "name": "stderr",
          "output_type": "stream",
          "text": [
            "c:\\Users\\jongm\\OneDrive - 광운대학교\\ProjecTS\\AID-AI-Design-1\\ai\\stylegan2_ada_pytorch\\torch_utils\\ops\\upfirdn2d.py:34: UserWarning: Failed to build CUDA kernels for upfirdn2d. Falling back to slow reference implementation. Details:\n",
            "\n",
            "Traceback (most recent call last):\n",
            "  File \"c:\\Users\\jongm\\OneDrive - 광운대학교\\ProjecTS\\AID-AI-Design-1\\ai\\stylegan2_ada_pytorch\\torch_utils\\ops\\upfirdn2d.py\", line 32, in _init\n",
            "    _plugin = custom_ops.get_plugin('upfirdn2d_plugin', sources=sources, extra_cuda_cflags=['--use_fast_math'])\n",
            "  File \"c:\\Users\\jongm\\OneDrive - 광운대학교\\ProjecTS\\AID-AI-Design-1\\ai\\stylegan2_ada_pytorch\\torch_utils\\custom_ops.py\", line 110, in get_plugin\n",
            "    torch.utils.cpp_extension.load(name=module_name, verbose=verbose_build, sources=sources, **build_kwargs)\n",
            "  File \"C:\\Users\\jongm\\anaconda3\\envs\\torch_cu110\\lib\\site-packages\\torch\\utils\\cpp_extension.py\", line 986, in load\n",
            "    return _jit_compile(\n",
            "  File \"C:\\Users\\jongm\\anaconda3\\envs\\torch_cu110\\lib\\site-packages\\torch\\utils\\cpp_extension.py\", line 1213, in _jit_compile\n",
            "    return _import_module_from_library(name, build_directory, is_python_module)\n",
            "  File \"C:\\Users\\jongm\\anaconda3\\envs\\torch_cu110\\lib\\site-packages\\torch\\utils\\cpp_extension.py\", line 1560, in _import_module_from_library\n",
            "    file, path, description = imp.find_module(module_name, [path])\n",
            "  File \"C:\\Users\\jongm\\anaconda3\\envs\\torch_cu110\\lib\\imp.py\", line 296, in find_module\n",
            "    raise ImportError(_ERR_MSG.format(name), name=name)\n",
            "ImportError: No module named 'upfirdn2d_plugin'\n",
            "\n",
            "  warnings.warn('Failed to build CUDA kernels for upfirdn2d. Falling back to slow reference implementation. Details:\\n\\n' + traceback.format_exc())\n"
          ]
        },
        {
          "name": "stdout",
          "output_type": "stream",
          "text": [
            "Failed!\n",
            "Setting up PyTorch plugin \"upfirdn2d_plugin\"... "
          ]
        },
        {
          "name": "stderr",
          "output_type": "stream",
          "text": [
            "c:\\Users\\jongm\\OneDrive - 광운대학교\\ProjecTS\\AID-AI-Design-1\\ai\\stylegan2_ada_pytorch\\torch_utils\\ops\\upfirdn2d.py:34: UserWarning: Failed to build CUDA kernels for upfirdn2d. Falling back to slow reference implementation. Details:\n",
            "\n",
            "Traceback (most recent call last):\n",
            "  File \"c:\\Users\\jongm\\OneDrive - 광운대학교\\ProjecTS\\AID-AI-Design-1\\ai\\stylegan2_ada_pytorch\\torch_utils\\ops\\upfirdn2d.py\", line 32, in _init\n",
            "    _plugin = custom_ops.get_plugin('upfirdn2d_plugin', sources=sources, extra_cuda_cflags=['--use_fast_math'])\n",
            "  File \"c:\\Users\\jongm\\OneDrive - 광운대학교\\ProjecTS\\AID-AI-Design-1\\ai\\stylegan2_ada_pytorch\\torch_utils\\custom_ops.py\", line 110, in get_plugin\n",
            "    torch.utils.cpp_extension.load(name=module_name, verbose=verbose_build, sources=sources, **build_kwargs)\n",
            "  File \"C:\\Users\\jongm\\anaconda3\\envs\\torch_cu110\\lib\\site-packages\\torch\\utils\\cpp_extension.py\", line 986, in load\n",
            "    return _jit_compile(\n",
            "  File \"C:\\Users\\jongm\\anaconda3\\envs\\torch_cu110\\lib\\site-packages\\torch\\utils\\cpp_extension.py\", line 1213, in _jit_compile\n",
            "    return _import_module_from_library(name, build_directory, is_python_module)\n",
            "  File \"C:\\Users\\jongm\\anaconda3\\envs\\torch_cu110\\lib\\site-packages\\torch\\utils\\cpp_extension.py\", line 1560, in _import_module_from_library\n",
            "    file, path, description = imp.find_module(module_name, [path])\n",
            "  File \"C:\\Users\\jongm\\anaconda3\\envs\\torch_cu110\\lib\\imp.py\", line 296, in find_module\n",
            "    raise ImportError(_ERR_MSG.format(name), name=name)\n",
            "ImportError: No module named 'upfirdn2d_plugin'\n",
            "\n",
            "  warnings.warn('Failed to build CUDA kernels for upfirdn2d. Falling back to slow reference implementation. Details:\\n\\n' + traceback.format_exc())\n"
          ]
        },
        {
          "name": "stdout",
          "output_type": "stream",
          "text": [
            "Failed!\n",
            "Setting up PyTorch plugin \"upfirdn2d_plugin\"... "
          ]
        },
        {
          "name": "stderr",
          "output_type": "stream",
          "text": [
            "c:\\Users\\jongm\\OneDrive - 광운대학교\\ProjecTS\\AID-AI-Design-1\\ai\\stylegan2_ada_pytorch\\torch_utils\\ops\\upfirdn2d.py:34: UserWarning: Failed to build CUDA kernels for upfirdn2d. Falling back to slow reference implementation. Details:\n",
            "\n",
            "Traceback (most recent call last):\n",
            "  File \"c:\\Users\\jongm\\OneDrive - 광운대학교\\ProjecTS\\AID-AI-Design-1\\ai\\stylegan2_ada_pytorch\\torch_utils\\ops\\upfirdn2d.py\", line 32, in _init\n",
            "    _plugin = custom_ops.get_plugin('upfirdn2d_plugin', sources=sources, extra_cuda_cflags=['--use_fast_math'])\n",
            "  File \"c:\\Users\\jongm\\OneDrive - 광운대학교\\ProjecTS\\AID-AI-Design-1\\ai\\stylegan2_ada_pytorch\\torch_utils\\custom_ops.py\", line 110, in get_plugin\n",
            "    torch.utils.cpp_extension.load(name=module_name, verbose=verbose_build, sources=sources, **build_kwargs)\n",
            "  File \"C:\\Users\\jongm\\anaconda3\\envs\\torch_cu110\\lib\\site-packages\\torch\\utils\\cpp_extension.py\", line 986, in load\n",
            "    return _jit_compile(\n",
            "  File \"C:\\Users\\jongm\\anaconda3\\envs\\torch_cu110\\lib\\site-packages\\torch\\utils\\cpp_extension.py\", line 1213, in _jit_compile\n",
            "    return _import_module_from_library(name, build_directory, is_python_module)\n",
            "  File \"C:\\Users\\jongm\\anaconda3\\envs\\torch_cu110\\lib\\site-packages\\torch\\utils\\cpp_extension.py\", line 1560, in _import_module_from_library\n",
            "    file, path, description = imp.find_module(module_name, [path])\n",
            "  File \"C:\\Users\\jongm\\anaconda3\\envs\\torch_cu110\\lib\\imp.py\", line 296, in find_module\n",
            "    raise ImportError(_ERR_MSG.format(name), name=name)\n",
            "ImportError: No module named 'upfirdn2d_plugin'\n",
            "\n",
            "  warnings.warn('Failed to build CUDA kernels for upfirdn2d. Falling back to slow reference implementation. Details:\\n\\n' + traceback.format_exc())\n"
          ]
        },
        {
          "name": "stdout",
          "output_type": "stream",
          "text": [
            "Failed!\n",
            "Setting up PyTorch plugin \"upfirdn2d_plugin\"... "
          ]
        },
        {
          "name": "stderr",
          "output_type": "stream",
          "text": [
            "c:\\Users\\jongm\\OneDrive - 광운대학교\\ProjecTS\\AID-AI-Design-1\\ai\\stylegan2_ada_pytorch\\torch_utils\\ops\\upfirdn2d.py:34: UserWarning: Failed to build CUDA kernels for upfirdn2d. Falling back to slow reference implementation. Details:\n",
            "\n",
            "Traceback (most recent call last):\n",
            "  File \"c:\\Users\\jongm\\OneDrive - 광운대학교\\ProjecTS\\AID-AI-Design-1\\ai\\stylegan2_ada_pytorch\\torch_utils\\ops\\upfirdn2d.py\", line 32, in _init\n",
            "    _plugin = custom_ops.get_plugin('upfirdn2d_plugin', sources=sources, extra_cuda_cflags=['--use_fast_math'])\n",
            "  File \"c:\\Users\\jongm\\OneDrive - 광운대학교\\ProjecTS\\AID-AI-Design-1\\ai\\stylegan2_ada_pytorch\\torch_utils\\custom_ops.py\", line 110, in get_plugin\n",
            "    torch.utils.cpp_extension.load(name=module_name, verbose=verbose_build, sources=sources, **build_kwargs)\n",
            "  File \"C:\\Users\\jongm\\anaconda3\\envs\\torch_cu110\\lib\\site-packages\\torch\\utils\\cpp_extension.py\", line 986, in load\n",
            "    return _jit_compile(\n",
            "  File \"C:\\Users\\jongm\\anaconda3\\envs\\torch_cu110\\lib\\site-packages\\torch\\utils\\cpp_extension.py\", line 1213, in _jit_compile\n",
            "    return _import_module_from_library(name, build_directory, is_python_module)\n",
            "  File \"C:\\Users\\jongm\\anaconda3\\envs\\torch_cu110\\lib\\site-packages\\torch\\utils\\cpp_extension.py\", line 1560, in _import_module_from_library\n",
            "    file, path, description = imp.find_module(module_name, [path])\n",
            "  File \"C:\\Users\\jongm\\anaconda3\\envs\\torch_cu110\\lib\\imp.py\", line 296, in find_module\n",
            "    raise ImportError(_ERR_MSG.format(name), name=name)\n",
            "ImportError: No module named 'upfirdn2d_plugin'\n",
            "\n",
            "  warnings.warn('Failed to build CUDA kernels for upfirdn2d. Falling back to slow reference implementation. Details:\\n\\n' + traceback.format_exc())\n"
          ]
        },
        {
          "name": "stdout",
          "output_type": "stream",
          "text": [
            "Failed!\n",
            "Setting up PyTorch plugin \"upfirdn2d_plugin\"... "
          ]
        },
        {
          "name": "stderr",
          "output_type": "stream",
          "text": [
            "c:\\Users\\jongm\\OneDrive - 광운대학교\\ProjecTS\\AID-AI-Design-1\\ai\\stylegan2_ada_pytorch\\torch_utils\\ops\\upfirdn2d.py:34: UserWarning: Failed to build CUDA kernels for upfirdn2d. Falling back to slow reference implementation. Details:\n",
            "\n",
            "Traceback (most recent call last):\n",
            "  File \"c:\\Users\\jongm\\OneDrive - 광운대학교\\ProjecTS\\AID-AI-Design-1\\ai\\stylegan2_ada_pytorch\\torch_utils\\ops\\upfirdn2d.py\", line 32, in _init\n",
            "    _plugin = custom_ops.get_plugin('upfirdn2d_plugin', sources=sources, extra_cuda_cflags=['--use_fast_math'])\n",
            "  File \"c:\\Users\\jongm\\OneDrive - 광운대학교\\ProjecTS\\AID-AI-Design-1\\ai\\stylegan2_ada_pytorch\\torch_utils\\custom_ops.py\", line 110, in get_plugin\n",
            "    torch.utils.cpp_extension.load(name=module_name, verbose=verbose_build, sources=sources, **build_kwargs)\n",
            "  File \"C:\\Users\\jongm\\anaconda3\\envs\\torch_cu110\\lib\\site-packages\\torch\\utils\\cpp_extension.py\", line 986, in load\n",
            "    return _jit_compile(\n",
            "  File \"C:\\Users\\jongm\\anaconda3\\envs\\torch_cu110\\lib\\site-packages\\torch\\utils\\cpp_extension.py\", line 1213, in _jit_compile\n",
            "    return _import_module_from_library(name, build_directory, is_python_module)\n",
            "  File \"C:\\Users\\jongm\\anaconda3\\envs\\torch_cu110\\lib\\site-packages\\torch\\utils\\cpp_extension.py\", line 1560, in _import_module_from_library\n",
            "    file, path, description = imp.find_module(module_name, [path])\n",
            "  File \"C:\\Users\\jongm\\anaconda3\\envs\\torch_cu110\\lib\\imp.py\", line 296, in find_module\n",
            "    raise ImportError(_ERR_MSG.format(name), name=name)\n",
            "ImportError: No module named 'upfirdn2d_plugin'\n",
            "\n",
            "  warnings.warn('Failed to build CUDA kernels for upfirdn2d. Falling back to slow reference implementation. Details:\\n\\n' + traceback.format_exc())\n"
          ]
        },
        {
          "name": "stdout",
          "output_type": "stream",
          "text": [
            "Failed!\n",
            "Setting up PyTorch plugin \"upfirdn2d_plugin\"... "
          ]
        },
        {
          "name": "stderr",
          "output_type": "stream",
          "text": [
            "c:\\Users\\jongm\\OneDrive - 광운대학교\\ProjecTS\\AID-AI-Design-1\\ai\\stylegan2_ada_pytorch\\torch_utils\\ops\\upfirdn2d.py:34: UserWarning: Failed to build CUDA kernels for upfirdn2d. Falling back to slow reference implementation. Details:\n",
            "\n",
            "Traceback (most recent call last):\n",
            "  File \"c:\\Users\\jongm\\OneDrive - 광운대학교\\ProjecTS\\AID-AI-Design-1\\ai\\stylegan2_ada_pytorch\\torch_utils\\ops\\upfirdn2d.py\", line 32, in _init\n",
            "    _plugin = custom_ops.get_plugin('upfirdn2d_plugin', sources=sources, extra_cuda_cflags=['--use_fast_math'])\n",
            "  File \"c:\\Users\\jongm\\OneDrive - 광운대학교\\ProjecTS\\AID-AI-Design-1\\ai\\stylegan2_ada_pytorch\\torch_utils\\custom_ops.py\", line 110, in get_plugin\n",
            "    torch.utils.cpp_extension.load(name=module_name, verbose=verbose_build, sources=sources, **build_kwargs)\n",
            "  File \"C:\\Users\\jongm\\anaconda3\\envs\\torch_cu110\\lib\\site-packages\\torch\\utils\\cpp_extension.py\", line 986, in load\n",
            "    return _jit_compile(\n",
            "  File \"C:\\Users\\jongm\\anaconda3\\envs\\torch_cu110\\lib\\site-packages\\torch\\utils\\cpp_extension.py\", line 1213, in _jit_compile\n",
            "    return _import_module_from_library(name, build_directory, is_python_module)\n",
            "  File \"C:\\Users\\jongm\\anaconda3\\envs\\torch_cu110\\lib\\site-packages\\torch\\utils\\cpp_extension.py\", line 1560, in _import_module_from_library\n",
            "    file, path, description = imp.find_module(module_name, [path])\n",
            "  File \"C:\\Users\\jongm\\anaconda3\\envs\\torch_cu110\\lib\\imp.py\", line 296, in find_module\n",
            "    raise ImportError(_ERR_MSG.format(name), name=name)\n",
            "ImportError: No module named 'upfirdn2d_plugin'\n",
            "\n",
            "  warnings.warn('Failed to build CUDA kernels for upfirdn2d. Falling back to slow reference implementation. Details:\\n\\n' + traceback.format_exc())\n"
          ]
        },
        {
          "name": "stdout",
          "output_type": "stream",
          "text": [
            "Failed!\n",
            "Setting up PyTorch plugin \"upfirdn2d_plugin\"... "
          ]
        },
        {
          "name": "stderr",
          "output_type": "stream",
          "text": [
            "c:\\Users\\jongm\\OneDrive - 광운대학교\\ProjecTS\\AID-AI-Design-1\\ai\\stylegan2_ada_pytorch\\torch_utils\\ops\\upfirdn2d.py:34: UserWarning: Failed to build CUDA kernels for upfirdn2d. Falling back to slow reference implementation. Details:\n",
            "\n",
            "Traceback (most recent call last):\n",
            "  File \"c:\\Users\\jongm\\OneDrive - 광운대학교\\ProjecTS\\AID-AI-Design-1\\ai\\stylegan2_ada_pytorch\\torch_utils\\ops\\upfirdn2d.py\", line 32, in _init\n",
            "    _plugin = custom_ops.get_plugin('upfirdn2d_plugin', sources=sources, extra_cuda_cflags=['--use_fast_math'])\n",
            "  File \"c:\\Users\\jongm\\OneDrive - 광운대학교\\ProjecTS\\AID-AI-Design-1\\ai\\stylegan2_ada_pytorch\\torch_utils\\custom_ops.py\", line 110, in get_plugin\n",
            "    torch.utils.cpp_extension.load(name=module_name, verbose=verbose_build, sources=sources, **build_kwargs)\n",
            "  File \"C:\\Users\\jongm\\anaconda3\\envs\\torch_cu110\\lib\\site-packages\\torch\\utils\\cpp_extension.py\", line 986, in load\n",
            "    return _jit_compile(\n",
            "  File \"C:\\Users\\jongm\\anaconda3\\envs\\torch_cu110\\lib\\site-packages\\torch\\utils\\cpp_extension.py\", line 1213, in _jit_compile\n",
            "    return _import_module_from_library(name, build_directory, is_python_module)\n",
            "  File \"C:\\Users\\jongm\\anaconda3\\envs\\torch_cu110\\lib\\site-packages\\torch\\utils\\cpp_extension.py\", line 1560, in _import_module_from_library\n",
            "    file, path, description = imp.find_module(module_name, [path])\n",
            "  File \"C:\\Users\\jongm\\anaconda3\\envs\\torch_cu110\\lib\\imp.py\", line 296, in find_module\n",
            "    raise ImportError(_ERR_MSG.format(name), name=name)\n",
            "ImportError: No module named 'upfirdn2d_plugin'\n",
            "\n",
            "  warnings.warn('Failed to build CUDA kernels for upfirdn2d. Falling back to slow reference implementation. Details:\\n\\n' + traceback.format_exc())\n"
          ]
        },
        {
          "name": "stdout",
          "output_type": "stream",
          "text": [
            "Failed!\n",
            "Saving images...\n"
          ]
        },
        {
          "name": "stderr",
          "output_type": "stream",
          "text": [
            "c:\\Users\\jongm\\OneDrive - 광운대학교\\ProjecTS\\AID-AI-Design-1\\ai\\stylegan2_ada_pytorch\\torch_utils\\ops\\upfirdn2d.py:34: UserWarning: Failed to build CUDA kernels for upfirdn2d. Falling back to slow reference implementation. Details:\n",
            "\n",
            "Traceback (most recent call last):\n",
            "  File \"c:\\Users\\jongm\\OneDrive - 광운대학교\\ProjecTS\\AID-AI-Design-1\\ai\\stylegan2_ada_pytorch\\torch_utils\\ops\\upfirdn2d.py\", line 32, in _init\n",
            "    _plugin = custom_ops.get_plugin('upfirdn2d_plugin', sources=sources, extra_cuda_cflags=['--use_fast_math'])\n",
            "  File \"c:\\Users\\jongm\\OneDrive - 광운대학교\\ProjecTS\\AID-AI-Design-1\\ai\\stylegan2_ada_pytorch\\torch_utils\\custom_ops.py\", line 110, in get_plugin\n",
            "    torch.utils.cpp_extension.load(name=module_name, verbose=verbose_build, sources=sources, **build_kwargs)\n",
            "  File \"C:\\Users\\jongm\\anaconda3\\envs\\torch_cu110\\lib\\site-packages\\torch\\utils\\cpp_extension.py\", line 986, in load\n",
            "    return _jit_compile(\n",
            "  File \"C:\\Users\\jongm\\anaconda3\\envs\\torch_cu110\\lib\\site-packages\\torch\\utils\\cpp_extension.py\", line 1213, in _jit_compile\n",
            "    return _import_module_from_library(name, build_directory, is_python_module)\n",
            "  File \"C:\\Users\\jongm\\anaconda3\\envs\\torch_cu110\\lib\\site-packages\\torch\\utils\\cpp_extension.py\", line 1560, in _import_module_from_library\n",
            "    file, path, description = imp.find_module(module_name, [path])\n",
            "  File \"C:\\Users\\jongm\\anaconda3\\envs\\torch_cu110\\lib\\imp.py\", line 296, in find_module\n",
            "    raise ImportError(_ERR_MSG.format(name), name=name)\n",
            "ImportError: No module named 'upfirdn2d_plugin'\n",
            "\n",
            "  warnings.warn('Failed to build CUDA kernels for upfirdn2d. Falling back to slow reference implementation. Details:\\n\\n' + traceback.format_exc())\n"
          ]
        },
        {
          "name": "stdout",
          "output_type": "stream",
          "text": [
            "Saving image grid...\n"
          ]
        }
      ],
      "source": [
        "#예시 실행 코드\n",
        "generate_style_mix('../model/network-snapshot-000040.pkl', [1,2], [1,2])"
      ]
    }
  ],
  "metadata": {
    "accelerator": "GPU",
    "colab": {
      "collapsed_sections": [],
      "name": "colab_gan_train.ipynb",
      "provenance": []
    },
    "kernelspec": {
      "display_name": "Python 3 (ipykernel)",
      "language": "python",
      "name": "python3"
    },
    "language_info": {
      "codemirror_mode": {
        "name": "ipython",
        "version": 3
      },
      "file_extension": ".py",
      "mimetype": "text/x-python",
      "name": "python",
      "nbconvert_exporter": "python",
      "pygments_lexer": "ipython3",
      "version": "3.8.0"
    },
    "widgets": {
      "application/vnd.jupyter.widget-state+json": {
        "03a0e35b991e4e7da62aedee8a9fd519": {
          "model_module": "@jupyter-widgets/controls",
          "model_module_version": "1.5.0",
          "model_name": "HTMLModel",
          "state": {
            "_dom_classes": [],
            "_model_module": "@jupyter-widgets/controls",
            "_model_module_version": "1.5.0",
            "_model_name": "HTMLModel",
            "_view_count": null,
            "_view_module": "@jupyter-widgets/controls",
            "_view_module_version": "1.5.0",
            "_view_name": "HTMLView",
            "description": "",
            "description_tooltip": null,
            "layout": "IPY_MODEL_daadde549b274b73b83f252dea5d9d12",
            "placeholder": "​",
            "style": "IPY_MODEL_daf8834707cd47fba1f46528976d2853",
            "value": "100%"
          }
        },
        "041b30e269194c69a47cea82c08fe066": {
          "model_module": "@jupyter-widgets/controls",
          "model_module_version": "1.5.0",
          "model_name": "HBoxModel",
          "state": {
            "_dom_classes": [],
            "_model_module": "@jupyter-widgets/controls",
            "_model_module_version": "1.5.0",
            "_model_name": "HBoxModel",
            "_view_count": null,
            "_view_module": "@jupyter-widgets/controls",
            "_view_module_version": "1.5.0",
            "_view_name": "HBoxView",
            "box_style": "",
            "children": [
              "IPY_MODEL_03a0e35b991e4e7da62aedee8a9fd519",
              "IPY_MODEL_e781b9b41b174f40b444ac05c1ffc077",
              "IPY_MODEL_3fd93ee23ad54802ab6288f9115437c0"
            ],
            "layout": "IPY_MODEL_fbd7fbc174c14b7883a66ee102125e86"
          }
        },
        "09cb4d7533534d99866c36d0f92d9089": {
          "model_module": "@jupyter-widgets/controls",
          "model_module_version": "1.5.0",
          "model_name": "DescriptionStyleModel",
          "state": {
            "_model_module": "@jupyter-widgets/controls",
            "_model_module_version": "1.5.0",
            "_model_name": "DescriptionStyleModel",
            "_view_count": null,
            "_view_module": "@jupyter-widgets/base",
            "_view_module_version": "1.2.0",
            "_view_name": "StyleView",
            "description_width": ""
          }
        },
        "3fd93ee23ad54802ab6288f9115437c0": {
          "model_module": "@jupyter-widgets/controls",
          "model_module_version": "1.5.0",
          "model_name": "HTMLModel",
          "state": {
            "_dom_classes": [],
            "_model_module": "@jupyter-widgets/controls",
            "_model_module_version": "1.5.0",
            "_model_name": "HTMLModel",
            "_view_count": null,
            "_view_module": "@jupyter-widgets/controls",
            "_view_module_version": "1.5.0",
            "_view_name": "HTMLView",
            "description": "",
            "description_tooltip": null,
            "layout": "IPY_MODEL_ff06a4db4d0849ceaaea97b88252c7ac",
            "placeholder": "​",
            "style": "IPY_MODEL_09cb4d7533534d99866c36d0f92d9089",
            "value": " 5/5 [00:00&lt;00:00, 63.05it/s]"
          }
        },
        "81cefec65c044c738a2e4578afb4c715": {
          "model_module": "@jupyter-widgets/controls",
          "model_module_version": "1.5.0",
          "model_name": "ProgressStyleModel",
          "state": {
            "_model_module": "@jupyter-widgets/controls",
            "_model_module_version": "1.5.0",
            "_model_name": "ProgressStyleModel",
            "_view_count": null,
            "_view_module": "@jupyter-widgets/base",
            "_view_module_version": "1.2.0",
            "_view_name": "StyleView",
            "bar_color": null,
            "description_width": ""
          }
        },
        "daadde549b274b73b83f252dea5d9d12": {
          "model_module": "@jupyter-widgets/base",
          "model_module_version": "1.2.0",
          "model_name": "LayoutModel",
          "state": {
            "_model_module": "@jupyter-widgets/base",
            "_model_module_version": "1.2.0",
            "_model_name": "LayoutModel",
            "_view_count": null,
            "_view_module": "@jupyter-widgets/base",
            "_view_module_version": "1.2.0",
            "_view_name": "LayoutView",
            "align_content": null,
            "align_items": null,
            "align_self": null,
            "border": null,
            "bottom": null,
            "display": null,
            "flex": null,
            "flex_flow": null,
            "grid_area": null,
            "grid_auto_columns": null,
            "grid_auto_flow": null,
            "grid_auto_rows": null,
            "grid_column": null,
            "grid_gap": null,
            "grid_row": null,
            "grid_template_areas": null,
            "grid_template_columns": null,
            "grid_template_rows": null,
            "height": null,
            "justify_content": null,
            "justify_items": null,
            "left": null,
            "margin": null,
            "max_height": null,
            "max_width": null,
            "min_height": null,
            "min_width": null,
            "object_fit": null,
            "object_position": null,
            "order": null,
            "overflow": null,
            "overflow_x": null,
            "overflow_y": null,
            "padding": null,
            "right": null,
            "top": null,
            "visibility": null,
            "width": null
          }
        },
        "daf8834707cd47fba1f46528976d2853": {
          "model_module": "@jupyter-widgets/controls",
          "model_module_version": "1.5.0",
          "model_name": "DescriptionStyleModel",
          "state": {
            "_model_module": "@jupyter-widgets/controls",
            "_model_module_version": "1.5.0",
            "_model_name": "DescriptionStyleModel",
            "_view_count": null,
            "_view_module": "@jupyter-widgets/base",
            "_view_module_version": "1.2.0",
            "_view_name": "StyleView",
            "description_width": ""
          }
        },
        "dbfc03d598f04b50b6845ae0153b1e62": {
          "model_module": "@jupyter-widgets/base",
          "model_module_version": "1.2.0",
          "model_name": "LayoutModel",
          "state": {
            "_model_module": "@jupyter-widgets/base",
            "_model_module_version": "1.2.0",
            "_model_name": "LayoutModel",
            "_view_count": null,
            "_view_module": "@jupyter-widgets/base",
            "_view_module_version": "1.2.0",
            "_view_name": "LayoutView",
            "align_content": null,
            "align_items": null,
            "align_self": null,
            "border": null,
            "bottom": null,
            "display": null,
            "flex": null,
            "flex_flow": null,
            "grid_area": null,
            "grid_auto_columns": null,
            "grid_auto_flow": null,
            "grid_auto_rows": null,
            "grid_column": null,
            "grid_gap": null,
            "grid_row": null,
            "grid_template_areas": null,
            "grid_template_columns": null,
            "grid_template_rows": null,
            "height": null,
            "justify_content": null,
            "justify_items": null,
            "left": null,
            "margin": null,
            "max_height": null,
            "max_width": null,
            "min_height": null,
            "min_width": null,
            "object_fit": null,
            "object_position": null,
            "order": null,
            "overflow": null,
            "overflow_x": null,
            "overflow_y": null,
            "padding": null,
            "right": null,
            "top": null,
            "visibility": null,
            "width": null
          }
        },
        "e781b9b41b174f40b444ac05c1ffc077": {
          "model_module": "@jupyter-widgets/controls",
          "model_module_version": "1.5.0",
          "model_name": "FloatProgressModel",
          "state": {
            "_dom_classes": [],
            "_model_module": "@jupyter-widgets/controls",
            "_model_module_version": "1.5.0",
            "_model_name": "FloatProgressModel",
            "_view_count": null,
            "_view_module": "@jupyter-widgets/controls",
            "_view_module_version": "1.5.0",
            "_view_name": "ProgressView",
            "bar_style": "success",
            "description": "",
            "description_tooltip": null,
            "layout": "IPY_MODEL_dbfc03d598f04b50b6845ae0153b1e62",
            "max": 5,
            "min": 0,
            "orientation": "horizontal",
            "style": "IPY_MODEL_81cefec65c044c738a2e4578afb4c715",
            "value": 5
          }
        },
        "fbd7fbc174c14b7883a66ee102125e86": {
          "model_module": "@jupyter-widgets/base",
          "model_module_version": "1.2.0",
          "model_name": "LayoutModel",
          "state": {
            "_model_module": "@jupyter-widgets/base",
            "_model_module_version": "1.2.0",
            "_model_name": "LayoutModel",
            "_view_count": null,
            "_view_module": "@jupyter-widgets/base",
            "_view_module_version": "1.2.0",
            "_view_name": "LayoutView",
            "align_content": null,
            "align_items": null,
            "align_self": null,
            "border": null,
            "bottom": null,
            "display": null,
            "flex": null,
            "flex_flow": null,
            "grid_area": null,
            "grid_auto_columns": null,
            "grid_auto_flow": null,
            "grid_auto_rows": null,
            "grid_column": null,
            "grid_gap": null,
            "grid_row": null,
            "grid_template_areas": null,
            "grid_template_columns": null,
            "grid_template_rows": null,
            "height": null,
            "justify_content": null,
            "justify_items": null,
            "left": null,
            "margin": null,
            "max_height": null,
            "max_width": null,
            "min_height": null,
            "min_width": null,
            "object_fit": null,
            "object_position": null,
            "order": null,
            "overflow": null,
            "overflow_x": null,
            "overflow_y": null,
            "padding": null,
            "right": null,
            "top": null,
            "visibility": null,
            "width": null
          }
        },
        "ff06a4db4d0849ceaaea97b88252c7ac": {
          "model_module": "@jupyter-widgets/base",
          "model_module_version": "1.2.0",
          "model_name": "LayoutModel",
          "state": {
            "_model_module": "@jupyter-widgets/base",
            "_model_module_version": "1.2.0",
            "_model_name": "LayoutModel",
            "_view_count": null,
            "_view_module": "@jupyter-widgets/base",
            "_view_module_version": "1.2.0",
            "_view_name": "LayoutView",
            "align_content": null,
            "align_items": null,
            "align_self": null,
            "border": null,
            "bottom": null,
            "display": null,
            "flex": null,
            "flex_flow": null,
            "grid_area": null,
            "grid_auto_columns": null,
            "grid_auto_flow": null,
            "grid_auto_rows": null,
            "grid_column": null,
            "grid_gap": null,
            "grid_row": null,
            "grid_template_areas": null,
            "grid_template_columns": null,
            "grid_template_rows": null,
            "height": null,
            "justify_content": null,
            "justify_items": null,
            "left": null,
            "margin": null,
            "max_height": null,
            "max_width": null,
            "min_height": null,
            "min_width": null,
            "object_fit": null,
            "object_position": null,
            "order": null,
            "overflow": null,
            "overflow_x": null,
            "overflow_y": null,
            "padding": null,
            "right": null,
            "top": null,
            "visibility": null,
            "width": null
          }
        }
      }
    }
  },
  "nbformat": 4,
  "nbformat_minor": 0
}
